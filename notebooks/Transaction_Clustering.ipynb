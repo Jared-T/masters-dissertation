{
 "cells": [
  {
   "cell_type": "markdown",
   "metadata": {},
   "source": [
    "# Prepare the data"
   ]
  },
  {
   "cell_type": "code",
   "execution_count": 83,
   "metadata": {},
   "outputs": [],
   "source": [
    "from sklearn.cluster import AgglomerativeClustering\n",
    "import numpy as np\n",
    "import matplotlib.pyplot as plt\n",
    "from scipy.cluster.hierarchy import dendrogram, linkage\n",
    "from sklearn.metrics.pairwise import euclidean_distances\n",
    "from sklearn.preprocessing import StandardScaler\n",
    "from sklearn.cluster import KMeans\n",
    "import pandas as pd\n",
    "import os\n",
    "\n",
    "# Read in the dataset\n",
    "trans_df = pd.read_csv(os.path.join(\"..\", \"data\", \"Final for clustering.csv\"))"
   ]
  },
  {
   "cell_type": "code",
   "execution_count": 84,
   "metadata": {},
   "outputs": [
    {
     "data": {
      "text/plain": [
       "Index(['Transaction Date', 'REG_NUM', 'Merchant Name', 'No. of Litres',\n",
       "       'Transaction Amount', 'VEHICLE MAKE', 'MODEL DERIVATIVE', 'DEPARTMENT',\n",
       "       'RATE CARD CATEGORY', 'Site', 'District', 'Site Lat', 'Site Long',\n",
       "       'Merchant Lat', 'Merchant Long', 'Fuel Type',\n",
       "       'Estimated Price Per Litre', 'Coastal Petrol', 'Inland Petrol',\n",
       "       'Coastal Diesel', 'Inland Diesel', 'Month Name', 'Weekday Name'],\n",
       "      dtype='object')"
      ]
     },
     "execution_count": 84,
     "metadata": {},
     "output_type": "execute_result"
    }
   ],
   "source": [
    "trans_df.columns"
   ]
  },
  {
   "cell_type": "code",
   "execution_count": 85,
   "metadata": {},
   "outputs": [
    {
     "data": {
      "text/plain": [
       "(175933, 23)"
      ]
     },
     "execution_count": 85,
     "metadata": {},
     "output_type": "execute_result"
    }
   ],
   "source": [
    "trans_df.shape"
   ]
  },
  {
   "cell_type": "code",
   "execution_count": 86,
   "metadata": {},
   "outputs": [],
   "source": [
    "# Create a new column called fuel price that stores the value from Coastal Petrol if the Fuel Type is Petrol and Coastal Diesel if the Fuel Type is Diesel\n",
    "trans_df['Fuel Price'] = trans_df.apply(lambda row: row['Coastal Petrol'] if row['Fuel Type'] == 'Petrol' else row['Coastal Diesel'], axis=1)"
   ]
  },
  {
   "cell_type": "code",
   "execution_count": 87,
   "metadata": {},
   "outputs": [
    {
     "data": {
      "text/html": [
       "<div>\n",
       "<style scoped>\n",
       "    .dataframe tbody tr th:only-of-type {\n",
       "        vertical-align: middle;\n",
       "    }\n",
       "\n",
       "    .dataframe tbody tr th {\n",
       "        vertical-align: top;\n",
       "    }\n",
       "\n",
       "    .dataframe thead th {\n",
       "        text-align: right;\n",
       "    }\n",
       "</style>\n",
       "<table border=\"1\" class=\"dataframe\">\n",
       "  <thead>\n",
       "    <tr style=\"text-align: right;\">\n",
       "      <th></th>\n",
       "      <th>Fuel Type</th>\n",
       "      <th>Fuel Price</th>\n",
       "      <th>Coastal Petrol</th>\n",
       "      <th>Coastal Diesel</th>\n",
       "    </tr>\n",
       "  </thead>\n",
       "  <tbody>\n",
       "    <tr>\n",
       "      <th>81365</th>\n",
       "      <td>Petrol</td>\n",
       "      <td>17.5800</td>\n",
       "      <td>17.58</td>\n",
       "      <td>15.0270</td>\n",
       "    </tr>\n",
       "    <tr>\n",
       "      <th>171545</th>\n",
       "      <td>Diesel</td>\n",
       "      <td>16.6318</td>\n",
       "      <td>18.89</td>\n",
       "      <td>16.6318</td>\n",
       "    </tr>\n",
       "    <tr>\n",
       "      <th>81528</th>\n",
       "      <td>Petrol</td>\n",
       "      <td>17.5800</td>\n",
       "      <td>17.58</td>\n",
       "      <td>15.0270</td>\n",
       "    </tr>\n",
       "    <tr>\n",
       "      <th>57847</th>\n",
       "      <td>Diesel</td>\n",
       "      <td>14.0512</td>\n",
       "      <td>16.41</td>\n",
       "      <td>14.0512</td>\n",
       "    </tr>\n",
       "    <tr>\n",
       "      <th>141935</th>\n",
       "      <td>Diesel</td>\n",
       "      <td>16.5848</td>\n",
       "      <td>18.82</td>\n",
       "      <td>16.5848</td>\n",
       "    </tr>\n",
       "  </tbody>\n",
       "</table>\n",
       "</div>"
      ],
      "text/plain": [
       "       Fuel Type  Fuel Price  Coastal Petrol  Coastal Diesel\n",
       "81365     Petrol     17.5800           17.58         15.0270\n",
       "171545    Diesel     16.6318           18.89         16.6318\n",
       "81528     Petrol     17.5800           17.58         15.0270\n",
       "57847     Diesel     14.0512           16.41         14.0512\n",
       "141935    Diesel     16.5848           18.82         16.5848"
      ]
     },
     "execution_count": 87,
     "metadata": {},
     "output_type": "execute_result"
    }
   ],
   "source": [
    "trans_df[['Fuel Type', 'Fuel Price', 'Coastal Petrol', 'Coastal Diesel']].sample(5)"
   ]
  },
  {
   "cell_type": "code",
   "execution_count": 88,
   "metadata": {},
   "outputs": [],
   "source": [
    "# Remove all transactions with amounts less than 0 or greater than 5000\n",
    "trans_df = trans_df[(trans_df['Transaction Amount'] >= 0) & (trans_df['Transaction Amount'] <= 5000)]"
   ]
  },
  {
   "cell_type": "code",
   "execution_count": 89,
   "metadata": {},
   "outputs": [
    {
     "data": {
      "text/plain": [
       "(175925, 24)"
      ]
     },
     "execution_count": 89,
     "metadata": {},
     "output_type": "execute_result"
    }
   ],
   "source": [
    "trans_df.shape"
   ]
  },
  {
   "cell_type": "code",
   "execution_count": 90,
   "metadata": {},
   "outputs": [],
   "source": [
    "# Select the columns for clustering\n",
    "columns_for_clustering = ['No. of Litres', 'Transaction Amount', 'Fuel Price']\n",
    "\n",
    "# Keep only the rows without missing values for clustering\n",
    "data_trans_clustering = trans_df[columns_for_clustering].dropna()\n",
    "\n",
    "# Encode the categorical variables\n",
    "data_trans_encoded = pd.get_dummies(data_trans_clustering)\n",
    "\n",
    "# Identify and replace 'inf' and '-inf' with NaN\n",
    "data_trans_encoded.replace([np.inf, -np.inf], np.nan, inplace=True)\n",
    "\n",
    "# Drop 'NaN' values, maintaining the index\n",
    "data_trans_encoded.dropna(inplace=True)\n",
    "\n",
    "# Prepare data for clustering\n",
    "X = data_trans_encoded.values\n",
    "\n",
    "# Standardize the features\n",
    "scaler = StandardScaler()\n",
    "X_scaled = scaler.fit_transform(X)"
   ]
  },
  {
   "cell_type": "code",
   "execution_count": 91,
   "metadata": {},
   "outputs": [
    {
     "data": {
      "text/plain": [
       "(175925, 3)"
      ]
     },
     "execution_count": 91,
     "metadata": {},
     "output_type": "execute_result"
    }
   ],
   "source": [
    "X_scaled.shape"
   ]
  },
  {
   "cell_type": "markdown",
   "metadata": {},
   "source": [
    "# k-means clustering"
   ]
  },
  {
   "cell_type": "code",
   "execution_count": 68,
   "metadata": {},
   "outputs": [
    {
     "data": {
      "image/png": "[encoded data removed]",
      "text/plain": [
       "<Figure size 800x800 with 1 Axes>"
      ]
     },
     "metadata": {},
     "output_type": "display_data"
    }
   ],
   "source": [
    "# Calculate WCSS for different numbers of clusters\n",
    "wcss = []\n",
    "for i in range(1, 11): # Test 1 to 10 clusters\n",
    "    kmeans = KMeans(n_clusters=i, init='k-means++', max_iter=300, n_init=10, random_state=1)\n",
    "    kmeans.fit(X_scaled)\n",
    "    wcss.append(kmeans.inertia_)\n",
    "\n",
    "# Create a professional-looking plot\n",
    "plt.figure(figsize=(8, 8))\n",
    "plt.plot(range(1, 11), wcss, marker='o', linestyle='-', color='darkblue')\n",
    "#plt.title('Elbow Method for Optimal Number of Clusters', fontsize=18, fontweight='bold')\n",
    "plt.xlabel('Number of Clusters', fontsize=14)\n",
    "plt.ylabel('Within-Cluster Sum of Squares (WCSS)', fontsize=14)\n",
    "plt.xticks(range(1, 11), fontsize=12)\n",
    "plt.yticks(fontsize=12)\n",
    "plt.grid(True, which='both', linestyle='--', linewidth=0.5)\n",
    "plt.tight_layout()\n",
    "\n",
    "# Save the plot as a PDF file with high resolution\n",
    "plt.savefig('../plots/transaction_clustering/kmeans_elbow_method_plot.pdf', format='pdf', dpi=300)"
   ]
  },
  {
   "cell_type": "code",
   "execution_count": 92,
   "metadata": {},
   "outputs": [],
   "source": [
    "# Apply KMeans clustering\n",
    "kclusts = 4\n",
    "kmeans = KMeans(n_clusters=kclusts, init='k-means++', max_iter=300, n_init=10, random_state=1)\n",
    "kmeans.fit(X_scaled)\n",
    "\n",
    "# Add the cluster labels to the original dataset\n",
    "trans_df['kmeans'] = kmeans.labels_"
   ]
  },
  {
   "cell_type": "markdown",
   "metadata": {},
   "source": [
    "# BIRCH clustering"
   ]
  },
  {
   "cell_type": "code",
   "execution_count": 71,
   "metadata": {},
   "outputs": [
    {
     "name": "stdout",
     "output_type": "stream",
     "text": [
      "Silhouette Score for 2 clusters: 0.3265\n",
      "Silhouette Score for 3 clusters: 0.3242\n",
      "Silhouette Score for 4 clusters: 0.2629\n",
      "Silhouette Score for 5 clusters: 0.2549\n"
     ]
    },
    {
     "data": {
      "image/png": "[encoded data removed]",
      "text/plain": [
       "<Figure size 800x800 with 1 Axes>"
      ]
     },
     "metadata": {},
     "output_type": "display_data"
    }
   ],
   "source": [
    "from sklearn.cluster import Birch\n",
    "import matplotlib.pyplot as plt\n",
    "from sklearn.metrics import silhouette_score\n",
    "import numpy as np\n",
    "\n",
    "range_n_clusters = list(range(2, 6))  # Example: evaluating from 2 to 6 clusters\n",
    "silhouette_scores = []\n",
    "\n",
    "for n_clusters in range_n_clusters:\n",
    "    birch = Birch(n_clusters=n_clusters)\n",
    "    cluster_labels = birch.fit_predict(X_scaled)\n",
    "    silhouette_avg = silhouette_score(X_scaled, cluster_labels)\n",
    "    silhouette_scores.append(silhouette_avg)\n",
    "    print(f\"Silhouette Score for {n_clusters} clusters: {silhouette_avg:.4f}\")\n",
    "\n",
    "# Plotting silhouette scores with a more professional aesthetic\n",
    "plt.figure(figsize=(8, 8))\n",
    "plt.plot(range_n_clusters, silhouette_scores, marker='o', linestyle='-', color='darkblue')\n",
    "plt.xlabel('Number of clusters', fontsize=14)\n",
    "plt.ylabel('Silhouette Score', fontsize=14)\n",
    "plt.xticks(range_n_clusters, fontsize=12)\n",
    "plt.yticks(np.round(np.linspace(min(silhouette_scores), max(silhouette_scores), 5), 2), fontsize=12)\n",
    "plt.grid(True, which='both', linestyle='--', linewidth=0.5)\n",
    "plt.tight_layout()\n",
    "\n",
    "# Save the plot as a PDF file with high resolution\n",
    "plt.savefig('../plots/transaction_clustering/silhouette_scores_birch.pdf', format='pdf', dpi=300)\n",
    "\n",
    "plt.show()"
   ]
  },
  {
   "cell_type": "code",
   "execution_count": 93,
   "metadata": {},
   "outputs": [
    {
     "data": {
      "text/html": [
       "<style>#sk-container-id-6 {color: black;}#sk-container-id-6 pre{padding: 0;}#sk-container-id-6 div.sk-toggleable {background-color: white;}#sk-container-id-6 label.sk-toggleable__label {cursor: pointer;display: block;width: 100%;margin-bottom: 0;padding: 0.3em;box-sizing: border-box;text-align: center;}#sk-container-id-6 label.sk-toggleable__label-arrow:before {content: \"▸\";float: left;margin-right: 0.25em;color: #696969;}#sk-container-id-6 label.sk-toggleable__label-arrow:hover:before {color: black;}#sk-container-id-6 div.sk-estimator:hover label.sk-toggleable__label-arrow:before {color: black;}#sk-container-id-6 div.sk-toggleable__content {max-height: 0;max-width: 0;overflow: hidden;text-align: left;background-color: #f0f8ff;}#sk-container-id-6 div.sk-toggleable__content pre {margin: 0.2em;color: black;border-radius: 0.25em;background-color: #f0f8ff;}#sk-container-id-6 input.sk-toggleable__control:checked~div.sk-toggleable__content {max-height: 200px;max-width: 100%;overflow: auto;}#sk-container-id-6 input.sk-toggleable__control:checked~label.sk-toggleable__label-arrow:before {content: \"▾\";}#sk-container-id-6 div.sk-estimator input.sk-toggleable__control:checked~label.sk-toggleable__label {background-color: #d4ebff;}#sk-container-id-6 div.sk-label input.sk-toggleable__control:checked~label.sk-toggleable__label {background-color: #d4ebff;}#sk-container-id-6 input.sk-hidden--visually {border: 0;clip: rect(1px 1px 1px 1px);clip: rect(1px, 1px, 1px, 1px);height: 1px;margin: -1px;overflow: hidden;padding: 0;position: absolute;width: 1px;}#sk-container-id-6 div.sk-estimator {font-family: monospace;background-color: #f0f8ff;border: 1px dotted black;border-radius: 0.25em;box-sizing: border-box;margin-bottom: 0.5em;}#sk-container-id-6 div.sk-estimator:hover {background-color: #d4ebff;}#sk-container-id-6 div.sk-parallel-item::after {content: \"\";width: 100%;border-bottom: 1px solid gray;flex-grow: 1;}#sk-container-id-6 div.sk-label:hover label.sk-toggleable__label {background-color: #d4ebff;}#sk-container-id-6 div.sk-serial::before {content: \"\";position: absolute;border-left: 1px solid gray;box-sizing: border-box;top: 0;bottom: 0;left: 50%;z-index: 0;}#sk-container-id-6 div.sk-serial {display: flex;flex-direction: column;align-items: center;background-color: white;padding-right: 0.2em;padding-left: 0.2em;position: relative;}#sk-container-id-6 div.sk-item {position: relative;z-index: 1;}#sk-container-id-6 div.sk-parallel {display: flex;align-items: stretch;justify-content: center;background-color: white;position: relative;}#sk-container-id-6 div.sk-item::before, #sk-container-id-6 div.sk-parallel-item::before {content: \"\";position: absolute;border-left: 1px solid gray;box-sizing: border-box;top: 0;bottom: 0;left: 50%;z-index: -1;}#sk-container-id-6 div.sk-parallel-item {display: flex;flex-direction: column;z-index: 1;position: relative;background-color: white;}#sk-container-id-6 div.sk-parallel-item:first-child::after {align-self: flex-end;width: 50%;}#sk-container-id-6 div.sk-parallel-item:last-child::after {align-self: flex-start;width: 50%;}#sk-container-id-6 div.sk-parallel-item:only-child::after {width: 0;}#sk-container-id-6 div.sk-dashed-wrapped {border: 1px dashed gray;margin: 0 0.4em 0.5em 0.4em;box-sizing: border-box;padding-bottom: 0.4em;background-color: white;}#sk-container-id-6 div.sk-label label {font-family: monospace;font-weight: bold;display: inline-block;line-height: 1.2em;}#sk-container-id-6 div.sk-label-container {text-align: center;}#sk-container-id-6 div.sk-container {/* jupyter's `normalize.less` sets `[hidden] { display: none; }` but bootstrap.min.css set `[hidden] { display: none !important; }` so we also need the `!important` here to be able to override the default hidden behavior on the sphinx rendered scikit-learn.org. See: https://github.com/scikit-learn/scikit-learn/issues/21755 */display: inline-block !important;position: relative;}#sk-container-id-6 div.sk-text-repr-fallback {display: none;}</style><div id=\"sk-container-id-6\" class=\"sk-top-container\"><div class=\"sk-text-repr-fallback\"><pre>Birch(n_clusters=2)</pre><b>In a Jupyter environment, please rerun this cell to show the HTML representation or trust the notebook. <br />On GitHub, the HTML representation is unable to render, please try loading this page with nbviewer.org.</b></div><div class=\"sk-container\" hidden><div class=\"sk-item\"><div class=\"sk-estimator sk-toggleable\"><input class=\"sk-toggleable__control sk-hidden--visually\" id=\"sk-estimator-id-6\" type=\"checkbox\" checked><label for=\"sk-estimator-id-6\" class=\"sk-toggleable__label sk-toggleable__label-arrow\">Birch</label><div class=\"sk-toggleable__content\"><pre>Birch(n_clusters=2)</pre></div></div></div></div></div>"
      ],
      "text/plain": [
       "Birch(n_clusters=2)"
      ]
     },
     "execution_count": 93,
     "metadata": {},
     "output_type": "execute_result"
    }
   ],
   "source": [
    "from sklearn.cluster import Birch\n",
    "import matplotlib.pyplot as plt\n",
    "import numpy as np\n",
    "\n",
    "# Fit the Birch model\n",
    "brc = Birch(n_clusters=2)\n",
    "brc.fit(X_scaled)"
   ]
  },
  {
   "cell_type": "code",
   "execution_count": 94,
   "metadata": {},
   "outputs": [],
   "source": [
    "trans_df['BirchCluster'] = brc.labels_"
   ]
  },
  {
   "cell_type": "markdown",
   "metadata": {},
   "source": [
    "# Gaussian Mixture Model (GMM)"
   ]
  },
  {
   "cell_type": "code",
   "execution_count": 95,
   "metadata": {},
   "outputs": [],
   "source": [
    "from sklearn.mixture import GaussianMixture\n",
    "\n",
    "# If X_processed is a sparse matrix, convert it to a dense matrix\n",
    "if isinstance(X_scaled, np.ndarray):\n",
    "    X_dense = X_scaled\n",
    "else:\n",
    "    X_dense = X_scaled.toarray()\n",
    "\n",
    "# Apply Gaussian Mixture Model\n",
    "gmm = GaussianMixture(n_components=kclusts, random_state=1)\n",
    "gmm_labels = gmm.fit_predict(X_dense)\n",
    "\n",
    "trans_df['GMMCluster'] = gmm_labels"
   ]
  },
  {
   "cell_type": "markdown",
   "metadata": {},
   "source": [
    "# Plotting the results"
   ]
  },
  {
   "cell_type": "code",
   "execution_count": 108,
   "metadata": {},
   "outputs": [],
   "source": [
    "import matplotlib.pyplot as plt\n",
    "import pandas as pd\n",
    "import seaborn as sns\n",
    "from matplotlib.ticker import FixedLocator, FixedFormatter\n",
    "\n",
    "def shorten_names(names, max_length=20):\n",
    "    shortened_names = []\n",
    "    for name in names:\n",
    "        if len(name) > max_length:\n",
    "            shortened_names.append(name[:max_length] + '...')\n",
    "        else:\n",
    "            shortened_names.append(name)\n",
    "    return shortened_names\n",
    "\n",
    "\n",
    "def four_stacked_plots(data, categorical_vars, cluster_var, titles, filename, max_categories=8, max_length=20, color_theme='tab10', show_proportions=False):\n",
    "    fig, axs = plt.subplots(2, 2, figsize=(10, 8))\n",
    "    axs = axs.ravel()\n",
    "\n",
    "    for i, (cat_var, title) in enumerate(zip(categorical_vars, titles)):\n",
    "        # Calculate the proportions of each category in each cluster\n",
    "        cluster_proportions = data.groupby([cluster_var, cat_var]).size().unstack(fill_value=0)\n",
    "        cluster_proportions = cluster_proportions.div(cluster_proportions.sum(axis=1), axis=0)\n",
    "\n",
    "        # Get the top categories and group the rest into \"Others\"\n",
    "        top_categories = cluster_proportions.sum().nlargest(max_categories).index\n",
    "        cluster_proportions[\"Others\"] = cluster_proportions.drop(columns=top_categories).sum(axis=1)\n",
    "        cluster_proportions = cluster_proportions[top_categories.tolist() + [\"Others\"]]\n",
    "\n",
    "        # Shorten the category names if necessary\n",
    "        shortened_names = shorten_names(cluster_proportions.columns, max_length=max_length)\n",
    "\n",
    "        # Check if the cluster labels start from 0 or -1\n",
    "        if cluster_proportions.index.min() == 0:\n",
    "            # Shift the cluster labels up by 1 and rename them\n",
    "            cluster_proportions.index = [str(i+1) for i in cluster_proportions.index]\n",
    "        elif cluster_proportions.index.min() == -1:\n",
    "            # Shift the cluster labels up by 1 (excluding -1) and rename them\n",
    "            cluster_proportions.index = [\"None\" if i == -1 else str(i+1) for i in cluster_proportions.index]\n",
    "\n",
    "        # Get the specified color theme\n",
    "        color_scheme = plt.cm.get_cmap(color_theme, len(cluster_proportions.columns))\n",
    "        colors = color_scheme(range(len(cluster_proportions.columns)))\n",
    "\n",
    "        # Create the stacked bar chart in the corresponding subplot\n",
    "        cluster_proportions.plot(kind='bar', stacked=True, ax=axs[i], legend=False, color=colors)\n",
    "        axs[i].set_xticklabels(cluster_proportions.index, rotation=0, fontsize=12)\n",
    "        axs[i].set_xlabel('Cluster', fontsize=14)\n",
    "        axs[i].set_ylabel('Proportion', fontsize=14)\n",
    "        axs[i].set_title(f\"{chr(97+i)}) {title}\")  # Prepend \"a) \", \"b) \", \"c) \", \"d) \" to the titles\n",
    "\n",
    "        if show_proportions:\n",
    "            # Display the actual proportion numbers on the stacked bar plots if the proportion is greater than 0.1\n",
    "            for j, rect in enumerate(axs[i].patches):\n",
    "                height = rect.get_height()\n",
    "                if height > 0.05:\n",
    "                    axs[i].text(rect.get_x() + rect.get_width() / 2, rect.get_y() + height / 2,\n",
    "                                f\"{height:.2f}\", ha='center', va='center', fontsize=9, color='black')\n",
    "\n",
    "        # Create the legend for each subplot\n",
    "        axs[i].legend(title='Categories', fontsize=10, labels=shortened_names, loc='center left', bbox_to_anchor=(1, 0.5))\n",
    "\n",
    "    plt.tight_layout()\n",
    "    plt.savefig(filename, format='pdf', bbox_inches='tight', dpi=300)\n",
    "    plt.close(fig)\n",
    "\n",
    "def countplot_side_by_side(data1, data2, title1, title2, filename):\n",
    "    # Filter the data and calculate the sum of counts for the remaining categories\n",
    "    filtered_data1 = data1.to_frame()\n",
    "    filtered_data2 = data2.to_frame()\n",
    "    \n",
    "    # Shorten the names for each category\n",
    "    shortened_names1 = filtered_data1.index.astype(str)\n",
    "    shortened_names2 = filtered_data2.index.astype(str)\n",
    "    \n",
    "    # Create a figure with two subplots side by side\n",
    "    fig, (ax1, ax2) = plt.subplots(1, 2, figsize=(10, 6))\n",
    "    \n",
    "    # Set the font size for the labels\n",
    "    label_font_size = 12\n",
    "    y_label_font_size = 14\n",
    "    \n",
    "    # Plot the data for the first subplot\n",
    "    ax1.bar(shortened_names1, filtered_data1.iloc[:, 0])\n",
    "    ax1.set_xticks(range(len(shortened_names1)))\n",
    "    ax1.set_xticklabels(shortened_names1, fontsize=label_font_size)\n",
    "    ax1.set_ylabel('Count', fontsize=y_label_font_size)\n",
    "    ax1.set_xlabel('Cluster', fontsize=y_label_font_size)\n",
    "    ax1.set_title(f'a) {title1}')\n",
    "    \n",
    "    # Plot the data for the second subplot\n",
    "    ax2.bar(shortened_names2, filtered_data2.iloc[:, 0])\n",
    "    ax2.set_xticks(range(len(shortened_names2)))\n",
    "    ax2.set_xticklabels(shortened_names2, fontsize=label_font_size)\n",
    "    ax2.set_xlabel('Cluster', fontsize=y_label_font_size)\n",
    "    ax2.set_title(f'b) {title2}')\n",
    "    \n",
    "    # Set the y-axis ticks and labels to integer values for both subplots\n",
    "    yticks1 = ax1.get_yticks().astype(int)\n",
    "    yticks2 = ax2.get_yticks().astype(int)\n",
    "    ax1.yaxis.set_major_locator(FixedLocator(yticks1))\n",
    "    ax1.yaxis.set_major_formatter(FixedFormatter(yticks1))\n",
    "    ax1.tick_params(axis='y', labelsize=label_font_size)\n",
    "    ax2.yaxis.set_major_locator(FixedLocator(yticks2))\n",
    "    ax2.yaxis.set_major_formatter(FixedFormatter(yticks2))\n",
    "    ax2.tick_params(axis='y', labelsize=label_font_size)\n",
    "    \n",
    "    # Adjust the spacing\n",
    "    plt.tight_layout()\n",
    "    \n",
    "    # Save the plot as a PDF file\n",
    "    plt.savefig(filename, format='pdf', bbox_inches='tight')\n",
    "    \n",
    "    # Close the plot\n",
    "    plt.close(fig)\n",
    "\n",
    "def countplot_2x2(data1, data2, data3, title1, title2, title3, filename):\n",
    "    # Filter the data and calculate the sum of counts for the remaining categories\n",
    "    filtered_data1 = data1.to_frame()\n",
    "    filtered_data2 = data2.to_frame()\n",
    "    filtered_data3 = data3.to_frame()\n",
    "\n",
    "    # Shorten the names for each category\n",
    "    shortened_names1 = filtered_data1.index.astype(str)\n",
    "    shortened_names2 = filtered_data2.index.astype(str)\n",
    "    shortened_names3 = filtered_data3.index.astype(str)\n",
    "\n",
    "    # Create a figure with three subplots in a 2x2 grid\n",
    "    fig, ((ax1, ax2), (ax3, ax4)) = plt.subplots(2, 2, figsize=(10, 8))\n",
    "\n",
    "    # Set the font size for the labels\n",
    "    label_font_size = 12\n",
    "    y_label_font_size = 14\n",
    "\n",
    "    # Plot the data for the first subplot\n",
    "    ax1.bar(shortened_names1, filtered_data1.iloc[:, 0])\n",
    "    ax1.set_xticks(range(len(shortened_names1)))\n",
    "    ax1.set_xticklabels(shortened_names1, fontsize=label_font_size)\n",
    "    ax1.set_ylabel('Count', fontsize=y_label_font_size)\n",
    "    ax1.set_xlabel('Cluster', fontsize=y_label_font_size)\n",
    "    ax1.set_title(f'a) {title1}')\n",
    "\n",
    "    # Plot the data for the second subplot\n",
    "    ax2.bar(shortened_names2, filtered_data2.iloc[:, 0])\n",
    "    ax2.set_xticks(range(len(shortened_names2)))\n",
    "    ax2.set_xticklabels(shortened_names2, fontsize=label_font_size)\n",
    "    ax2.set_xlabel('Cluster', fontsize=y_label_font_size)\n",
    "    ax2.set_title(f'b) {title2}')\n",
    "\n",
    "    # Plot the data for the third subplot\n",
    "    ax3.bar(shortened_names3, filtered_data3.iloc[:, 0])\n",
    "    ax3.set_xticks(range(len(shortened_names3)))\n",
    "    ax3.set_xticklabels(shortened_names3, fontsize=label_font_size)\n",
    "    ax3.set_ylabel('Count', fontsize=y_label_font_size)\n",
    "    ax3.set_xlabel('Cluster', fontsize=y_label_font_size)\n",
    "    ax3.set_title(f'c) {title3}')\n",
    "\n",
    "    # Remove the fourth subplot (unused)\n",
    "    ax4.axis('off')\n",
    "\n",
    "    # Set the y-axis ticks and labels to integer values for all subplots\n",
    "    for ax in [ax1, ax2, ax3]:\n",
    "        yticks = ax.get_yticks().astype(int)\n",
    "        ax.yaxis.set_major_locator(FixedLocator(yticks))\n",
    "        ax.yaxis.set_major_formatter(FixedFormatter(yticks))\n",
    "        ax.tick_params(axis='y', labelsize=label_font_size)\n",
    "\n",
    "    # Adjust the spacing\n",
    "    plt.tight_layout()\n",
    "\n",
    "    # Save the plot as a PDF file\n",
    "    plt.savefig(filename, format='pdf', bbox_inches='tight')\n",
    "\n",
    "    # Close the plot\n",
    "    plt.close(fig)\n",
    "\n",
    "def boxplot_side_by_side_cont(data, cat_var, cont_var1, cont_var2, title1, title2, filename):\n",
    "    # Setting the aesthetic style of the plots\n",
    "    sns.set(style=\"whitegrid\")\n",
    "    fig, (ax1, ax2) = plt.subplots(1, 2, figsize=(10, 6))\n",
    "\n",
    "    # Plot the first boxplot\n",
    "    sns.boxplot(x=cat_var, y=cont_var1, data=data, ax=ax1, palette=\"cividis\")\n",
    "    ax1.set_ylabel(cont_var1, fontsize=14)\n",
    "    ax1.set_xlabel('Cluster', fontsize=14)\n",
    "    ax1.set_title(f'a) {title1}')\n",
    "\n",
    "    # Plot the second boxplot\n",
    "    sns.boxplot(x=cat_var, y=cont_var2, data=data, ax=ax2, palette=\"cividis\")\n",
    "    ax2.set_ylabel(cont_var2, fontsize=14)\n",
    "    ax2.set_xlabel('Cluster', fontsize=14)\n",
    "    ax2.set_title(f'b) {title2}')\n",
    "\n",
    "    # Adjust the spacing\n",
    "    plt.tight_layout()\n",
    "\n",
    "    # Save the plot as a PDF file with high resolution\n",
    "    plt.savefig(filename, format='pdf', dpi=300)\n",
    "\n",
    "    # Close the plot\n",
    "    plt.close(fig)\n",
    "\n",
    "def boxplot_side_by_side_cat(data, cat_var1, cat_var2, cont_var, title1, title2, filename):\n",
    "    # Setting the aesthetic style of the plots\n",
    "    sns.set(style=\"whitegrid\")\n",
    "    fig, (ax1, ax2) = plt.subplots(1, 2, figsize=(10, 6))\n",
    "\n",
    "    # Plot the first boxplot\n",
    "    sns.boxplot(x=cat_var1, y=cont_var, data=data, ax=ax1, palette=\"cividis\")\n",
    "    ax1.set_ylabel(cont_var, fontsize=14)\n",
    "    ax1.set_xlabel('Cluster', fontsize=14)\n",
    "    ax1.set_title(f'a) {title1}')\n",
    "\n",
    "    # Plot the second boxplot\n",
    "    sns.boxplot(x=cat_var2, y=cont_var, data=data, ax=ax2, palette=\"cividis\")\n",
    "    ax2.set_ylabel(cont_var, fontsize=14)\n",
    "    ax2.set_xlabel('Cluster', fontsize=14)\n",
    "    ax2.set_title(f'b) {title2}')\n",
    "\n",
    "    # Adjust the spacing\n",
    "    plt.tight_layout()\n",
    "\n",
    "    # Save the plot as a PDF file with high resolution\n",
    "    plt.savefig(filename, format='pdf', dpi=300)\n",
    "\n",
    "    # Close the plot\n",
    "    plt.close(fig)\n",
    "\n",
    "def boxplot_2x2_cat(data, cat_var1, cat_var2, cat_var3, cont_var, title1, title2, title3, filename):\n",
    "    # Setting the aesthetic style of the plots\n",
    "    sns.set(style=\"whitegrid\")\n",
    "\n",
    "    fig, ((ax1, ax2), (ax3, ax4)) = plt.subplots(2, 2, figsize=(10, 8))\n",
    "\n",
    "    # Plot the first boxplot\n",
    "    sns.boxplot(x=cat_var1, y=cont_var, data=data, ax=ax1, palette=\"cividis\")\n",
    "    ax1.set_ylabel(cont_var, fontsize=14)\n",
    "    ax1.set_xlabel('Cluster', fontsize=14)\n",
    "    ax1.set_title(f'a) {title1}')\n",
    "\n",
    "    # Plot the second boxplot\n",
    "    sns.boxplot(x=cat_var2, y=cont_var, data=data, ax=ax2, palette=\"cividis\")\n",
    "    ax2.set_ylabel(cont_var, fontsize=14)\n",
    "    ax2.set_xlabel('Cluster', fontsize=14)\n",
    "    ax2.set_title(f'b) {title2}')\n",
    "\n",
    "    # Plot the third boxplot\n",
    "    sns.boxplot(x=cat_var3, y=cont_var, data=data, ax=ax3, palette=\"cividis\")\n",
    "    ax3.set_ylabel(cont_var, fontsize=14)\n",
    "    ax3.set_xlabel('Cluster', fontsize=14)\n",
    "    ax3.set_title(f'c) {title3}')\n",
    "\n",
    "    # Remove the fourth subplot (unused)\n",
    "    ax4.axis('off')\n",
    "\n",
    "    # Adjust the spacing\n",
    "    plt.tight_layout()\n",
    "\n",
    "    # Save the plot as a PDF file with high resolution\n",
    "    plt.savefig(filename, format='pdf', dpi=300)\n",
    "\n",
    "    # Close the plot\n",
    "    plt.close(fig)\n",
    "\n",
    "def create_proportions_tables(data, categorical_vars, cluster_var, titles, max_categories=8, max_length=20):\n",
    "    tables = []\n",
    "\n",
    "    for cat_var, title in zip(categorical_vars, titles):\n",
    "        # Calculate the proportions of each category in each cluster\n",
    "        cluster_proportions = data.groupby([cluster_var, cat_var]).size().unstack(fill_value=0)\n",
    "        cluster_proportions = cluster_proportions.div(cluster_proportions.sum(axis=1), axis=0)\n",
    "\n",
    "        # Get the top categories and group the rest into \"Others\"\n",
    "        top_categories = cluster_proportions.sum().nlargest(max_categories).index\n",
    "        cluster_proportions[\"Others\"] = cluster_proportions.drop(columns=top_categories).sum(axis=1)\n",
    "        cluster_proportions = cluster_proportions[top_categories.tolist() + [\"Others\"]]\n",
    "\n",
    "        # Shorten the category names if necessary\n",
    "        shortened_names = shorten_names(cluster_proportions.columns, max_length=max_length)\n",
    "        cluster_proportions.columns = shortened_names\n",
    "\n",
    "        # Check if the cluster labels start from 0 or -1\n",
    "        if cluster_proportions.index.min() == 0:\n",
    "            # Shift the cluster labels up by 1 and rename them\n",
    "            cluster_proportions.index = [str(i+1) for i in cluster_proportions.index]\n",
    "        elif cluster_proportions.index.min() == -1:\n",
    "            # Shift the cluster labels up by 1 (excluding -1) and rename them\n",
    "            cluster_proportions.index = [\"None\" if i == -1 else str(i+1) for i in cluster_proportions.index]\n",
    "\n",
    "        # Multiply by 100 and round to 2 decimal places\n",
    "        cluster_proportions = cluster_proportions.round(2)\n",
    "\n",
    "        # Add the title as a column to the table\n",
    "        cluster_proportions.insert(0, 'Cluster', cluster_proportions.index)\n",
    "        cluster_proportions.index = [title] * len(cluster_proportions)\n",
    "\n",
    "        # Add the table to the list of tables\n",
    "        tables.append(cluster_proportions)\n",
    "\n",
    "    return tables\n"
   ]
  },
  {
   "cell_type": "code",
   "execution_count": 97,
   "metadata": {},
   "outputs": [],
   "source": [
    "# Add 1 to both cluster labels to start from 1\n",
    "trans_df['kmeans'] = trans_df['kmeans'] + 1\n",
    "trans_df['BirchCluster'] = trans_df['BirchCluster'] + 1\n",
    "trans_df['GMMCluster'] = trans_df['GMMCluster'] + 1\n",
    "\n",
    "# Convert the 'KmeansCluster' and 'AggCluster' columns to categorical\n",
    "trans_df['kmeans'] = trans_df['kmeans'].astype('category')\n",
    "trans_df['BirchCluster'] = trans_df['BirchCluster'].astype('category')\n",
    "trans_df['GMMCluster'] = trans_df['GMMCluster'].astype('category')\n",
    "\n",
    "# Set the category .as_ordered()\n",
    "trans_df['kmeans'] = trans_df['kmeans'].cat.as_ordered()\n",
    "trans_df['BirchCluster'] = trans_df['BirchCluster'].cat.as_ordered()\n",
    "trans_df['GMMCluster'] = trans_df['GMMCluster'].cat.as_ordered()\n",
    "\n",
    "kmeans_clust = trans_df['kmeans'].value_counts()\n",
    "birch_clust = trans_df['BirchCluster'].value_counts()\n",
    "gmm_clust = trans_df['GMMCluster'].value_counts()"
   ]
  },
  {
   "cell_type": "code",
   "execution_count": 102,
   "metadata": {},
   "outputs": [],
   "source": [
    "countplot_2x2(kmeans_clust, birch_clust, gmm_clust, 'k-means', 'BIRCH', 'GMM',\n",
    "                '../plots/transaction_clustering/cluster_counts_together.pdf')"
   ]
  },
  {
   "cell_type": "code",
   "execution_count": 114,
   "metadata": {},
   "outputs": [],
   "source": [
    "boxplot_2x2_cat(trans_df, 'kmeans', 'BirchCluster', 'GMMCluster', 'Transaction Amount', 'k-means', 'BIRCH', 'GMM',\n",
    "                '../plots/transaction_clustering/transaction_amount_boxplots.pdf')\n",
    "\n",
    "boxplot_2x2_cat(trans_df, 'kmeans', 'BirchCluster', 'GMMCluster', 'No. of Litres', 'k-means', 'BIRCH', 'GMM',\n",
    "                '../plots/transaction_clustering/litres_boxplots.pdf')"
   ]
  },
  {
   "cell_type": "code",
   "execution_count": 109,
   "metadata": {},
   "outputs": [
    {
     "name": "stderr",
     "output_type": "stream",
     "text": [
      "/var/folders/v7/l0jq1cbd0fnf4ytmwzksxt0r0000gn/T/ipykernel_63296/3946337309.py:42: MatplotlibDeprecationWarning: The get_cmap function was deprecated in Matplotlib 3.7 and will be removed two minor releases later. Use ``matplotlib.colormaps[name]`` or ``matplotlib.colormaps.get_cmap(obj)`` instead.\n",
      "  color_scheme = plt.cm.get_cmap(color_theme, len(cluster_proportions.columns))\n",
      "/var/folders/v7/l0jq1cbd0fnf4ytmwzksxt0r0000gn/T/ipykernel_63296/3946337309.py:42: MatplotlibDeprecationWarning: The get_cmap function was deprecated in Matplotlib 3.7 and will be removed two minor releases later. Use ``matplotlib.colormaps[name]`` or ``matplotlib.colormaps.get_cmap(obj)`` instead.\n",
      "  color_scheme = plt.cm.get_cmap(color_theme, len(cluster_proportions.columns))\n",
      "/var/folders/v7/l0jq1cbd0fnf4ytmwzksxt0r0000gn/T/ipykernel_63296/3946337309.py:42: MatplotlibDeprecationWarning: The get_cmap function was deprecated in Matplotlib 3.7 and will be removed two minor releases later. Use ``matplotlib.colormaps[name]`` or ``matplotlib.colormaps.get_cmap(obj)`` instead.\n",
      "  color_scheme = plt.cm.get_cmap(color_theme, len(cluster_proportions.columns))\n",
      "/var/folders/v7/l0jq1cbd0fnf4ytmwzksxt0r0000gn/T/ipykernel_63296/3946337309.py:42: MatplotlibDeprecationWarning: The get_cmap function was deprecated in Matplotlib 3.7 and will be removed two minor releases later. Use ``matplotlib.colormaps[name]`` or ``matplotlib.colormaps.get_cmap(obj)`` instead.\n",
      "  color_scheme = plt.cm.get_cmap(color_theme, len(cluster_proportions.columns))\n",
      "/var/folders/v7/l0jq1cbd0fnf4ytmwzksxt0r0000gn/T/ipykernel_63296/3946337309.py:42: MatplotlibDeprecationWarning: The get_cmap function was deprecated in Matplotlib 3.7 and will be removed two minor releases later. Use ``matplotlib.colormaps[name]`` or ``matplotlib.colormaps.get_cmap(obj)`` instead.\n",
      "  color_scheme = plt.cm.get_cmap(color_theme, len(cluster_proportions.columns))\n",
      "/var/folders/v7/l0jq1cbd0fnf4ytmwzksxt0r0000gn/T/ipykernel_63296/3946337309.py:42: MatplotlibDeprecationWarning: The get_cmap function was deprecated in Matplotlib 3.7 and will be removed two minor releases later. Use ``matplotlib.colormaps[name]`` or ``matplotlib.colormaps.get_cmap(obj)`` instead.\n",
      "  color_scheme = plt.cm.get_cmap(color_theme, len(cluster_proportions.columns))\n",
      "/var/folders/v7/l0jq1cbd0fnf4ytmwzksxt0r0000gn/T/ipykernel_63296/3946337309.py:42: MatplotlibDeprecationWarning: The get_cmap function was deprecated in Matplotlib 3.7 and will be removed two minor releases later. Use ``matplotlib.colormaps[name]`` or ``matplotlib.colormaps.get_cmap(obj)`` instead.\n",
      "  color_scheme = plt.cm.get_cmap(color_theme, len(cluster_proportions.columns))\n",
      "/var/folders/v7/l0jq1cbd0fnf4ytmwzksxt0r0000gn/T/ipykernel_63296/3946337309.py:42: MatplotlibDeprecationWarning: The get_cmap function was deprecated in Matplotlib 3.7 and will be removed two minor releases later. Use ``matplotlib.colormaps[name]`` or ``matplotlib.colormaps.get_cmap(obj)`` instead.\n",
      "  color_scheme = plt.cm.get_cmap(color_theme, len(cluster_proportions.columns))\n",
      "/var/folders/v7/l0jq1cbd0fnf4ytmwzksxt0r0000gn/T/ipykernel_63296/3946337309.py:42: MatplotlibDeprecationWarning: The get_cmap function was deprecated in Matplotlib 3.7 and will be removed two minor releases later. Use ``matplotlib.colormaps[name]`` or ``matplotlib.colormaps.get_cmap(obj)`` instead.\n",
      "  color_scheme = plt.cm.get_cmap(color_theme, len(cluster_proportions.columns))\n",
      "/var/folders/v7/l0jq1cbd0fnf4ytmwzksxt0r0000gn/T/ipykernel_63296/3946337309.py:42: MatplotlibDeprecationWarning: The get_cmap function was deprecated in Matplotlib 3.7 and will be removed two minor releases later. Use ``matplotlib.colormaps[name]`` or ``matplotlib.colormaps.get_cmap(obj)`` instead.\n",
      "  color_scheme = plt.cm.get_cmap(color_theme, len(cluster_proportions.columns))\n",
      "/var/folders/v7/l0jq1cbd0fnf4ytmwzksxt0r0000gn/T/ipykernel_63296/3946337309.py:42: MatplotlibDeprecationWarning: The get_cmap function was deprecated in Matplotlib 3.7 and will be removed two minor releases later. Use ``matplotlib.colormaps[name]`` or ``matplotlib.colormaps.get_cmap(obj)`` instead.\n",
      "  color_scheme = plt.cm.get_cmap(color_theme, len(cluster_proportions.columns))\n",
      "/var/folders/v7/l0jq1cbd0fnf4ytmwzksxt0r0000gn/T/ipykernel_63296/3946337309.py:42: MatplotlibDeprecationWarning: The get_cmap function was deprecated in Matplotlib 3.7 and will be removed two minor releases later. Use ``matplotlib.colormaps[name]`` or ``matplotlib.colormaps.get_cmap(obj)`` instead.\n",
      "  color_scheme = plt.cm.get_cmap(color_theme, len(cluster_proportions.columns))\n"
     ]
    }
   ],
   "source": [
    "four_stacked_plots(trans_df,\n",
    "                   ['MODEL DERIVATIVE', 'DEPARTMENT', 'District', 'RATE CARD CATEGORY'],\n",
    "                   'kmeans',\n",
    "                   ['Model Derivative', 'Department', 'District', 'Rate Card Category'],\n",
    "                   '../plots/transaction_clustering/kmeans_clustered_vehicle_plots.pdf',\n",
    "                   max_categories=5, max_length=15, show_proportions=True)\n",
    "\n",
    "four_stacked_plots(trans_df,\n",
    "                   ['MODEL DERIVATIVE', 'DEPARTMENT', 'District', 'RATE CARD CATEGORY'],\n",
    "                   'BirchCluster',\n",
    "                   ['Model Derivative', 'Department', 'District', 'Rate Card Category'],\n",
    "                   '../plots/transaction_clustering/birch_clustered_vehicle_plots.pdf',\n",
    "                   max_categories=5, max_length=15, show_proportions=True)\n",
    "\n",
    "four_stacked_plots(trans_df,\n",
    "                   ['MODEL DERIVATIVE', 'DEPARTMENT', 'District', 'RATE CARD CATEGORY'],\n",
    "                   'GMMCluster',\n",
    "                   ['Model Derivative', 'Department', 'District', 'Rate Card Category'],\n",
    "                   '../plots/transaction_clustering/gmm_clustered_vehicle_plots.pdf',\n",
    "                   max_categories=5, max_length=15, show_proportions=True)"
   ]
  },
  {
   "cell_type": "code",
   "execution_count": 111,
   "metadata": {},
   "outputs": [
    {
     "data": {
      "text/plain": [
       "[                 Cluster  VW POLO VIVO 1....  TOYOTA COROLLA ...  \\\n",
       " Model Derivative       1                0.00                0.00   \n",
       " Model Derivative       2                0.31                0.14   \n",
       " Model Derivative       3                0.11                0.16   \n",
       " Model Derivative       4                0.01                0.00   \n",
       " \n",
       "                   VW CRAFTER 50 2...  D-MAX 250 HO 4X...  250 D/C HI-RIDE...  \\\n",
       " Model Derivative                0.10                0.10                0.08   \n",
       " Model Derivative                0.03                0.03                0.02   \n",
       " Model Derivative                0.07                0.03                0.02   \n",
       " Model Derivative                0.07                0.09                0.10   \n",
       " \n",
       "                   Others  \n",
       " Model Derivative    0.72  \n",
       " Model Derivative    0.47  \n",
       " Model Derivative    0.61  \n",
       " Model Derivative    0.73  ,\n",
       "            Cluster  EMERGENCY MEDIC...  HEALTH  TRANSPORT  EDUCATION  \\\n",
       " Department       1                0.51    0.19       0.05       0.06   \n",
       " Department       2                0.22    0.26       0.20       0.08   \n",
       " Department       3                0.30    0.24       0.12       0.09   \n",
       " Department       4                0.44    0.24       0.06       0.07   \n",
       " \n",
       "             SOCIAL DEVELOPM...  Others  \n",
       " Department                0.05    0.14  \n",
       " Department                0.09    0.16  \n",
       " Department                0.07    0.17  \n",
       " Department                0.05    0.15  ,\n",
       "          Cluster  Unknown  Sarah Baartman  OR Tambo  Chris Hani  Amathole  \\\n",
       " District       1     0.31            0.13      0.11        0.10      0.09   \n",
       " District       2     0.54            0.09      0.06        0.06      0.06   \n",
       " District       3     0.49            0.11      0.08        0.06      0.07   \n",
       " District       4     0.35            0.07      0.13        0.09      0.08   \n",
       " \n",
       "           Others  \n",
       " District    0.26  \n",
       " District    0.19  \n",
       " District    0.19  \n",
       " District    0.29  ,\n",
       "                    Cluster   1: Sedan 1400-...   8: LDV Ambulan...  \\\n",
       " Rate Card Category       1                0.00                0.20   \n",
       " Rate Card Category       2                0.40                0.05   \n",
       " Rate Card Category       3                0.37                0.09   \n",
       " Rate Card Category       4                0.01                0.16   \n",
       " \n",
       "                      18: Ambulances...  MANAGED MAINTEN...  \\\n",
       " Rate Card Category                0.17                0.10   \n",
       " Rate Card Category                0.06                0.12   \n",
       " Rate Card Category                0.12                0.12   \n",
       " Rate Card Category                0.12                0.13   \n",
       " \n",
       "                      6: LDV 4x2 D/C...  Others  \n",
       " Rate Card Category                0.14    0.38  \n",
       " Rate Card Category                0.04    0.33  \n",
       " Rate Card Category                0.05    0.26  \n",
       " Rate Card Category                0.16    0.43  ]"
      ]
     },
     "execution_count": 111,
     "metadata": {},
     "output_type": "execute_result"
    }
   ],
   "source": [
    "create_proportions_tables(trans_df,\n",
    "                   ['MODEL DERIVATIVE', 'DEPARTMENT', 'District', 'RATE CARD CATEGORY'],\n",
    "                   'kmeans',\n",
    "                   ['Model Derivative', 'Department', 'District', 'Rate Card Category'],\n",
    "                   max_categories=5, max_length=15)\n"
   ]
  },
  {
   "cell_type": "code",
   "execution_count": 112,
   "metadata": {},
   "outputs": [
    {
     "data": {
      "text/plain": [
       "[                 Cluster  VW POLO VIVO 1....  250 D/C HI-RIDE...  \\\n",
       " Model Derivative       1                0.01                0.10   \n",
       " Model Derivative       2                0.16                0.04   \n",
       " \n",
       "                   D-MAX 250 HO 4X...  VW CRAFTER 50 2...  TOYOTA COROLLA ...  \\\n",
       " Model Derivative                0.09                0.07                 0.0   \n",
       " Model Derivative                0.05                0.06                 0.1   \n",
       " \n",
       "                   Others  \n",
       " Model Derivative    0.73  \n",
       " Model Derivative    0.59  ,\n",
       "            Cluster  EMERGENCY MEDIC...  HEALTH  TRANSPORT  EDUCATION  \\\n",
       " Department       1                0.44    0.24       0.05       0.07   \n",
       " Department       2                0.34    0.23       0.13       0.08   \n",
       " \n",
       "             SOCIAL DEVELOPM...  Others  \n",
       " Department                0.06    0.15  \n",
       " Department                0.07    0.15  ,\n",
       "          Cluster  Unknown  OR Tambo  Sarah Baartman  Chris Hani  Joe Gqabi  \\\n",
       " District       1     0.34      0.13            0.08        0.09       0.09   \n",
       " District       2     0.45      0.08            0.11        0.07       0.06   \n",
       " \n",
       "           Others  \n",
       " District    0.27  \n",
       " District    0.22  ,\n",
       "                    Cluster   8: LDV Ambulan...   1: Sedan 1400-...  \\\n",
       " Rate Card Category       1                0.16                0.01   \n",
       " Rate Card Category       2                0.11                0.26   \n",
       " \n",
       "                      18: Ambulances...  MANAGED MAINTEN...  \\\n",
       " Rate Card Category                0.13                0.12   \n",
       " Rate Card Category                0.11                0.11   \n",
       " \n",
       "                      6: LDV 4x2 D/C...  Others  \n",
       " Rate Card Category                0.16    0.43  \n",
       " Rate Card Category                0.07    0.33  ]"
      ]
     },
     "execution_count": 112,
     "metadata": {},
     "output_type": "execute_result"
    }
   ],
   "source": [
    "\n",
    "create_proportions_tables(trans_df,\n",
    "                   ['MODEL DERIVATIVE', 'DEPARTMENT', 'District', 'RATE CARD CATEGORY'],\n",
    "                   'BirchCluster',\n",
    "                   ['Model Derivative', 'Department', 'District', 'Rate Card Category'],\n",
    "                   max_categories=5, max_length=15)\n"
   ]
  },
  {
   "cell_type": "code",
   "execution_count": 113,
   "metadata": {},
   "outputs": [
    {
     "data": {
      "text/plain": [
       "[                 Cluster  VW POLO VIVO 1....  TOYOTA COROLLA ...  \\\n",
       " Model Derivative       1                0.38                0.22   \n",
       " Model Derivative       2                0.00                0.00   \n",
       " Model Derivative       3                0.21                0.17   \n",
       " Model Derivative       4                0.01                0.01   \n",
       " \n",
       "                   VW CRAFTER 50 2...  D-MAX 250 HO 4X...  250 D/C HI-RIDE...  \\\n",
       " Model Derivative                0.00                0.00                0.00   \n",
       " Model Derivative                0.09                0.09                0.09   \n",
       " Model Derivative                0.05                0.01                0.01   \n",
       " Model Derivative                0.09                0.08                0.09   \n",
       " \n",
       "                   Others  \n",
       " Model Derivative    0.40  \n",
       " Model Derivative    0.72  \n",
       " Model Derivative    0.55  \n",
       " Model Derivative    0.73  ,\n",
       "            Cluster  EMERGENCY MEDIC...  HEALTH  TRANSPORT  EDUCATION  \\\n",
       " Department       1                0.08    0.32       0.22       0.09   \n",
       " Department       2                0.50    0.19       0.05       0.06   \n",
       " Department       3                0.23    0.28       0.17       0.09   \n",
       " Department       4                0.50    0.19       0.07       0.06   \n",
       " \n",
       "             SOCIAL DEVELOPM...  Others  \n",
       " Department                0.10    0.19  \n",
       " Department                0.05    0.14  \n",
       " Department                0.08    0.16  \n",
       " Department                0.05    0.13  ,\n",
       "          Cluster  Unknown  Sarah Baartman  OR Tambo  Chris Hani  Amathole  \\\n",
       " District       1     0.64            0.06      0.05        0.05      0.04   \n",
       " District       2     0.33            0.11      0.12        0.09      0.08   \n",
       " District       3     0.53            0.10      0.06        0.07      0.06   \n",
       " District       4     0.33            0.12      0.11        0.10      0.08   \n",
       " \n",
       "           Others  \n",
       " District    0.16  \n",
       " District    0.27  \n",
       " District    0.20  \n",
       " District    0.26  ,\n",
       "                    Cluster   1: Sedan 1400-...  MANAGED MAINTEN...  \\\n",
       " Rate Card Category       1                0.59                0.12   \n",
       " Rate Card Category       2                0.00                0.11   \n",
       " Rate Card Category       3                0.44                0.13   \n",
       " Rate Card Category       4                0.01                0.11   \n",
       " \n",
       "                      18: Ambulances...   8: LDV Ambulan...  \\\n",
       " Rate Card Category                0.00                0.00   \n",
       " Rate Card Category                0.16                0.19   \n",
       " Rate Card Category                0.08                0.05   \n",
       " Rate Card Category                0.18                0.16   \n",
       " \n",
       "                      6: LDV 4x2 D/C...  Others  \n",
       " Rate Card Category                0.01    0.28  \n",
       " Rate Card Category                0.15    0.39  \n",
       " Rate Card Category                0.03    0.28  \n",
       " Rate Card Category                0.13    0.40  ]"
      ]
     },
     "execution_count": 113,
     "metadata": {},
     "output_type": "execute_result"
    }
   ],
   "source": [
    "\n",
    "create_proportions_tables(trans_df,\n",
    "                   ['MODEL DERIVATIVE', 'DEPARTMENT', 'District', 'RATE CARD CATEGORY'],\n",
    "                   'GMMCluster',\n",
    "                   ['Model Derivative', 'Department', 'District', 'Rate Card Category'],\n",
    "                   max_categories=5, max_length=15)"
   ]
  }
 ],
 "metadata": {
  "kernelspec": {
   "display_name": "scientificProject",
   "language": "python",
   "name": "python3"
  },
  "language_info": {
   "codemirror_mode": {
    "name": "ipython",
    "version": 3
   },
   "file_extension": ".py",
   "mimetype": "text/x-python",
   "name": "python",
   "nbconvert_exporter": "python",
   "pygments_lexer": "ipython3",
   "version": "3.10.12"
  }
 },
 "nbformat": 4,
 "nbformat_minor": 2
}
