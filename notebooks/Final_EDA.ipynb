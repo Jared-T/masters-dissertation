{
 "cells": [
  {
   "cell_type": "code",
   "execution_count": 1,
   "metadata": {},
   "outputs": [],
   "source": [
    "import pandas as pd\n",
    "import os\n",
    "\n",
    "# Read in the dataset\n",
    "trans_df = pd.read_csv(os.path.join(\"..\", \"data\", \"Final with Coords, Fuel Type and Prices.csv\"))\n",
    "vehicle_df = pd.read_csv(os.path.join(\"..\", \"data\", \"Final KMPL dataset.csv\"))"
   ]
  },
  {
   "cell_type": "code",
   "execution_count": 2,
   "metadata": {},
   "outputs": [
    {
     "data": {
      "text/plain": [
       "(175933, 21)"
      ]
     },
     "execution_count": 2,
     "metadata": {},
     "output_type": "execute_result"
    }
   ],
   "source": [
    "trans_df.shape"
   ]
  },
  {
   "cell_type": "code",
   "execution_count": 3,
   "metadata": {},
   "outputs": [
    {
     "data": {
      "text/plain": [
       "Index(['Reg', 'Overlap_Start', 'Overlap_End', 'Total_Km', 'Total_Litres',\n",
       "       'KMPL', 'REG_NUM', 'VEHICLE MAKE', 'MODEL DERIVATIVE', 'DEPARTMENT',\n",
       "       'District', 'Site', 'Site Lat', 'Site Long', 'Fuel Type',\n",
       "       'RATE CARD CATEGORY', 'Total Transaction Amount',\n",
       "       'Mean Transaction Amount', 'Total No. of Litres', 'Mean No. of Litres'],\n",
       "      dtype='object')"
      ]
     },
     "execution_count": 3,
     "metadata": {},
     "output_type": "execute_result"
    }
   ],
   "source": [
    "vehicle_df.columns"
   ]
  },
  {
   "cell_type": "code",
   "execution_count": 4,
   "metadata": {},
   "outputs": [
    {
     "data": {
      "text/plain": [
       "Index(['Transaction Date', 'REG_NUM', 'Merchant Name', 'No. of Litres',\n",
       "       'Transaction Amount', 'VEHICLE MAKE', 'MODEL DERIVATIVE', 'DEPARTMENT',\n",
       "       'RATE CARD CATEGORY', 'Site', 'District', 'Site Lat', 'Site Long',\n",
       "       'Merchant Lat', 'Merchant Long', 'Fuel Type',\n",
       "       'Estimated Price Per Litre', 'Coastal Petrol', 'Inland Petrol',\n",
       "       'Coastal Diesel', 'Inland Diesel'],\n",
       "      dtype='object')"
      ]
     },
     "execution_count": 4,
     "metadata": {},
     "output_type": "execute_result"
    }
   ],
   "source": [
    "trans_df.columns"
   ]
  },
  {
   "cell_type": "code",
   "execution_count": 5,
   "metadata": {},
   "outputs": [],
   "source": [
    "# Remove the word \"CATEGORY\" from the 'RATE CARD CATEGORY' in vehicle_df\n",
    "vehicle_df['RATE CARD CATEGORY'] = vehicle_df['RATE CARD CATEGORY'].str.replace('CATEGORY', '')\n",
    "\n",
    "trans_df['RATE CARD CATEGORY'] = trans_df['RATE CARD CATEGORY'].str.replace('CATEGORY', '')"
   ]
  },
  {
   "cell_type": "code",
   "execution_count": 6,
   "metadata": {},
   "outputs": [],
   "source": [
    "# Calculate the number of days between transactions for each vehicle\n",
    "trans_df['Transaction Date'] = pd.to_datetime(trans_df['Transaction Date'])\n",
    "\n",
    "# Sort data by 'REG_NUM' and 'Transaction Date'\n",
    "trans_df.sort_values(by=['REG_NUM', 'Transaction Date'], inplace=True)\n",
    "\n",
    "# Calculate the difference in days between transactions for each vehicle\n",
    "trans_df['Days Between Transactions'] = trans_df.groupby('REG_NUM')['Transaction Date'].diff().dt.days"
   ]
  },
  {
   "cell_type": "code",
   "execution_count": 17,
   "metadata": {},
   "outputs": [
    {
     "data": {
      "text/plain": [
       "3468"
      ]
     },
     "execution_count": 17,
     "metadata": {},
     "output_type": "execute_result"
    }
   ],
   "source": [
    "trans_df['Days Between Transactions'].isnull().sum()"
   ]
  },
  {
   "cell_type": "code",
   "execution_count": 20,
   "metadata": {},
   "outputs": [
    {
     "data": {
      "text/plain": [
       "(3468,)"
      ]
     },
     "execution_count": 20,
     "metadata": {},
     "output_type": "execute_result"
    }
   ],
   "source": [
    "trans_df['REG_NUM'].unique().shape"
   ]
  },
  {
   "cell_type": "code",
   "execution_count": 81,
   "metadata": {},
   "outputs": [
    {
     "data": {
      "text/plain": [
       "Index(['Transaction Date', 'REG_NUM', 'Merchant Name', 'No. of Litres',\n",
       "       'Transaction Amount', 'VEHICLE MAKE', 'MODEL DERIVATIVE', 'DEPARTMENT',\n",
       "       'RATE CARD CATEGORY', 'Site', 'District', 'Site Lat', 'Site Long',\n",
       "       'Merchant Lat', 'Merchant Long', 'Fuel Type',\n",
       "       'Estimated Price Per Litre', 'Coastal Petrol', 'Inland Petrol',\n",
       "       'Coastal Diesel', 'Inland Diesel', 'Days_Between_Transactions',\n",
       "       'Days Between Transactions', 'Days Between Transactions Category'],\n",
       "      dtype='object')"
      ]
     },
     "execution_count": 81,
     "metadata": {},
     "output_type": "execute_result"
    }
   ],
   "source": [
    "trans_df.columns"
   ]
  },
  {
   "cell_type": "code",
   "execution_count": 7,
   "metadata": {},
   "outputs": [
    {
     "data": {
      "text/html": [
       "<div>\n",
       "<style scoped>\n",
       "    .dataframe tbody tr th:only-of-type {\n",
       "        vertical-align: middle;\n",
       "    }\n",
       "\n",
       "    .dataframe tbody tr th {\n",
       "        vertical-align: top;\n",
       "    }\n",
       "\n",
       "    .dataframe thead th {\n",
       "        text-align: right;\n",
       "    }\n",
       "</style>\n",
       "<table border=\"1\" class=\"dataframe\">\n",
       "  <thead>\n",
       "    <tr style=\"text-align: right;\">\n",
       "      <th></th>\n",
       "      <th>REG_NUM</th>\n",
       "      <th>Transaction Date</th>\n",
       "      <th>MODEL DERIVATIVE</th>\n",
       "      <th>No. of Litres</th>\n",
       "      <th>Days Between Transactions</th>\n",
       "    </tr>\n",
       "  </thead>\n",
       "  <tbody>\n",
       "    <tr>\n",
       "      <th>41891</th>\n",
       "      <td>GGG750EC</td>\n",
       "      <td>2021-06-10</td>\n",
       "      <td>CRAFTER 35 2.0 TDI 103KW MAN MWB</td>\n",
       "      <td>60.77</td>\n",
       "      <td>NaN</td>\n",
       "    </tr>\n",
       "    <tr>\n",
       "      <th>59006</th>\n",
       "      <td>GGG750EC</td>\n",
       "      <td>2021-07-17</td>\n",
       "      <td>CRAFTER 35 2.0 TDI 103KW MAN MWB</td>\n",
       "      <td>37.74</td>\n",
       "      <td>37.0</td>\n",
       "    </tr>\n",
       "    <tr>\n",
       "      <th>59007</th>\n",
       "      <td>GGG750EC</td>\n",
       "      <td>2021-07-17</td>\n",
       "      <td>CRAFTER 35 2.0 TDI 103KW MAN MWB</td>\n",
       "      <td>50.57</td>\n",
       "      <td>0.0</td>\n",
       "    </tr>\n",
       "    <tr>\n",
       "      <th>77020</th>\n",
       "      <td>GGG750EC</td>\n",
       "      <td>2021-08-03</td>\n",
       "      <td>CRAFTER 35 2.0 TDI 103KW MAN MWB</td>\n",
       "      <td>25.16</td>\n",
       "      <td>17.0</td>\n",
       "    </tr>\n",
       "    <tr>\n",
       "      <th>77021</th>\n",
       "      <td>GGG750EC</td>\n",
       "      <td>2021-08-06</td>\n",
       "      <td>CRAFTER 35 2.0 TDI 103KW MAN MWB</td>\n",
       "      <td>52.23</td>\n",
       "      <td>3.0</td>\n",
       "    </tr>\n",
       "    <tr>\n",
       "      <th>115215</th>\n",
       "      <td>GGG750EC</td>\n",
       "      <td>2021-10-13</td>\n",
       "      <td>CRAFTER 35 2.0 TDI 103KW MAN MWB</td>\n",
       "      <td>22.63</td>\n",
       "      <td>68.0</td>\n",
       "    </tr>\n",
       "    <tr>\n",
       "      <th>115216</th>\n",
       "      <td>GGG750EC</td>\n",
       "      <td>2021-10-15</td>\n",
       "      <td>CRAFTER 35 2.0 TDI 103KW MAN MWB</td>\n",
       "      <td>52.26</td>\n",
       "      <td>2.0</td>\n",
       "    </tr>\n",
       "    <tr>\n",
       "      <th>115217</th>\n",
       "      <td>GGG750EC</td>\n",
       "      <td>2021-10-22</td>\n",
       "      <td>CRAFTER 35 2.0 TDI 103KW MAN MWB</td>\n",
       "      <td>61.24</td>\n",
       "      <td>7.0</td>\n",
       "    </tr>\n",
       "    <tr>\n",
       "      <th>115218</th>\n",
       "      <td>GGG750EC</td>\n",
       "      <td>2021-10-26</td>\n",
       "      <td>CRAFTER 35 2.0 TDI 103KW MAN MWB</td>\n",
       "      <td>51.26</td>\n",
       "      <td>4.0</td>\n",
       "    </tr>\n",
       "    <tr>\n",
       "      <th>115219</th>\n",
       "      <td>GGG750EC</td>\n",
       "      <td>2021-10-27</td>\n",
       "      <td>CRAFTER 35 2.0 TDI 103KW MAN MWB</td>\n",
       "      <td>64.57</td>\n",
       "      <td>1.0</td>\n",
       "    </tr>\n",
       "    <tr>\n",
       "      <th>135074</th>\n",
       "      <td>GGG750EC</td>\n",
       "      <td>2021-11-16</td>\n",
       "      <td>CRAFTER 35 2.0 TDI 103KW MAN MWB</td>\n",
       "      <td>54.17</td>\n",
       "      <td>20.0</td>\n",
       "    </tr>\n",
       "    <tr>\n",
       "      <th>135075</th>\n",
       "      <td>GGG750EC</td>\n",
       "      <td>2021-11-17</td>\n",
       "      <td>CRAFTER 35 2.0 TDI 103KW MAN MWB</td>\n",
       "      <td>66.80</td>\n",
       "      <td>1.0</td>\n",
       "    </tr>\n",
       "    <tr>\n",
       "      <th>153706</th>\n",
       "      <td>GGG750EC</td>\n",
       "      <td>2021-11-29</td>\n",
       "      <td>CRAFTER 35 2.0 TDI 103KW MAN MWB</td>\n",
       "      <td>44.15</td>\n",
       "      <td>12.0</td>\n",
       "    </tr>\n",
       "    <tr>\n",
       "      <th>153707</th>\n",
       "      <td>GGG750EC</td>\n",
       "      <td>2021-11-30</td>\n",
       "      <td>CRAFTER 35 2.0 TDI 103KW MAN MWB</td>\n",
       "      <td>56.70</td>\n",
       "      <td>1.0</td>\n",
       "    </tr>\n",
       "    <tr>\n",
       "      <th>153708</th>\n",
       "      <td>GGG750EC</td>\n",
       "      <td>2021-12-01</td>\n",
       "      <td>CRAFTER 35 2.0 TDI 103KW MAN MWB</td>\n",
       "      <td>46.29</td>\n",
       "      <td>1.0</td>\n",
       "    </tr>\n",
       "  </tbody>\n",
       "</table>\n",
       "</div>"
      ],
      "text/plain": [
       "         REG_NUM Transaction Date                   MODEL DERIVATIVE  \\\n",
       "41891   GGG750EC       2021-06-10  CRAFTER 35 2.0 TDI 103KW MAN MWB    \n",
       "59006   GGG750EC       2021-07-17  CRAFTER 35 2.0 TDI 103KW MAN MWB    \n",
       "59007   GGG750EC       2021-07-17  CRAFTER 35 2.0 TDI 103KW MAN MWB    \n",
       "77020   GGG750EC       2021-08-03  CRAFTER 35 2.0 TDI 103KW MAN MWB    \n",
       "77021   GGG750EC       2021-08-06  CRAFTER 35 2.0 TDI 103KW MAN MWB    \n",
       "115215  GGG750EC       2021-10-13  CRAFTER 35 2.0 TDI 103KW MAN MWB    \n",
       "115216  GGG750EC       2021-10-15  CRAFTER 35 2.0 TDI 103KW MAN MWB    \n",
       "115217  GGG750EC       2021-10-22  CRAFTER 35 2.0 TDI 103KW MAN MWB    \n",
       "115218  GGG750EC       2021-10-26  CRAFTER 35 2.0 TDI 103KW MAN MWB    \n",
       "115219  GGG750EC       2021-10-27  CRAFTER 35 2.0 TDI 103KW MAN MWB    \n",
       "135074  GGG750EC       2021-11-16  CRAFTER 35 2.0 TDI 103KW MAN MWB    \n",
       "135075  GGG750EC       2021-11-17  CRAFTER 35 2.0 TDI 103KW MAN MWB    \n",
       "153706  GGG750EC       2021-11-29  CRAFTER 35 2.0 TDI 103KW MAN MWB    \n",
       "153707  GGG750EC       2021-11-30  CRAFTER 35 2.0 TDI 103KW MAN MWB    \n",
       "153708  GGG750EC       2021-12-01  CRAFTER 35 2.0 TDI 103KW MAN MWB    \n",
       "\n",
       "        No. of Litres  Days Between Transactions  \n",
       "41891           60.77                        NaN  \n",
       "59006           37.74                       37.0  \n",
       "59007           50.57                        0.0  \n",
       "77020           25.16                       17.0  \n",
       "77021           52.23                        3.0  \n",
       "115215          22.63                       68.0  \n",
       "115216          52.26                        2.0  \n",
       "115217          61.24                        7.0  \n",
       "115218          51.26                        4.0  \n",
       "115219          64.57                        1.0  \n",
       "135074          54.17                       20.0  \n",
       "135075          66.80                        1.0  \n",
       "153706          44.15                       12.0  \n",
       "153707          56.70                        1.0  \n",
       "153708          46.29                        1.0  "
      ]
     },
     "execution_count": 7,
     "metadata": {},
     "output_type": "execute_result"
    }
   ],
   "source": [
    "import random\n",
    "# Select a random vehicle to check the days between transactions\n",
    "# Select a random vehicle\n",
    "random_vehicle = random.choice(trans_df['REG_NUM'].unique())\n",
    "\n",
    "# Filter the DataFrame for the selected vehicle\n",
    "selected_vehicle = trans_df[trans_df['REG_NUM'] == random_vehicle]\n",
    "\n",
    "# Check the days between transactions for the selected vehicle\n",
    "days_between_transactions = selected_vehicle[['REG_NUM', 'Transaction Date', 'MODEL DERIVATIVE',\n",
    "                                              'No. of Litres', 'Days Between Transactions']]\n",
    "\n",
    "# Print the result\n",
    "days_between_transactions\n",
    "\n"
   ]
  },
  {
   "cell_type": "code",
   "execution_count": 8,
   "metadata": {},
   "outputs": [
    {
     "data": {
      "text/plain": [
       "REG_NUM\n",
       "GGA001EC     1.378571\n",
       "GGA005EC     2.232323\n",
       "GGA007EC    66.000000\n",
       "GGA008EC     3.716049\n",
       "GGA011EC     3.730769\n",
       "Name: Days Between Transactions, dtype: float64"
      ]
     },
     "execution_count": 8,
     "metadata": {},
     "output_type": "execute_result"
    }
   ],
   "source": [
    "# Get the average number of days between transactions for each vehicle and add it to the vehicle_df\n",
    "average_days_between_transactions = trans_df.groupby('REG_NUM')['Days Between Transactions'].mean()\n",
    "\n",
    "average_days_between_transactions.head()"
   ]
  },
  {
   "cell_type": "code",
   "execution_count": 9,
   "metadata": {},
   "outputs": [],
   "source": [
    "# Merge the average_days_between_transactions with the vehicle_df\n",
    "vehicle_df = vehicle_df.merge(average_days_between_transactions, how='left', left_on='REG_NUM', right_on='REG_NUM')\n",
    "\n",
    "# Rename the column\n",
    "vehicle_df.rename(columns={'Days Between Transactions': 'Average Days Between Transactions'}, inplace=True)"
   ]
  },
  {
   "cell_type": "markdown",
   "metadata": {},
   "source": [
    "# Fleet Composition"
   ]
  },
  {
   "cell_type": "code",
   "execution_count": 10,
   "metadata": {},
   "outputs": [],
   "source": [
    "import matplotlib.pyplot as plt\n",
    "import pandas as pd\n",
    "from matplotlib.ticker import FixedLocator, FixedFormatter\n",
    "import seaborn as sns\n",
    "\n",
    "def shorten_names(names, max_length=20):\n",
    "    shortened_names = []\n",
    "    for name in names:\n",
    "        if len(name) > max_length:\n",
    "            shortened_name = name[:max_length-3] + '...'\n",
    "        else:\n",
    "            shortened_name = name\n",
    "        shortened_names.append(shortened_name)\n",
    "    return shortened_names\n",
    "\n",
    "\n",
    "def create_countplot(data, filename, threshold, max_length=50):\n",
    "    # Filter the data and calculate the sum of counts for the remaining categories\n",
    "    filtered_data = data[data >= threshold]\n",
    "    others_count = data[data < threshold].sum()\n",
    "    filtered_data['Others'] = others_count\n",
    "\n",
    "    # Shorten the names for each category\n",
    "    shortened_names = shorten_names(filtered_data.index, max_length=max_length)\n",
    "\n",
    "    # Create a single plot\n",
    "    fig, ax = plt.subplots(figsize=(8, 8))\n",
    "\n",
    "    # Set the font size for the title and labels\n",
    "    label_font_size = 12\n",
    "    y_label_font_size = 14\n",
    "\n",
    "    # Plot the data\n",
    "    ax.bar(shortened_names, filtered_data)\n",
    "    ax.set_xticklabels(shortened_names, rotation=45, ha='right', fontsize=label_font_size)\n",
    "    ax.set_yticklabels(ax.get_yticks().astype(int), fontsize=label_font_size)\n",
    "    ax.set_ylabel('Count', fontsize=y_label_font_size)\n",
    "\n",
    "    # Adjust the spacing\n",
    "    plt.tight_layout()\n",
    "\n",
    "    # Save the plot as a PDF file\n",
    "    plt.savefig(filename, format='pdf', bbox_inches='tight')\n",
    "\n",
    "    # Close the plot\n",
    "    plt.close(fig)\n",
    "\n",
    "\n",
    "def countplot_side_by_side(data1, data2, title1, title2, filename, threshold1, threshold2, max_length=50):\n",
    "    # Filter the data and calculate the sum of counts for the remaining categories\n",
    "    filtered_data1 = data1[data1 >= threshold1]\n",
    "    others_count1 = data1[data1 < threshold1].sum()\n",
    "    filtered_data1 = filtered_data1.to_frame()\n",
    "\n",
    "    if others_count1 > 0:\n",
    "        filtered_data1.loc['Others'] = others_count1\n",
    "\n",
    "    filtered_data2 = data2[data2 >= threshold2]\n",
    "    others_count2 = data2[data2 < threshold2].sum()\n",
    "    filtered_data2 = filtered_data2.to_frame()\n",
    "\n",
    "    if others_count2 > 0:\n",
    "        filtered_data2.loc['Others'] = others_count2\n",
    "\n",
    "    # Shorten the names for each category\n",
    "    shortened_names1 = shorten_names(filtered_data1.index, max_length=max_length)\n",
    "    shortened_names2 = shorten_names(filtered_data2.index, max_length=max_length)\n",
    "\n",
    "    # Create a figure with two subplots side by side\n",
    "    fig, (ax1, ax2) = plt.subplots(1, 2, figsize=(10, 6))\n",
    "\n",
    "    # Set the font size for the labels\n",
    "    label_font_size = 12\n",
    "    y_label_font_size = 14\n",
    "\n",
    "    # Plot the data for the first subplot\n",
    "    ax1.bar(shortened_names1, filtered_data1.iloc[:, 0])\n",
    "    ax1.set_xticklabels(shortened_names1, rotation=45, ha='right', fontsize=label_font_size)\n",
    "    ax1.set_ylabel('Count', fontsize=y_label_font_size)\n",
    "    ax1.set_title(f'a) {title1}')\n",
    "\n",
    "    # Plot the data for the second subplot\n",
    "    ax2.bar(shortened_names2, filtered_data2.iloc[:, 0])\n",
    "    ax2.set_xticklabels(shortened_names2, rotation=45, ha='right', fontsize=label_font_size)\n",
    "    ax2.set_title(f'b) {title2}')\n",
    "\n",
    "    # Set the y-axis ticks and labels to integer values for both subplots\n",
    "    yticks1 = ax1.get_yticks().astype(int)\n",
    "    yticks2 = ax2.get_yticks().astype(int)\n",
    "    ax1.yaxis.set_major_locator(FixedLocator(yticks1))\n",
    "    ax1.yaxis.set_major_formatter(FixedFormatter(yticks1))\n",
    "    ax1.tick_params(axis='y', labelsize=label_font_size)\n",
    "    ax2.yaxis.set_major_locator(FixedLocator(yticks2))\n",
    "    ax2.yaxis.set_major_formatter(FixedFormatter(yticks2))\n",
    "    ax2.tick_params(axis='y', labelsize=label_font_size)\n",
    "\n",
    "    # Adjust the spacing\n",
    "    plt.tight_layout()\n",
    "\n",
    "    # Save the plot as a PDF file\n",
    "    plt.savefig(filename, format='pdf', bbox_inches='tight')\n",
    "\n",
    "    # Close the plot\n",
    "    plt.close(fig)\n",
    "\n",
    "\n",
    "def histogram_side_by_side(data1, var1, data2, var2, title1, title2, filename, bins=20):\n",
    "    # Create a figure with two subplots side by side\n",
    "    fig, (ax1, ax2) = plt.subplots(1, 2, figsize=(10, 6))\n",
    "\n",
    "    # Set the font size for the labels\n",
    "    label_font_size = 12\n",
    "    y_label_font_size = 14\n",
    "\n",
    "    # Plot the data for the first subplot\n",
    "    ax1.hist(data1[var1], bins=bins, edgecolor='black')\n",
    "    ax1.set_xlabel(var1, fontsize=label_font_size)\n",
    "    ax1.set_ylabel('Frequency', fontsize=y_label_font_size)\n",
    "    ax1.set_title(f'a) {title1}')\n",
    "\n",
    "    # Plot the data for the second subplot\n",
    "    ax2.hist(data2[var2], bins=bins, edgecolor='black')\n",
    "    ax2.set_xlabel(var2, fontsize=label_font_size)\n",
    "    ax2.set_ylabel('Frequency', fontsize=y_label_font_size)\n",
    "    ax2.set_title(f'b) {title2}')\n",
    "\n",
    "    # Set the y-axis ticks and labels to integer values for both subplots\n",
    "    yticks1 = ax1.get_yticks().astype(int)\n",
    "    yticks2 = ax2.get_yticks().astype(int)\n",
    "    ax1.yaxis.set_major_locator(FixedLocator(yticks1))\n",
    "    ax1.yaxis.set_major_formatter(FixedFormatter(yticks1))\n",
    "    ax1.tick_params(axis='y', labelsize=label_font_size)\n",
    "    ax2.yaxis.set_major_locator(FixedLocator(yticks2))\n",
    "    ax2.yaxis.set_major_formatter(FixedFormatter(yticks2))\n",
    "    ax2.tick_params(axis='y', labelsize=label_font_size)\n",
    "\n",
    "    # Adjust the spacing\n",
    "    plt.tight_layout()\n",
    "\n",
    "    # Save the plot as a PDF file\n",
    "    plt.savefig(filename, format='pdf', bbox_inches='tight')\n",
    "\n",
    "    # Close the plot\n",
    "    plt.close(fig)\n",
    "\n",
    "def barplot_side_by_side(data, cat_var, cont_var1, cont_var2, title1, title2, filename, max_length=50, largest_n=9, show_obs_count=False):\n",
    "    # Group the data by the categorical variable and calculate the mean of the continuous variables\n",
    "    grouped_data1 = data.groupby(cat_var)[cont_var1].mean().nlargest(largest_n)\n",
    "    grouped_data2 = data.groupby(cat_var)[cont_var2].mean().nlargest(largest_n)\n",
    "\n",
    "    # Calculate the sum of the remaining means for the \"Other\" category\n",
    "    other_mean1 = data[~data[cat_var].isin(grouped_data1.index)].groupby(cat_var)[cont_var1].mean().mean()\n",
    "    other_mean2 = data[~data[cat_var].isin(grouped_data2.index)].groupby(cat_var)[cont_var2].mean().mean()\n",
    "\n",
    "    # Append the \"Other\" category to the grouped data\n",
    "    grouped_data1['Other'] = other_mean1\n",
    "    grouped_data2['Other'] = other_mean2\n",
    "\n",
    "    # Shorten the names for each category\n",
    "    shortened_names = shorten_names(grouped_data1.index, max_length=max_length)\n",
    "\n",
    "    # Create a figure with two subplots side by side\n",
    "    fig, (ax1, ax2) = plt.subplots(1, 2, figsize=(10, 6))\n",
    "\n",
    "    # Set the font size for the labels\n",
    "    label_font_size = 12\n",
    "    y_label_font_size = 14\n",
    "\n",
    "    # Plot the data for the first subplot\n",
    "    bars1 = ax1.bar(shortened_names, grouped_data1)\n",
    "    ax1.set_xticklabels(shortened_names, rotation=45, ha='right', fontsize=label_font_size)\n",
    "    ax1.set_ylabel(f'Average {cont_var1}', fontsize=y_label_font_size)\n",
    "    ax1.set_title(f'a) {title1}')\n",
    "\n",
    "    # Add the number of observations on top of each bar for the first subplot if show_obs_count is True\n",
    "    if show_obs_count:\n",
    "        for i, name in enumerate(shortened_names):\n",
    "            obs_count = data[data[cat_var] == grouped_data1.index[i]].shape[0]\n",
    "            ax1.text(i, grouped_data1[i], f'{obs_count}', ha='center', va='bottom', fontsize=11)\n",
    "\n",
    "    # Plot the data for the second subplot\n",
    "    bars2 = ax2.bar(shortened_names, grouped_data2)\n",
    "    ax2.set_xticklabels(shortened_names, rotation=45, ha='right', fontsize=label_font_size)\n",
    "    ax2.set_ylabel(f'Average {cont_var2}', fontsize=y_label_font_size)\n",
    "    ax2.set_title(f'b) {title2}')\n",
    "\n",
    "    # Add the number of observations on top of each bar for the second subplot if show_obs_count is True\n",
    "    if show_obs_count:\n",
    "        for i, name in enumerate(shortened_names):\n",
    "            obs_count = data[data[cat_var] == grouped_data2.index[i]].shape[0]\n",
    "            ax2.text(i, grouped_data2[i], f'{obs_count}', ha='center', va='bottom', fontsize=11)\n",
    "\n",
    "    # Adjust the spacing\n",
    "    plt.tight_layout()\n",
    "\n",
    "    # Save the plot as a PDF file\n",
    "    plt.savefig(filename, format='pdf', bbox_inches='tight')\n",
    "\n",
    "    # Close the plot\n",
    "    plt.close(fig)\n",
    "\n",
    "def histogram_2x2(data1, var1, data2, var2, data3, var3, title1, title2, title3, filename, bins=20):\n",
    "    # Create a figure with three subplots side by side\n",
    "    fig, ((ax1, ax2), (ax3, ax4)) = plt.subplots(2, 2, figsize=(10, 8))\n",
    "\n",
    "    # Set the font size for the labels\n",
    "    label_font_size = 12\n",
    "    y_label_font_size = 14\n",
    "\n",
    "    # Plot the data for the first subplot\n",
    "    ax1.hist(data1[var1], bins=bins, edgecolor='black')\n",
    "    ax1.set_xlabel(var1, fontsize=label_font_size)\n",
    "    ax1.set_ylabel('Frequency', fontsize=y_label_font_size)\n",
    "    ax1.set_title(f'a) {title1}')\n",
    "\n",
    "    # Plot the data for the second subplot\n",
    "    ax2.hist(data2[var2], bins=bins, edgecolor='black')\n",
    "    ax2.set_xlabel(var2, fontsize=label_font_size)\n",
    "    ax2.set_ylabel('Frequency', fontsize=y_label_font_size)\n",
    "    ax2.set_title(f'b) {title2}')\n",
    "\n",
    "    # Plot the data for the third subplot\n",
    "    ax3.hist(data3[var3], bins=bins, edgecolor='black')\n",
    "    ax3.set_xlabel(var3, fontsize=label_font_size)\n",
    "    ax3.set_ylabel('Frequency', fontsize=y_label_font_size)\n",
    "    ax3.set_title(f'c) {title3}')\n",
    "\n",
    "    # Remove the fourth subplot (unused)\n",
    "    ax4.axis('off')\n",
    "\n",
    "    # Set the y-axis ticks and labels to integer values for all subplots\n",
    "    yticks1 = ax1.get_yticks().astype(int)\n",
    "    yticks2 = ax2.get_yticks().astype(int)\n",
    "    yticks3 = ax3.get_yticks().astype(int)\n",
    "\n",
    "    ax1.yaxis.set_major_locator(FixedLocator(yticks1))\n",
    "    ax1.yaxis.set_major_formatter(FixedFormatter(yticks1))\n",
    "    ax1.tick_params(axis='y', labelsize=label_font_size)\n",
    "\n",
    "    ax2.yaxis.set_major_locator(FixedLocator(yticks2))\n",
    "    ax2.yaxis.set_major_formatter(FixedFormatter(yticks2))\n",
    "    ax2.tick_params(axis='y', labelsize=label_font_size)\n",
    "\n",
    "    ax3.yaxis.set_major_locator(FixedLocator(yticks3))\n",
    "    ax3.yaxis.set_major_formatter(FixedFormatter(yticks3))\n",
    "    ax3.tick_params(axis='y', labelsize=label_font_size)\n",
    "\n",
    "    # Adjust the spacing\n",
    "    plt.tight_layout()\n",
    "\n",
    "    # Save the plot as a PDF file\n",
    "    plt.savefig(filename, format='pdf', bbox_inches='tight')\n",
    "\n",
    "    # Close the plot\n",
    "    plt.close(fig)\n",
    "\n",
    "def boxplot_side_by_side_cat(data, cat_var1, cat_var2, cont_var, title1, title2, filename):\n",
    "    # Create new columns for the top 5 categories and \"Other\"\n",
    "    top5_cat1 = data[cat_var1].value_counts().head(5).index\n",
    "    data[f'{cat_var1}_top5'] = data[cat_var1].apply(lambda x: x if x in top5_cat1 else 'Other')\n",
    "    \n",
    "    top5_cat2 = data[cat_var2].value_counts().head(5).index\n",
    "    data[f'{cat_var2}_top5'] = data[cat_var2].apply(lambda x: x if x in top5_cat2 else 'Other')\n",
    "    \n",
    "    # Shorten the category names\n",
    "    data[f'{cat_var1}_top5'] = shorten_names(data[f'{cat_var1}_top5'])\n",
    "    data[f'{cat_var2}_top5'] = shorten_names(data[f'{cat_var2}_top5'])\n",
    "    \n",
    "    # Setting the aesthetic style of the plots\n",
    "    sns.set(style=\"whitegrid\")\n",
    "    fig, (ax1, ax2) = plt.subplots(1, 2, figsize=(10, 6))\n",
    "    \n",
    "    # Plot the first boxplot\n",
    "    sns.boxplot(x=f'{cat_var1}_top5', y=cont_var, data=data, ax=ax1, palette=\"cividis\")\n",
    "    ax1.set_ylabel(cont_var, fontsize=14)\n",
    "    ax1.set_xlabel(\"\", fontsize=14)\n",
    "    ax1.set_title(f'a) {title1}')\n",
    "    ax1.set_xticklabels(ax1.get_xticklabels(), rotation=45, ha='right')\n",
    "    \n",
    "    # Plot the second boxplot\n",
    "    sns.boxplot(x=f'{cat_var2}_top5', y=cont_var, data=data, ax=ax2, palette=\"cividis\")\n",
    "    ax2.set_ylabel(\"\", fontsize=14)\n",
    "    ax2.set_xlabel(\"\", fontsize=14)\n",
    "    ax2.set_title(f'b) {title2}')\n",
    "    ax2.set_xticklabels(ax2.get_xticklabels(), rotation=45, ha='right')\n",
    "    \n",
    "    # Adjust the spacing\n",
    "    plt.tight_layout()\n",
    "    \n",
    "    # Save the plot as a PDF file with high resolution\n",
    "    plt.savefig(filename, format='pdf', dpi=300)\n",
    "    \n",
    "    # Close the plot\n",
    "    plt.close(fig)"
   ]
  },
  {
   "cell_type": "code",
   "execution_count": 11,
   "metadata": {},
   "outputs": [],
   "source": [
    "# Group the DataFrame by 'MODEL DERIVATIVE' and count the occurrences\n",
    "fleet_data_derivative = vehicle_df['MODEL DERIVATIVE'].value_counts()\n",
    "trans_data_derivative = trans_df['MODEL DERIVATIVE'].value_counts()\n",
    "\n",
    "# Group the DataFrame by 'VEHICLE MAKE' and count the occurrences\n",
    "fleet_data_make = vehicle_df['VEHICLE MAKE'].value_counts()\n",
    "trans_data_make = trans_df['VEHICLE MAKE'].value_counts()\n",
    "\n",
    "# Group the DataFrame by 'DEPARTMENT' and count the occurrences\n",
    "fleet_data_department = vehicle_df['DEPARTMENT'].value_counts()\n",
    "trans_data_department = trans_df['DEPARTMENT'].value_counts()\n",
    "\n",
    "# Group the DataFrame by 'RATE CARD CATEGORY' and count the occurrences\n",
    "fleet_data_rate_card = vehicle_df['RATE CARD CATEGORY'].value_counts()\n",
    "trans_data_rate_card = trans_df['RATE CARD CATEGORY'].value_counts()"
   ]
  },
  {
   "cell_type": "code",
   "execution_count": 13,
   "metadata": {},
   "outputs": [
    {
     "name": "stderr",
     "output_type": "stream",
     "text": [
      "/var/folders/v7/l0jq1cbd0fnf4ytmwzksxt0r0000gn/T/ipykernel_12460/3085069622.py:77: UserWarning: FixedFormatter should only be used together with FixedLocator\n",
      "  ax1.set_xticklabels(shortened_names1, rotation=45, ha='right', fontsize=label_font_size)\n",
      "/var/folders/v7/l0jq1cbd0fnf4ytmwzksxt0r0000gn/T/ipykernel_12460/3085069622.py:83: UserWarning: FixedFormatter should only be used together with FixedLocator\n",
      "  ax2.set_xticklabels(shortened_names2, rotation=45, ha='right', fontsize=label_font_size)\n",
      "/var/folders/v7/l0jq1cbd0fnf4ytmwzksxt0r0000gn/T/ipykernel_12460/3085069622.py:77: UserWarning: FixedFormatter should only be used together with FixedLocator\n",
      "  ax1.set_xticklabels(shortened_names1, rotation=45, ha='right', fontsize=label_font_size)\n",
      "/var/folders/v7/l0jq1cbd0fnf4ytmwzksxt0r0000gn/T/ipykernel_12460/3085069622.py:83: UserWarning: FixedFormatter should only be used together with FixedLocator\n",
      "  ax2.set_xticklabels(shortened_names2, rotation=45, ha='right', fontsize=label_font_size)\n",
      "/var/folders/v7/l0jq1cbd0fnf4ytmwzksxt0r0000gn/T/ipykernel_12460/3085069622.py:77: UserWarning: FixedFormatter should only be used together with FixedLocator\n",
      "  ax1.set_xticklabels(shortened_names1, rotation=45, ha='right', fontsize=label_font_size)\n",
      "/var/folders/v7/l0jq1cbd0fnf4ytmwzksxt0r0000gn/T/ipykernel_12460/3085069622.py:83: UserWarning: FixedFormatter should only be used together with FixedLocator\n",
      "  ax2.set_xticklabels(shortened_names2, rotation=45, ha='right', fontsize=label_font_size)\n",
      "/var/folders/v7/l0jq1cbd0fnf4ytmwzksxt0r0000gn/T/ipykernel_12460/3085069622.py:77: UserWarning: FixedFormatter should only be used together with FixedLocator\n",
      "  ax1.set_xticklabels(shortened_names1, rotation=45, ha='right', fontsize=label_font_size)\n",
      "/var/folders/v7/l0jq1cbd0fnf4ytmwzksxt0r0000gn/T/ipykernel_12460/3085069622.py:83: UserWarning: FixedFormatter should only be used together with FixedLocator\n",
      "  ax2.set_xticklabels(shortened_names2, rotation=45, ha='right', fontsize=label_font_size)\n"
     ]
    }
   ],
   "source": [
    "# Create and save individual plots\n",
    "countplot_side_by_side(fleet_data_derivative, trans_data_derivative, \n",
    "                     'Fleet', 'Transactions', \n",
    "                     '../plots/eda/model_derivative.pdf', \n",
    "                     25, 5000,\n",
    "                     20)\n",
    "\n",
    "countplot_side_by_side(fleet_data_make, trans_data_make, \n",
    "                     'Fleet', 'Transactions', \n",
    "                     '../plots/eda/make.pdf', \n",
    "                     20, 5000,\n",
    "                     20)\n",
    "\n",
    "countplot_side_by_side(fleet_data_department, trans_data_department, \n",
    "                     'Fleet', 'Transactions', \n",
    "                     '../plots/eda/department.pdf', \n",
    "                     20, 5000,\n",
    "                     20)\n",
    "\n",
    "countplot_side_by_side(fleet_data_rate_card, trans_data_rate_card, \n",
    "                     'Fleet', 'Transactions', \n",
    "                     '../plots/eda/rate_card.pdf', \n",
    "                     20, 5000,\n",
    "                     20)"
   ]
  },
  {
   "cell_type": "code",
   "execution_count": 12,
   "metadata": {},
   "outputs": [],
   "source": [
    "# Convert the date column to a datetime object\n",
    "trans_df['Transaction Date'] = pd.to_datetime(trans_df['Transaction Date'])\n",
    "\n",
    "# Create a new column for the month name\n",
    "trans_df['Month Name'] = trans_df['Transaction Date'].dt.month_name()\n",
    "\n",
    "# Create a new column for the weekday name\n",
    "trans_df['Weekday Name'] = trans_df['Transaction Date'].dt.day_name()"
   ]
  },
  {
   "cell_type": "code",
   "execution_count": 14,
   "metadata": {},
   "outputs": [
    {
     "data": {
      "text/plain": [
       "Index(['Transaction Date', 'REG_NUM', 'Merchant Name', 'No. of Litres',\n",
       "       'Transaction Amount', 'VEHICLE MAKE', 'MODEL DERIVATIVE', 'DEPARTMENT',\n",
       "       'RATE CARD CATEGORY', 'Site', 'District', 'Site Lat', 'Site Long',\n",
       "       'Merchant Lat', 'Merchant Long', 'Fuel Type',\n",
       "       'Estimated Price Per Litre', 'Coastal Petrol', 'Inland Petrol',\n",
       "       'Coastal Diesel', 'Inland Diesel', 'Month Name', 'Weekday Name'],\n",
       "      dtype='object')"
      ]
     },
     "execution_count": 14,
     "metadata": {},
     "output_type": "execute_result"
    }
   ],
   "source": [
    "trans_df.columns"
   ]
  },
  {
   "cell_type": "code",
   "execution_count": 13,
   "metadata": {},
   "outputs": [],
   "source": [
    "trans_data_wday = trans_df['Weekday Name'].value_counts()\n",
    "trans_data_month = trans_df['Month Name'].value_counts()"
   ]
  },
  {
   "cell_type": "code",
   "execution_count": 16,
   "metadata": {},
   "outputs": [
    {
     "name": "stderr",
     "output_type": "stream",
     "text": [
      "/var/folders/v7/l0jq1cbd0fnf4ytmwzksxt0r0000gn/T/ipykernel_64108/198997191.py:77: UserWarning: FixedFormatter should only be used together with FixedLocator\n",
      "  ax1.set_xticklabels(shortened_names1, rotation=45, ha='right', fontsize=label_font_size)\n",
      "/var/folders/v7/l0jq1cbd0fnf4ytmwzksxt0r0000gn/T/ipykernel_64108/198997191.py:83: UserWarning: FixedFormatter should only be used together with FixedLocator\n",
      "  ax2.set_xticklabels(shortened_names2, rotation=45, ha='right', fontsize=label_font_size)\n"
     ]
    }
   ],
   "source": [
    "# Create and save individual plots\n",
    "countplot_side_by_side(trans_data_wday, trans_data_month, \n",
    "                     'Weekday', 'Month', \n",
    "                     '../plots/eda/month_weekday.pdf', \n",
    "                     5000, 5000,\n",
    "                     30)"
   ]
  },
  {
   "cell_type": "code",
   "execution_count": 48,
   "metadata": {},
   "outputs": [
    {
     "name": "stderr",
     "output_type": "stream",
     "text": [
      "/var/folders/v7/l0jq1cbd0fnf4ytmwzksxt0r0000gn/T/ipykernel_65099/1924397537.py:77: UserWarning: FixedFormatter should only be used together with FixedLocator\n",
      "  ax1.set_xticklabels(shortened_names1, rotation=45, ha='right', fontsize=label_font_size)\n",
      "/var/folders/v7/l0jq1cbd0fnf4ytmwzksxt0r0000gn/T/ipykernel_65099/1924397537.py:83: UserWarning: FixedFormatter should only be used together with FixedLocator\n",
      "  ax2.set_xticklabels(shortened_names2, rotation=45, ha='right', fontsize=label_font_size)\n"
     ]
    }
   ],
   "source": [
    "trans_data_merchant = trans_df['Merchant Name'].value_counts()\n",
    "trans_data_fuel_type = trans_df['Fuel Type'].value_counts()\n",
    "\n",
    "countplot_side_by_side(trans_data_merchant, trans_data_fuel_type, \n",
    "                     'Merchant Name', 'Fuel Type', \n",
    "                     '../plots/eda/merchants_fuel_type.pdf', \n",
    "                     3000, 2000,\n",
    "                     30)"
   ]
  },
  {
   "cell_type": "code",
   "execution_count": 14,
   "metadata": {},
   "outputs": [],
   "source": [
    "# Rename the \"UNKNOWN\" category to \"Unknown\" in the 'District' column\n",
    "vehicle_df['District'] = vehicle_df['District'].replace('UNKNOWN', 'Unknown')\n",
    "vehicle_df['Site'] = vehicle_df['Site'].replace('Pe', 'PE')\n",
    "\n",
    "# Remove the values where Distict is \"Unknown\"\n",
    "vehicle_df_nd = vehicle_df[vehicle_df['District'] != \"Unknown\"]\n",
    "vehicle_df_ns = vehicle_df[vehicle_df['Site'] != \"Unknown\"]\n",
    "\n",
    "vehicle_data_district = vehicle_df_nd['District'].value_counts()\n",
    "vehicle_data_site = vehicle_df_ns['Site'].value_counts()"
   ]
  },
  {
   "cell_type": "code",
   "execution_count": 20,
   "metadata": {},
   "outputs": [
    {
     "name": "stderr",
     "output_type": "stream",
     "text": [
      "/var/folders/v7/l0jq1cbd0fnf4ytmwzksxt0r0000gn/T/ipykernel_12460/3085069622.py:77: UserWarning: FixedFormatter should only be used together with FixedLocator\n",
      "  ax1.set_xticklabels(shortened_names1, rotation=45, ha='right', fontsize=label_font_size)\n",
      "/var/folders/v7/l0jq1cbd0fnf4ytmwzksxt0r0000gn/T/ipykernel_12460/3085069622.py:83: UserWarning: FixedFormatter should only be used together with FixedLocator\n",
      "  ax2.set_xticklabels(shortened_names2, rotation=45, ha='right', fontsize=label_font_size)\n"
     ]
    }
   ],
   "source": [
    "# Create and save individual plots\n",
    "countplot_side_by_side(vehicle_data_district, vehicle_data_site, \n",
    "                     'District', 'Site', \n",
    "                     '../plots/eda/district_site.pdf', \n",
    "                     20, 8,\n",
    "                     30)"
   ]
  },
  {
   "cell_type": "code",
   "execution_count": 53,
   "metadata": {},
   "outputs": [
    {
     "data": {
      "text/plain": [
       "Index(['Reg', 'Overlap_Start', 'Overlap_End', 'Total_Km', 'Total_Litres',\n",
       "       'KMPL', 'REG_NUM', 'VEHICLE MAKE', 'MODEL DERIVATIVE', 'DEPARTMENT',\n",
       "       'District', 'Site', 'Site Lat', 'Site Long', 'Fuel Type',\n",
       "       'RATE CARD CATEGORY', 'Total Transaction Amount',\n",
       "       'Mean Transaction Amount', 'Total No. of Litres', 'Mean No. of Litres',\n",
       "       'Average Days Between Transactions', 'Days Between Transactions_x',\n",
       "       'Days Between Transactions_y'],\n",
       "      dtype='object')"
      ]
     },
     "execution_count": 53,
     "metadata": {},
     "output_type": "execute_result"
    }
   ],
   "source": [
    "vehicle_df.columns"
   ]
  },
  {
   "cell_type": "code",
   "execution_count": 15,
   "metadata": {},
   "outputs": [],
   "source": [
    "# Filter out all transaction amounts that are greater than 5000\n",
    "trans_df_ne = trans_df[trans_df['Transaction Amount'] <= 5000]\n",
    "trans_df_ne = trans_df_ne[trans_df_ne['Transaction Amount'] > 0]\n",
    "\n",
    "trans_df_ne = trans_df_ne[trans_df_ne['No. of Litres'] <= 200]\n",
    "\n",
    "# Rename 'KMPL' to 'Kilometres per Litre'\n",
    "vehicle_df.rename(columns={'KMPL': 'Kilometres per Litre'}, inplace=True)\n",
    "\n",
    "histogram_2x2(trans_df_ne, 'Transaction Amount', trans_df_ne, 'No. of Litres', vehicle_df, 'Kilometres per Litre',\n",
    "                       'Transaction Amount', 'Number of Litres', 'Kilometres per Litre',\n",
    "                     '../plots/eda/transaction_litres_kmpl.pdf', \n",
    "                     20)"
   ]
  },
  {
   "cell_type": "code",
   "execution_count": 23,
   "metadata": {},
   "outputs": [],
   "source": [
    "histogram_side_by_side(trans_df_ne, 'Days Between Transactions', vehicle_df, 'Average Days Between Transactions',\n",
    "                       'Transactions', 'Vehicles', \n",
    "                     '../plots/eda/days_between_transactions.pdf', \n",
    "                     20)"
   ]
  },
  {
   "cell_type": "markdown",
   "metadata": {},
   "source": [
    "## Transaction and fleet amount means across different vars"
   ]
  },
  {
   "cell_type": "code",
   "execution_count": 14,
   "metadata": {},
   "outputs": [
    {
     "data": {
      "text/plain": [
       "Index(['Transaction Date', 'REG_NUM', 'Merchant Name', 'No. of Litres',\n",
       "       'Transaction Amount', 'VEHICLE MAKE', 'MODEL DERIVATIVE', 'DEPARTMENT',\n",
       "       'RATE CARD CATEGORY', 'Site', 'District', 'Site Lat', 'Site Long',\n",
       "       'Merchant Lat', 'Merchant Long', 'Fuel Type',\n",
       "       'Estimated Price Per Litre', 'Coastal Petrol', 'Inland Petrol',\n",
       "       'Coastal Diesel', 'Inland Diesel', 'Days_Between_Transactions'],\n",
       "      dtype='object')"
      ]
     },
     "execution_count": 14,
     "metadata": {},
     "output_type": "execute_result"
    }
   ],
   "source": [
    "trans_df.columns"
   ]
  },
  {
   "cell_type": "code",
   "execution_count": 58,
   "metadata": {},
   "outputs": [
    {
     "name": "stderr",
     "output_type": "stream",
     "text": [
      "/var/folders/v7/l0jq1cbd0fnf4ytmwzksxt0r0000gn/T/ipykernel_64108/3085069622.py:170: UserWarning: FixedFormatter should only be used together with FixedLocator\n",
      "  ax1.set_xticklabels(shortened_names, rotation=45, ha='right', fontsize=label_font_size)\n",
      "/var/folders/v7/l0jq1cbd0fnf4ytmwzksxt0r0000gn/T/ipykernel_64108/3085069622.py:176: UserWarning: FixedFormatter should only be used together with FixedLocator\n",
      "  ax2.set_xticklabels(shortened_names, rotation=45, ha='right', fontsize=label_font_size)\n",
      "/var/folders/v7/l0jq1cbd0fnf4ytmwzksxt0r0000gn/T/ipykernel_64108/3085069622.py:170: UserWarning: FixedFormatter should only be used together with FixedLocator\n",
      "  ax1.set_xticklabels(shortened_names, rotation=45, ha='right', fontsize=label_font_size)\n",
      "/var/folders/v7/l0jq1cbd0fnf4ytmwzksxt0r0000gn/T/ipykernel_64108/3085069622.py:176: UserWarning: FixedFormatter should only be used together with FixedLocator\n",
      "  ax2.set_xticklabels(shortened_names, rotation=45, ha='right', fontsize=label_font_size)\n",
      "/var/folders/v7/l0jq1cbd0fnf4ytmwzksxt0r0000gn/T/ipykernel_64108/3085069622.py:170: UserWarning: FixedFormatter should only be used together with FixedLocator\n",
      "  ax1.set_xticklabels(shortened_names, rotation=45, ha='right', fontsize=label_font_size)\n",
      "/var/folders/v7/l0jq1cbd0fnf4ytmwzksxt0r0000gn/T/ipykernel_64108/3085069622.py:176: UserWarning: FixedFormatter should only be used together with FixedLocator\n",
      "  ax2.set_xticklabels(shortened_names, rotation=45, ha='right', fontsize=label_font_size)\n",
      "/var/folders/v7/l0jq1cbd0fnf4ytmwzksxt0r0000gn/T/ipykernel_64108/3085069622.py:170: UserWarning: FixedFormatter should only be used together with FixedLocator\n",
      "  ax1.set_xticklabels(shortened_names, rotation=45, ha='right', fontsize=label_font_size)\n",
      "/var/folders/v7/l0jq1cbd0fnf4ytmwzksxt0r0000gn/T/ipykernel_64108/3085069622.py:176: UserWarning: FixedFormatter should only be used together with FixedLocator\n",
      "  ax2.set_xticklabels(shortened_names, rotation=45, ha='right', fontsize=label_font_size)\n",
      "/var/folders/v7/l0jq1cbd0fnf4ytmwzksxt0r0000gn/T/ipykernel_64108/3085069622.py:170: UserWarning: FixedFormatter should only be used together with FixedLocator\n",
      "  ax1.set_xticklabels(shortened_names, rotation=45, ha='right', fontsize=label_font_size)\n",
      "/var/folders/v7/l0jq1cbd0fnf4ytmwzksxt0r0000gn/T/ipykernel_64108/3085069622.py:176: UserWarning: FixedFormatter should only be used together with FixedLocator\n",
      "  ax2.set_xticklabels(shortened_names, rotation=45, ha='right', fontsize=label_font_size)\n",
      "/var/folders/v7/l0jq1cbd0fnf4ytmwzksxt0r0000gn/T/ipykernel_64108/3085069622.py:170: UserWarning: FixedFormatter should only be used together with FixedLocator\n",
      "  ax1.set_xticklabels(shortened_names, rotation=45, ha='right', fontsize=label_font_size)\n",
      "/var/folders/v7/l0jq1cbd0fnf4ytmwzksxt0r0000gn/T/ipykernel_64108/3085069622.py:176: UserWarning: FixedFormatter should only be used together with FixedLocator\n",
      "  ax2.set_xticklabels(shortened_names, rotation=45, ha='right', fontsize=label_font_size)\n",
      "/var/folders/v7/l0jq1cbd0fnf4ytmwzksxt0r0000gn/T/ipykernel_64108/3085069622.py:170: UserWarning: FixedFormatter should only be used together with FixedLocator\n",
      "  ax1.set_xticklabels(shortened_names, rotation=45, ha='right', fontsize=label_font_size)\n",
      "/var/folders/v7/l0jq1cbd0fnf4ytmwzksxt0r0000gn/T/ipykernel_64108/3085069622.py:176: UserWarning: FixedFormatter should only be used together with FixedLocator\n",
      "  ax2.set_xticklabels(shortened_names, rotation=45, ha='right', fontsize=label_font_size)\n"
     ]
    }
   ],
   "source": [
    "barplot_side_by_side(trans_df, 'VEHICLE MAKE', 'Transaction Amount', 'No. of Litres',\n",
    "                     'Transaction Amount', 'Number of Litres', \n",
    "                     '../plots/eda/biplot_make.pdf', \n",
    "                     25)\n",
    "\n",
    "barplot_side_by_side(trans_df, 'MODEL DERIVATIVE', 'Transaction Amount', 'No. of Litres',\n",
    "                     'Transaction Amount', 'Number of Litres', \n",
    "                     '../plots/eda/biplot_derivative.pdf', \n",
    "                     25)\n",
    "\n",
    "barplot_side_by_side(trans_df, 'DEPARTMENT', 'Transaction Amount', 'No. of Litres',\n",
    "                     'Transaction Amount', 'Number of Litres', \n",
    "                     '../plots/eda/biplot_department.pdf', \n",
    "                     25)\n",
    "\n",
    "barplot_side_by_side(trans_df, 'RATE CARD CATEGORY', 'Transaction Amount', 'No. of Litres',\n",
    "                     'Transaction Amount', 'Number of Litres', \n",
    "                     '../plots/eda/biplot_category.pdf', \n",
    "                     25)\n",
    "\n",
    "barplot_side_by_side(trans_df, 'District', 'Transaction Amount', 'No. of Litres',\n",
    "                     'Transaction Amount', 'Number of Litres', \n",
    "                     '../plots/eda/biplot_district.pdf', \n",
    "                     25)\n",
    "\n",
    "barplot_side_by_side(trans_df, 'Month Name', 'Transaction Amount', 'No. of Litres',\n",
    "                     'Transaction Amount', 'Number of Litres', \n",
    "                     '../plots/eda/biplot_month.pdf', \n",
    "                     25)\n",
    "\n",
    "barplot_side_by_side(trans_df, 'Weekday Name', 'Transaction Amount', 'No. of Litres',\n",
    "                     'Transaction Amount', 'Number of Litres', \n",
    "                     '../plots/eda/biplot_wday.pdf', \n",
    "                     25)"
   ]
  },
  {
   "cell_type": "code",
   "execution_count": 16,
   "metadata": {},
   "outputs": [
    {
     "name": "stderr",
     "output_type": "stream",
     "text": [
      "/var/folders/v7/l0jq1cbd0fnf4ytmwzksxt0r0000gn/T/ipykernel_15133/3262308434.py:171: UserWarning: FixedFormatter should only be used together with FixedLocator\n",
      "  ax1.set_xticklabels(shortened_names, rotation=45, ha='right', fontsize=label_font_size)\n",
      "/var/folders/v7/l0jq1cbd0fnf4ytmwzksxt0r0000gn/T/ipykernel_15133/3262308434.py:183: UserWarning: FixedFormatter should only be used together with FixedLocator\n",
      "  ax2.set_xticklabels(shortened_names, rotation=45, ha='right', fontsize=label_font_size)\n",
      "posx and posy should be finite values\n",
      "posx and posy should be finite values\n",
      "posx and posy should be finite values\n",
      "posx and posy should be finite values\n",
      "posx and posy should be finite values\n",
      "posx and posy should be finite values\n"
     ]
    }
   ],
   "source": [
    "# Define the bins for the different bands\n",
    "bins = [0, 2, 5, 10, 20, 30, float('inf')]\n",
    "\n",
    "# Define the labels for the different bands\n",
    "labels = ['< 2 days', '2-5 days', '5-10 days', '10-20 days', '20-30 days', '> 30 days']\n",
    "\n",
    "# Create the categorical variable using pd.cut()\n",
    "trans_df['Days Between Transactions Category'] = pd.cut(trans_df['Days Between Transactions'], bins=bins, labels=labels)\n",
    "\n",
    "barplot_side_by_side(trans_df, 'Days Between Transactions Category', 'Transaction Amount', 'No. of Litres',\n",
    "                     'Transaction Amount', 'Number of Litres', \n",
    "                     '../plots/eda/biplot_numdays.pdf', \n",
    "                     25, show_obs_count=True)"
   ]
  },
  {
   "cell_type": "code",
   "execution_count": 31,
   "metadata": {},
   "outputs": [],
   "source": [
    "# Calculate the average of each pair of number of litres for each vehicle\n",
    "trans_df['Avg Litres'] = trans_df.groupby('REG_NUM')['No. of Litres'].rolling(window=2).mean().reset_index(0, drop=True)\n",
    "\n",
    "# Calculate the difference in consecutive litres for each vehicle\n",
    "trans_df['Litres Diff'] = trans_df.groupby('REG_NUM')['No. of Litres'].diff()\n",
    "\n",
    "# Create a new DataFrame with the required columns\n",
    "plot_df = trans_df[['Days Between Transactions Category', 'Avg Litres', 'Litres Diff']].dropna()\n",
    "\n",
    "# Setting the aesthetic style of the plots\n",
    "sns.set(style=\"whitegrid\")\n",
    "fig, (ax1, ax2) = plt.subplots(1, 2, figsize=(10, 6))\n",
    "\n",
    "# Plot the first boxplot\n",
    "sns.boxplot(x='Days Between Transactions Category', y='Avg Litres', data=plot_df, ax=ax1, palette=\"cividis\")\n",
    "ax1.set_ylabel('2-Day Rolling Average Litres', fontsize=14)\n",
    "ax1.set_xlabel('', fontsize=14)\n",
    "ax1.set_title('a) Distribution of Average Litres')\n",
    "ax1.set_xticklabels(ax1.get_xticklabels(), rotation=45, ha='right')\n",
    "\n",
    "# Plot the second boxplot\n",
    "sns.boxplot(x='Days Between Transactions Category', y='Litres Diff', data=plot_df, ax=ax2, palette=\"cividis\")\n",
    "ax2.set_ylabel('Difference in Consecutive Litres', fontsize=14)\n",
    "ax2.set_xlabel('', fontsize=14)\n",
    "ax2.set_title('b) Distribution of Difference in Consecutive Litres')\n",
    "ax2.set_xticklabels(ax2.get_xticklabels(), rotation=45, ha='right')\n",
    "\n",
    "# Adjust the spacing\n",
    "plt.tight_layout()\n",
    "\n",
    "# Save the plot as a PDF file with high resolution\n",
    "plt.savefig('../plots/eda/boxplot_avgdays_avglitres_diff.pdf', format='pdf', dpi=300)\n",
    "\n",
    "# Close the plot\n",
    "plt.close(fig)"
   ]
  },
  {
   "cell_type": "code",
   "execution_count": 38,
   "metadata": {},
   "outputs": [
    {
     "name": "stderr",
     "output_type": "stream",
     "text": [
      "/var/folders/v7/l0jq1cbd0fnf4ytmwzksxt0r0000gn/T/ipykernel_15133/1115622638.py:5: SettingWithCopyWarning: \n",
      "A value is trying to be set on a copy of a slice from a DataFrame\n",
      "\n",
      "See the caveats in the documentation: https://pandas.pydata.org/pandas-docs/stable/user_guide/indexing.html#returning-a-view-versus-a-copy\n",
      "  greater_than_30_days_df.sort_values(by=['REG_NUM', 'Transaction Date'], inplace=True)\n"
     ]
    },
    {
     "data": {
      "text/html": [
       "<div>\n",
       "<style scoped>\n",
       "    .dataframe tbody tr th:only-of-type {\n",
       "        vertical-align: middle;\n",
       "    }\n",
       "\n",
       "    .dataframe tbody tr th {\n",
       "        vertical-align: top;\n",
       "    }\n",
       "\n",
       "    .dataframe thead th {\n",
       "        text-align: right;\n",
       "    }\n",
       "</style>\n",
       "<table border=\"1\" class=\"dataframe\">\n",
       "  <thead>\n",
       "    <tr style=\"text-align: right;\">\n",
       "      <th></th>\n",
       "      <th>Transaction Date</th>\n",
       "      <th>REG_NUM</th>\n",
       "      <th>Transaction Amount</th>\n",
       "      <th>No. of Litres</th>\n",
       "      <th>Days Between Transactions Category</th>\n",
       "      <th>Avg Litres</th>\n",
       "      <th>Litres Diff</th>\n",
       "    </tr>\n",
       "  </thead>\n",
       "  <tbody>\n",
       "    <tr>\n",
       "      <th>6986</th>\n",
       "      <td>2021-04-16</td>\n",
       "      <td>GGA023EC</td>\n",
       "      <td>749.90</td>\n",
       "      <td>45.14</td>\n",
       "      <td>NaN</td>\n",
       "      <td>NaN</td>\n",
       "      <td>NaN</td>\n",
       "    </tr>\n",
       "    <tr>\n",
       "      <th>8713</th>\n",
       "      <td>2021-04-20</td>\n",
       "      <td>GGA023EC</td>\n",
       "      <td>1082.90</td>\n",
       "      <td>66.84</td>\n",
       "      <td>2-5 days</td>\n",
       "      <td>55.990</td>\n",
       "      <td>21.70</td>\n",
       "    </tr>\n",
       "    <tr>\n",
       "      <th>13862</th>\n",
       "      <td>2021-05-25</td>\n",
       "      <td>GGA023EC</td>\n",
       "      <td>704.80</td>\n",
       "      <td>44.32</td>\n",
       "      <td>&gt; 30 days</td>\n",
       "      <td>55.580</td>\n",
       "      <td>-22.52</td>\n",
       "    </tr>\n",
       "    <tr>\n",
       "      <th>30654</th>\n",
       "      <td>2021-06-03</td>\n",
       "      <td>GGA023EC</td>\n",
       "      <td>852.40</td>\n",
       "      <td>52.94</td>\n",
       "      <td>5-10 days</td>\n",
       "      <td>48.630</td>\n",
       "      <td>8.62</td>\n",
       "    </tr>\n",
       "    <tr>\n",
       "      <th>30655</th>\n",
       "      <td>2021-06-09</td>\n",
       "      <td>GGA023EC</td>\n",
       "      <td>1109.70</td>\n",
       "      <td>68.92</td>\n",
       "      <td>5-10 days</td>\n",
       "      <td>60.930</td>\n",
       "      <td>15.98</td>\n",
       "    </tr>\n",
       "    <tr>\n",
       "      <th>30656</th>\n",
       "      <td>2021-06-22</td>\n",
       "      <td>GGA023EC</td>\n",
       "      <td>1022.50</td>\n",
       "      <td>63.50</td>\n",
       "      <td>10-20 days</td>\n",
       "      <td>66.210</td>\n",
       "      <td>-5.42</td>\n",
       "    </tr>\n",
       "    <tr>\n",
       "      <th>47684</th>\n",
       "      <td>2021-07-14</td>\n",
       "      <td>GGA023EC</td>\n",
       "      <td>847.50</td>\n",
       "      <td>51.36</td>\n",
       "      <td>20-30 days</td>\n",
       "      <td>57.430</td>\n",
       "      <td>-12.14</td>\n",
       "    </tr>\n",
       "    <tr>\n",
       "      <th>47685</th>\n",
       "      <td>2021-07-29</td>\n",
       "      <td>GGA023EC</td>\n",
       "      <td>1049.20</td>\n",
       "      <td>63.58</td>\n",
       "      <td>10-20 days</td>\n",
       "      <td>57.470</td>\n",
       "      <td>12.22</td>\n",
       "    </tr>\n",
       "    <tr>\n",
       "      <th>65197</th>\n",
       "      <td>2021-08-15</td>\n",
       "      <td>GGA023EC</td>\n",
       "      <td>1202.00</td>\n",
       "      <td>70.29</td>\n",
       "      <td>10-20 days</td>\n",
       "      <td>66.935</td>\n",
       "      <td>6.71</td>\n",
       "    </tr>\n",
       "    <tr>\n",
       "      <th>83512</th>\n",
       "      <td>2021-09-15</td>\n",
       "      <td>GGA023EC</td>\n",
       "      <td>801.14</td>\n",
       "      <td>48.40</td>\n",
       "      <td>&gt; 30 days</td>\n",
       "      <td>59.345</td>\n",
       "      <td>-21.89</td>\n",
       "    </tr>\n",
       "  </tbody>\n",
       "</table>\n",
       "</div>"
      ],
      "text/plain": [
       "      Transaction Date   REG_NUM  Transaction Amount  No. of Litres  \\\n",
       "6986        2021-04-16  GGA023EC              749.90          45.14   \n",
       "8713        2021-04-20  GGA023EC             1082.90          66.84   \n",
       "13862       2021-05-25  GGA023EC              704.80          44.32   \n",
       "30654       2021-06-03  GGA023EC              852.40          52.94   \n",
       "30655       2021-06-09  GGA023EC             1109.70          68.92   \n",
       "30656       2021-06-22  GGA023EC             1022.50          63.50   \n",
       "47684       2021-07-14  GGA023EC              847.50          51.36   \n",
       "47685       2021-07-29  GGA023EC             1049.20          63.58   \n",
       "65197       2021-08-15  GGA023EC             1202.00          70.29   \n",
       "83512       2021-09-15  GGA023EC              801.14          48.40   \n",
       "\n",
       "      Days Between Transactions Category  Avg Litres  Litres Diff  \n",
       "6986                                 NaN         NaN          NaN  \n",
       "8713                            2-5 days      55.990        21.70  \n",
       "13862                          > 30 days      55.580       -22.52  \n",
       "30654                          5-10 days      48.630         8.62  \n",
       "30655                          5-10 days      60.930        15.98  \n",
       "30656                         10-20 days      66.210        -5.42  \n",
       "47684                         20-30 days      57.430       -12.14  \n",
       "47685                         10-20 days      57.470        12.22  \n",
       "65197                         10-20 days      66.935         6.71  \n",
       "83512                          > 30 days      59.345       -21.89  "
      ]
     },
     "execution_count": 38,
     "metadata": {},
     "output_type": "execute_result"
    }
   ],
   "source": [
    "# Filter the DataFrame to get the rows where 'Days Between Transactions Category' is '> 30 days'\n",
    "greater_than_30_days_df = trans_df[trans_df['REG_NUM'] == 'GGA023EC']\n",
    "\n",
    "# Sort the DataFrame by 'REG_NUM' and 'Transaction Date'\n",
    "greater_than_30_days_df.sort_values(by=['REG_NUM', 'Transaction Date'], inplace=True)\n",
    "\n",
    "# Select the 'Litres Diff' column and display the first 10 values\n",
    "greater_than_30_days_df[['Transaction Date', 'REG_NUM', 'Transaction Amount', 'No. of Litres', \n",
    "                         'Days Between Transactions Category', 'Avg Litres', 'Litres Diff']].head(10)"
   ]
  },
  {
   "cell_type": "code",
   "execution_count": 59,
   "metadata": {},
   "outputs": [],
   "source": [
    "# Save the filtered dataset to a new CSV file\n",
    "trans_df.to_csv(os.path.join(\"..\", \"data\", \"Final for clustering.csv\"), index=False)"
   ]
  },
  {
   "cell_type": "code",
   "execution_count": 21,
   "metadata": {},
   "outputs": [
    {
     "data": {
      "text/plain": [
       "533                    NISSAN PATROL 3.0 TDI 4X4 P/U\n",
       "633                           NISSAN PATROL 3.0DI GL\n",
       "773    TOYOTA LAND CRUISER 79 PICK UP 4.2 DIESEL S/C\n",
       "774            LANDCRUISER 79 PICK UP 4.2 DIESEL S/C\n",
       "Name: MODEL DERIVATIVE, dtype: object"
      ]
     },
     "execution_count": 21,
     "metadata": {},
     "output_type": "execute_result"
    }
   ],
   "source": [
    "# List the first five model derivatives for vehicles that contain \"12\" in rate card category\n",
    "vehicle_df[vehicle_df['RATE CARD CATEGORY'].str.contains('12')]['MODEL DERIVATIVE'].head()"
   ]
  },
  {
   "cell_type": "code",
   "execution_count": 34,
   "metadata": {},
   "outputs": [
    {
     "data": {
      "text/plain": [
       "Index(['Transaction Date', 'REG_NUM', 'Merchant Name', 'No. of Litres',\n",
       "       'Transaction Amount', 'VEHICLE MAKE', 'MODEL DERIVATIVE', 'DEPARTMENT',\n",
       "       'RATE CARD CATEGORY', 'Site', 'District', 'Site Lat', 'Site Long',\n",
       "       'Merchant Lat', 'Merchant Long', 'Fuel Type',\n",
       "       'Estimated Price Per Litre', 'Coastal Petrol', 'Inland Petrol',\n",
       "       'Coastal Diesel', 'Inland Diesel', 'Days_Between_Transactions',\n",
       "       'Days Between Transactions', 'Days Between Transactions Category'],\n",
       "      dtype='object')"
      ]
     },
     "execution_count": 34,
     "metadata": {},
     "output_type": "execute_result"
    }
   ],
   "source": [
    "trans_df.columns"
   ]
  },
  {
   "cell_type": "code",
   "execution_count": 35,
   "metadata": {},
   "outputs": [],
   "source": [
    "# Save the 'REG_NUM', 'Merchant Lat' and 'Merchant Long' to a new CSV file\n",
    "trans_df[['REG_NUM', 'Merchant Lat', 'Merchant Long']].to_csv(os.path.join(\"..\", \"data\", \"Final for QGIS.csv\"), index=False)"
   ]
  },
  {
   "cell_type": "code",
   "execution_count": 36,
   "metadata": {},
   "outputs": [
    {
     "data": {
      "text/html": [
       "<div>\n",
       "<style scoped>\n",
       "    .dataframe tbody tr th:only-of-type {\n",
       "        vertical-align: middle;\n",
       "    }\n",
       "\n",
       "    .dataframe tbody tr th {\n",
       "        vertical-align: top;\n",
       "    }\n",
       "\n",
       "    .dataframe thead th {\n",
       "        text-align: right;\n",
       "    }\n",
       "</style>\n",
       "<table border=\"1\" class=\"dataframe\">\n",
       "  <thead>\n",
       "    <tr style=\"text-align: right;\">\n",
       "      <th></th>\n",
       "      <th>REG_NUM</th>\n",
       "      <th>Merchant Lat</th>\n",
       "      <th>Merchant Long</th>\n",
       "    </tr>\n",
       "  </thead>\n",
       "  <tbody>\n",
       "    <tr>\n",
       "      <th>784</th>\n",
       "      <td>GGA001EC</td>\n",
       "      <td>-31.593486</td>\n",
       "      <td>28.766973</td>\n",
       "    </tr>\n",
       "    <tr>\n",
       "      <th>1494</th>\n",
       "      <td>GGA001EC</td>\n",
       "      <td>-32.296840</td>\n",
       "      <td>26.419389</td>\n",
       "    </tr>\n",
       "    <tr>\n",
       "      <th>2101</th>\n",
       "      <td>GGA001EC</td>\n",
       "      <td>-32.296840</td>\n",
       "      <td>26.419389</td>\n",
       "    </tr>\n",
       "    <tr>\n",
       "      <th>2745</th>\n",
       "      <td>GGA001EC</td>\n",
       "      <td>-31.966873</td>\n",
       "      <td>28.681895</td>\n",
       "    </tr>\n",
       "    <tr>\n",
       "      <th>6984</th>\n",
       "      <td>GGA001EC</td>\n",
       "      <td>-31.966873</td>\n",
       "      <td>28.681895</td>\n",
       "    </tr>\n",
       "    <tr>\n",
       "      <th>...</th>\n",
       "      <td>...</td>\n",
       "      <td>...</td>\n",
       "      <td>...</td>\n",
       "    </tr>\n",
       "    <tr>\n",
       "      <th>160282</th>\n",
       "      <td>JXF309EC</td>\n",
       "      <td>-31.593486</td>\n",
       "      <td>28.766973</td>\n",
       "    </tr>\n",
       "    <tr>\n",
       "      <th>175929</th>\n",
       "      <td>JXF309EC</td>\n",
       "      <td>-32.296840</td>\n",
       "      <td>26.419389</td>\n",
       "    </tr>\n",
       "    <tr>\n",
       "      <th>175930</th>\n",
       "      <td>JXL688EC</td>\n",
       "      <td>-32.962294</td>\n",
       "      <td>27.918471</td>\n",
       "    </tr>\n",
       "    <tr>\n",
       "      <th>175931</th>\n",
       "      <td>JXL688EC</td>\n",
       "      <td>-32.296840</td>\n",
       "      <td>26.419389</td>\n",
       "    </tr>\n",
       "    <tr>\n",
       "      <th>175932</th>\n",
       "      <td>JXL688EC</td>\n",
       "      <td>-32.296840</td>\n",
       "      <td>26.419389</td>\n",
       "    </tr>\n",
       "  </tbody>\n",
       "</table>\n",
       "<p>175933 rows × 3 columns</p>\n",
       "</div>"
      ],
      "text/plain": [
       "         REG_NUM  Merchant Lat  Merchant Long\n",
       "784     GGA001EC    -31.593486      28.766973\n",
       "1494    GGA001EC    -32.296840      26.419389\n",
       "2101    GGA001EC    -32.296840      26.419389\n",
       "2745    GGA001EC    -31.966873      28.681895\n",
       "6984    GGA001EC    -31.966873      28.681895\n",
       "...          ...           ...            ...\n",
       "160282  JXF309EC    -31.593486      28.766973\n",
       "175929  JXF309EC    -32.296840      26.419389\n",
       "175930  JXL688EC    -32.962294      27.918471\n",
       "175931  JXL688EC    -32.296840      26.419389\n",
       "175932  JXL688EC    -32.296840      26.419389\n",
       "\n",
       "[175933 rows x 3 columns]"
      ]
     },
     "execution_count": 36,
     "metadata": {},
     "output_type": "execute_result"
    }
   ],
   "source": [
    "trans_df[['REG_NUM', 'Merchant Lat', 'Merchant Long']]"
   ]
  },
  {
   "cell_type": "code",
   "execution_count": 61,
   "metadata": {},
   "outputs": [
    {
     "data": {
      "text/plain": [
       "Index(['Reg', 'Overlap_Start', 'Overlap_End', 'Total_Km', 'Total_Litres',\n",
       "       'Kilometres per Litre', 'REG_NUM', 'VEHICLE MAKE', 'MODEL DERIVATIVE',\n",
       "       'DEPARTMENT', 'District', 'Site', 'Site Lat', 'Site Long', 'Fuel Type',\n",
       "       'RATE CARD CATEGORY', 'Total Transaction Amount',\n",
       "       'Mean Transaction Amount', 'Total No. of Litres', 'Mean No. of Litres',\n",
       "       'Average Days Between Transactions', 'Days Between Transactions_x',\n",
       "       'Days Between Transactions_y'],\n",
       "      dtype='object')"
      ]
     },
     "execution_count": 61,
     "metadata": {},
     "output_type": "execute_result"
    }
   ],
   "source": [
    "vehicle_df.columns"
   ]
  },
  {
   "cell_type": "code",
   "execution_count": 77,
   "metadata": {},
   "outputs": [],
   "source": [
    "boxplot_side_by_side_cat(vehicle_df, 'MODEL DERIVATIVE', 'RATE CARD CATEGORY', 'Kilometres per Litre',\n",
    "                         'model derivative', 'rate card category', \n",
    "                         '../plots/eda/biplot_kmpl.pdf')"
   ]
  },
  {
   "cell_type": "code",
   "execution_count": 78,
   "metadata": {},
   "outputs": [
    {
     "data": {
      "text/plain": [
       "(902, 25)"
      ]
     },
     "execution_count": 78,
     "metadata": {},
     "output_type": "execute_result"
    }
   ],
   "source": [
    "vehicle_df.shape"
   ]
  },
  {
   "cell_type": "code",
   "execution_count": null,
   "metadata": {},
   "outputs": [],
   "source": []
  }
 ],
 "metadata": {
  "kernelspec": {
   "display_name": "scientificProject",
   "language": "python",
   "name": "python3"
  },
  "language_info": {
   "codemirror_mode": {
    "name": "ipython",
    "version": 3
   },
   "file_extension": ".py",
   "mimetype": "text/x-python",
   "name": "python",
   "nbconvert_exporter": "python",
   "pygments_lexer": "ipython3",
   "version": "3.10.12"
  }
 },
 "nbformat": 4,
 "nbformat_minor": 2
}
