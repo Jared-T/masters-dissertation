{
 "cells": [
  {
   "cell_type": "code",
   "execution_count": 1,
   "metadata": {},
   "outputs": [],
   "source": [
    "import pandas as pd\n",
    "import os\n",
    "\n",
    "# Read in the dataset\n",
    "trans_df = pd.read_csv(os.path.join(\"..\", \"data\", \"Final with Coords, Fuel Type and Prices.csv\"))\n",
    "vehicle_df = pd.read_csv(os.path.join(\"..\", \"data\", \"Final KMPL dataset.csv\"))"
   ]
  },
  {
   "cell_type": "code",
   "execution_count": 2,
   "metadata": {},
   "outputs": [
    {
     "data": {
      "text/plain": [
       "(175933, 21)"
      ]
     },
     "execution_count": 2,
     "metadata": {},
     "output_type": "execute_result"
    }
   ],
   "source": [
    "trans_df.shape"
   ]
  },
  {
   "cell_type": "code",
   "execution_count": 3,
   "metadata": {},
   "outputs": [
    {
     "data": {
      "text/plain": [
       "Index(['Reg', 'Overlap_Start', 'Overlap_End', 'Total_Km', 'Total_Litres',\n",
       "       'KMPL', 'REG_NUM', 'VEHICLE MAKE', 'MODEL DERIVATIVE', 'DEPARTMENT',\n",
       "       'District', 'Site', 'Site Lat', 'Site Long', 'Fuel Type',\n",
       "       'RATE CARD CATEGORY', 'Total Transaction Amount',\n",
       "       'Mean Transaction Amount', 'Total No. of Litres', 'Mean No. of Litres'],\n",
       "      dtype='object')"
      ]
     },
     "execution_count": 3,
     "metadata": {},
     "output_type": "execute_result"
    }
   ],
   "source": [
    "vehicle_df.columns"
   ]
  },
  {
   "cell_type": "code",
   "execution_count": 4,
   "metadata": {},
   "outputs": [
    {
     "data": {
      "text/plain": [
       "Index(['Transaction Date', 'REG_NUM', 'Merchant Name', 'No. of Litres',\n",
       "       'Transaction Amount', 'VEHICLE MAKE', 'MODEL DERIVATIVE', 'DEPARTMENT',\n",
       "       'RATE CARD CATEGORY', 'Site', 'District', 'Site Lat', 'Site Long',\n",
       "       'Merchant Lat', 'Merchant Long', 'Fuel Type',\n",
       "       'Estimated Price Per Litre', 'Coastal Petrol', 'Inland Petrol',\n",
       "       'Coastal Diesel', 'Inland Diesel'],\n",
       "      dtype='object')"
      ]
     },
     "execution_count": 4,
     "metadata": {},
     "output_type": "execute_result"
    }
   ],
   "source": [
    "trans_df.columns"
   ]
  },
  {
   "cell_type": "code",
   "execution_count": 5,
   "metadata": {},
   "outputs": [],
   "source": [
    "# Remove the word \"CATEGORY\" from the 'RATE CARD CATEGORY' in vehicle_df\n",
    "vehicle_df['RATE CARD CATEGORY'] = vehicle_df['RATE CARD CATEGORY'].str.replace('CATEGORY', '')\n",
    "\n",
    "trans_df['RATE CARD CATEGORY'] = trans_df['RATE CARD CATEGORY'].str.replace('CATEGORY', '')"
   ]
  },
  {
   "cell_type": "code",
   "execution_count": 17,
   "metadata": {},
   "outputs": [],
   "source": [
    "# Calculate the number of days between transactions for each vehicle\n",
    "trans_df['Transaction Date'] = pd.to_datetime(trans_df['Transaction Date'])\n",
    "\n",
    "# Sort data by 'REG_NUM' and 'Transaction Date'\n",
    "trans_df.sort_values(by=['REG_NUM', 'Transaction Date'], inplace=True)\n",
    "\n",
    "# Calculate the difference in days between transactions for each vehicle\n",
    "trans_df['Days Between Transactions'] = trans_df.groupby('REG_NUM')['Transaction Date'].diff().dt.days"
   ]
  },
  {
   "cell_type": "code",
   "execution_count": 18,
   "metadata": {},
   "outputs": [
    {
     "data": {
      "text/plain": [
       "REG_NUM\n",
       "GGA001EC     1.378571\n",
       "GGA005EC     2.232323\n",
       "GGA007EC    66.000000\n",
       "GGA008EC     3.716049\n",
       "GGA011EC     3.730769\n",
       "Name: Days Between Transactions, dtype: float64"
      ]
     },
     "execution_count": 18,
     "metadata": {},
     "output_type": "execute_result"
    }
   ],
   "source": [
    "# Get the average number of days between transactions for each vehicle and add it to the vehicle_df\n",
    "average_days_between_transactions = trans_df.groupby('REG_NUM')['Days Between Transactions'].mean()\n",
    "\n",
    "average_days_between_transactions.head()"
   ]
  },
  {
   "cell_type": "code",
   "execution_count": 20,
   "metadata": {},
   "outputs": [],
   "source": [
    "# Merge the average_days_between_transactions with the vehicle_df\n",
    "vehicle_df = vehicle_df.merge(average_days_between_transactions, how='left', left_on='REG_NUM', right_on='REG_NUM')\n",
    "\n",
    "# Rename the column\n",
    "vehicle_df.rename(columns={'Days Between Transactions': 'Average Days Between Transactions'}, inplace=True)"
   ]
  },
  {
   "cell_type": "markdown",
   "metadata": {},
   "source": [
    "# Fleet Composition"
   ]
  },
  {
   "cell_type": "code",
   "execution_count": 40,
   "metadata": {},
   "outputs": [],
   "source": [
    "import matplotlib.pyplot as plt\n",
    "import pandas as pd\n",
    "from matplotlib.ticker import FixedLocator, FixedFormatter\n",
    "\n",
    "def shorten_names(names, max_length=20):\n",
    "    shortened_names = []\n",
    "    for name in names:\n",
    "        if len(name) > max_length:\n",
    "            shortened_name = name[:max_length-3] + '...'\n",
    "        else:\n",
    "            shortened_name = name\n",
    "        shortened_names.append(shortened_name)\n",
    "    return shortened_names\n",
    "\n",
    "\n",
    "def create_countplot(data, filename, threshold, max_length=50):\n",
    "    # Filter the data and calculate the sum of counts for the remaining categories\n",
    "    filtered_data = data[data >= threshold]\n",
    "    others_count = data[data < threshold].sum()\n",
    "    filtered_data['Others'] = others_count\n",
    "\n",
    "    # Shorten the names for each category\n",
    "    shortened_names = shorten_names(filtered_data.index, max_length=max_length)\n",
    "\n",
    "    # Create a single plot\n",
    "    fig, ax = plt.subplots(figsize=(8, 8))\n",
    "\n",
    "    # Set the font size for the title and labels\n",
    "    label_font_size = 12\n",
    "    y_label_font_size = 14\n",
    "\n",
    "    # Plot the data\n",
    "    ax.bar(shortened_names, filtered_data)\n",
    "    ax.set_xticklabels(shortened_names, rotation=45, ha='right', fontsize=label_font_size)\n",
    "    ax.set_yticklabels(ax.get_yticks().astype(int), fontsize=label_font_size)\n",
    "    ax.set_ylabel('Count', fontsize=y_label_font_size)\n",
    "\n",
    "    # Adjust the spacing\n",
    "    plt.tight_layout()\n",
    "\n",
    "    # Save the plot as a PDF file\n",
    "    plt.savefig(filename, format='pdf', bbox_inches='tight')\n",
    "\n",
    "    # Close the plot\n",
    "    plt.close(fig)\n",
    "\n",
    "\n",
    "def countplot_side_by_side(data1, data2, title1, title2, filename, threshold1, threshold2, max_length=50):\n",
    "    # Filter the data and calculate the sum of counts for the remaining categories\n",
    "    filtered_data1 = data1[data1 >= threshold1]\n",
    "    others_count1 = data1[data1 < threshold1].sum()\n",
    "    filtered_data1 = filtered_data1.to_frame()\n",
    "\n",
    "    if others_count1 > 0:\n",
    "        filtered_data1.loc['Others'] = others_count1\n",
    "\n",
    "    filtered_data2 = data2[data2 >= threshold2]\n",
    "    others_count2 = data2[data2 < threshold2].sum()\n",
    "    filtered_data2 = filtered_data2.to_frame()\n",
    "\n",
    "    if others_count2 > 0:\n",
    "        filtered_data2.loc['Others'] = others_count2\n",
    "\n",
    "    # Shorten the names for each category\n",
    "    shortened_names1 = shorten_names(filtered_data1.index, max_length=max_length)\n",
    "    shortened_names2 = shorten_names(filtered_data2.index, max_length=max_length)\n",
    "\n",
    "    # Create a figure with two subplots side by side\n",
    "    fig, (ax1, ax2) = plt.subplots(1, 2, figsize=(10, 6))\n",
    "\n",
    "    # Set the font size for the labels\n",
    "    label_font_size = 12\n",
    "    y_label_font_size = 14\n",
    "\n",
    "    # Plot the data for the first subplot\n",
    "    ax1.bar(shortened_names1, filtered_data1.iloc[:, 0])\n",
    "    ax1.set_xticklabels(shortened_names1, rotation=45, ha='right', fontsize=label_font_size)\n",
    "    ax1.set_ylabel('Count', fontsize=y_label_font_size)\n",
    "    ax1.set_title(f'a) {title1}')\n",
    "\n",
    "    # Plot the data for the second subplot\n",
    "    ax2.bar(shortened_names2, filtered_data2.iloc[:, 0])\n",
    "    ax2.set_xticklabels(shortened_names2, rotation=45, ha='right', fontsize=label_font_size)\n",
    "    ax2.set_title(f'b) {title2}')\n",
    "\n",
    "    # Set the y-axis ticks and labels to integer values for both subplots\n",
    "    yticks1 = ax1.get_yticks().astype(int)\n",
    "    yticks2 = ax2.get_yticks().astype(int)\n",
    "    ax1.yaxis.set_major_locator(FixedLocator(yticks1))\n",
    "    ax1.yaxis.set_major_formatter(FixedFormatter(yticks1))\n",
    "    ax1.tick_params(axis='y', labelsize=label_font_size)\n",
    "    ax2.yaxis.set_major_locator(FixedLocator(yticks2))\n",
    "    ax2.yaxis.set_major_formatter(FixedFormatter(yticks2))\n",
    "    ax2.tick_params(axis='y', labelsize=label_font_size)\n",
    "\n",
    "    # Adjust the spacing\n",
    "    plt.tight_layout()\n",
    "\n",
    "    # Save the plot as a PDF file\n",
    "    plt.savefig(filename, format='pdf', bbox_inches='tight')\n",
    "\n",
    "    # Close the plot\n",
    "    plt.close(fig)\n",
    "\n",
    "\n",
    "def histogram_side_by_side(data1, var1, data2, var2, title1, title2, filename, bins=20):\n",
    "    # Create a figure with two subplots side by side\n",
    "    fig, (ax1, ax2) = plt.subplots(1, 2, figsize=(10, 6))\n",
    "\n",
    "    # Set the font size for the labels\n",
    "    label_font_size = 12\n",
    "    y_label_font_size = 14\n",
    "\n",
    "    # Plot the data for the first subplot\n",
    "    ax1.hist(data1[var1], bins=bins, edgecolor='black')\n",
    "    ax1.set_xlabel(var1, fontsize=label_font_size)\n",
    "    ax1.set_ylabel('Frequency', fontsize=y_label_font_size)\n",
    "    ax1.set_title(f'a) {title1}')\n",
    "\n",
    "    # Plot the data for the second subplot\n",
    "    ax2.hist(data2[var2], bins=bins, edgecolor='black')\n",
    "    ax2.set_xlabel(var2, fontsize=label_font_size)\n",
    "    ax2.set_ylabel('Frequency', fontsize=y_label_font_size)\n",
    "    ax2.set_title(f'b) {title2}')\n",
    "\n",
    "    # Set the y-axis ticks and labels to integer values for both subplots\n",
    "    yticks1 = ax1.get_yticks().astype(int)\n",
    "    yticks2 = ax2.get_yticks().astype(int)\n",
    "    ax1.yaxis.set_major_locator(FixedLocator(yticks1))\n",
    "    ax1.yaxis.set_major_formatter(FixedFormatter(yticks1))\n",
    "    ax1.tick_params(axis='y', labelsize=label_font_size)\n",
    "    ax2.yaxis.set_major_locator(FixedLocator(yticks2))\n",
    "    ax2.yaxis.set_major_formatter(FixedFormatter(yticks2))\n",
    "    ax2.tick_params(axis='y', labelsize=label_font_size)\n",
    "\n",
    "    # Adjust the spacing\n",
    "    plt.tight_layout()\n",
    "\n",
    "    # Save the plot as a PDF file\n",
    "    plt.savefig(filename, format='pdf', bbox_inches='tight')\n",
    "\n",
    "    # Close the plot\n",
    "    plt.close(fig)\n",
    "\n",
    "def barplot_side_by_side(data, cat_var, cont_var1, cont_var2, title1, title2, filename, max_length=50, largest_n=9, show_obs_count=False):\n",
    "    # Group the data by the categorical variable and calculate the mean of the continuous variables\n",
    "    grouped_data1 = data.groupby(cat_var)[cont_var1].mean().nlargest(largest_n)\n",
    "    grouped_data2 = data.groupby(cat_var)[cont_var2].mean().nlargest(largest_n)\n",
    "\n",
    "    # Calculate the sum of the remaining means for the \"Other\" category\n",
    "    other_mean1 = data[~data[cat_var].isin(grouped_data1.index)].groupby(cat_var)[cont_var1].mean().mean()\n",
    "    other_mean2 = data[~data[cat_var].isin(grouped_data2.index)].groupby(cat_var)[cont_var2].mean().mean()\n",
    "\n",
    "    # Append the \"Other\" category to the grouped data\n",
    "    grouped_data1['Other'] = other_mean1\n",
    "    grouped_data2['Other'] = other_mean2\n",
    "\n",
    "    # Shorten the names for each category\n",
    "    shortened_names = shorten_names(grouped_data1.index, max_length=max_length)\n",
    "\n",
    "    # Create a figure with two subplots side by side\n",
    "    fig, (ax1, ax2) = plt.subplots(1, 2, figsize=(10, 6))\n",
    "\n",
    "    # Set the font size for the labels\n",
    "    label_font_size = 12\n",
    "    y_label_font_size = 14\n",
    "\n",
    "    # Plot the data for the first subplot\n",
    "    bars1 = ax1.bar(shortened_names, grouped_data1)\n",
    "    ax1.set_xticklabels(shortened_names, rotation=45, ha='right', fontsize=label_font_size)\n",
    "    ax1.set_ylabel(f'Average {cont_var1}', fontsize=y_label_font_size)\n",
    "    ax1.set_title(f'a) {title1}')\n",
    "\n",
    "    # Add the number of observations on top of each bar for the first subplot if show_obs_count is True\n",
    "    if show_obs_count:\n",
    "        for i, name in enumerate(shortened_names):\n",
    "            obs_count = data[data[cat_var] == grouped_data1.index[i]].shape[0]\n",
    "            ax1.text(i, grouped_data1[i], f'{obs_count}', ha='center', va='bottom', fontsize=11)\n",
    "\n",
    "    # Plot the data for the second subplot\n",
    "    bars2 = ax2.bar(shortened_names, grouped_data2)\n",
    "    ax2.set_xticklabels(shortened_names, rotation=45, ha='right', fontsize=label_font_size)\n",
    "    ax2.set_ylabel(f'Average {cont_var2}', fontsize=y_label_font_size)\n",
    "    ax2.set_title(f'b) {title2}')\n",
    "\n",
    "    # Add the number of observations on top of each bar for the second subplot if show_obs_count is True\n",
    "    if show_obs_count:\n",
    "        for i, name in enumerate(shortened_names):\n",
    "            obs_count = data[data[cat_var] == grouped_data2.index[i]].shape[0]\n",
    "            ax2.text(i, grouped_data2[i], f'{obs_count}', ha='center', va='bottom', fontsize=11)\n",
    "\n",
    "    # Adjust the spacing\n",
    "    plt.tight_layout()\n",
    "\n",
    "    # Save the plot as a PDF file\n",
    "    plt.savefig(filename, format='pdf', bbox_inches='tight')\n",
    "\n",
    "    # Close the plot\n",
    "    plt.close(fig)"
   ]
  },
  {
   "cell_type": "code",
   "execution_count": 8,
   "metadata": {},
   "outputs": [],
   "source": [
    "# Group the DataFrame by 'MODEL DERIVATIVE' and count the occurrences\n",
    "fleet_data_derivative = vehicle_df['MODEL DERIVATIVE'].value_counts()\n",
    "trans_data_derivative = trans_df['MODEL DERIVATIVE'].value_counts()\n",
    "\n",
    "# Group the DataFrame by 'VEHICLE MAKE' and count the occurrences\n",
    "fleet_data_make = vehicle_df['VEHICLE MAKE'].value_counts()\n",
    "trans_data_make = trans_df['VEHICLE MAKE'].value_counts()\n",
    "\n",
    "# Group the DataFrame by 'DEPARTMENT' and count the occurrences\n",
    "fleet_data_department = vehicle_df['DEPARTMENT'].value_counts()\n",
    "trans_data_department = trans_df['DEPARTMENT'].value_counts()\n",
    "\n",
    "# Group the DataFrame by 'RATE CARD CATEGORY' and count the occurrences\n",
    "fleet_data_rate_card = vehicle_df['RATE CARD CATEGORY'].value_counts()\n",
    "trans_data_rate_card = trans_df['RATE CARD CATEGORY'].value_counts()"
   ]
  },
  {
   "cell_type": "code",
   "execution_count": 13,
   "metadata": {},
   "outputs": [
    {
     "name": "stderr",
     "output_type": "stream",
     "text": [
      "/var/folders/v7/l0jq1cbd0fnf4ytmwzksxt0r0000gn/T/ipykernel_12460/3085069622.py:77: UserWarning: FixedFormatter should only be used together with FixedLocator\n",
      "  ax1.set_xticklabels(shortened_names1, rotation=45, ha='right', fontsize=label_font_size)\n",
      "/var/folders/v7/l0jq1cbd0fnf4ytmwzksxt0r0000gn/T/ipykernel_12460/3085069622.py:83: UserWarning: FixedFormatter should only be used together with FixedLocator\n",
      "  ax2.set_xticklabels(shortened_names2, rotation=45, ha='right', fontsize=label_font_size)\n",
      "/var/folders/v7/l0jq1cbd0fnf4ytmwzksxt0r0000gn/T/ipykernel_12460/3085069622.py:77: UserWarning: FixedFormatter should only be used together with FixedLocator\n",
      "  ax1.set_xticklabels(shortened_names1, rotation=45, ha='right', fontsize=label_font_size)\n",
      "/var/folders/v7/l0jq1cbd0fnf4ytmwzksxt0r0000gn/T/ipykernel_12460/3085069622.py:83: UserWarning: FixedFormatter should only be used together with FixedLocator\n",
      "  ax2.set_xticklabels(shortened_names2, rotation=45, ha='right', fontsize=label_font_size)\n",
      "/var/folders/v7/l0jq1cbd0fnf4ytmwzksxt0r0000gn/T/ipykernel_12460/3085069622.py:77: UserWarning: FixedFormatter should only be used together with FixedLocator\n",
      "  ax1.set_xticklabels(shortened_names1, rotation=45, ha='right', fontsize=label_font_size)\n",
      "/var/folders/v7/l0jq1cbd0fnf4ytmwzksxt0r0000gn/T/ipykernel_12460/3085069622.py:83: UserWarning: FixedFormatter should only be used together with FixedLocator\n",
      "  ax2.set_xticklabels(shortened_names2, rotation=45, ha='right', fontsize=label_font_size)\n",
      "/var/folders/v7/l0jq1cbd0fnf4ytmwzksxt0r0000gn/T/ipykernel_12460/3085069622.py:77: UserWarning: FixedFormatter should only be used together with FixedLocator\n",
      "  ax1.set_xticklabels(shortened_names1, rotation=45, ha='right', fontsize=label_font_size)\n",
      "/var/folders/v7/l0jq1cbd0fnf4ytmwzksxt0r0000gn/T/ipykernel_12460/3085069622.py:83: UserWarning: FixedFormatter should only be used together with FixedLocator\n",
      "  ax2.set_xticklabels(shortened_names2, rotation=45, ha='right', fontsize=label_font_size)\n"
     ]
    }
   ],
   "source": [
    "# Create and save individual plots\n",
    "countplot_side_by_side(fleet_data_derivative, trans_data_derivative, \n",
    "                     'Fleet', 'Transactions', \n",
    "                     '../plots/eda/model_derivative.pdf', \n",
    "                     25, 5000,\n",
    "                     20)\n",
    "\n",
    "countplot_side_by_side(fleet_data_make, trans_data_make, \n",
    "                     'Fleet', 'Transactions', \n",
    "                     '../plots/eda/make.pdf', \n",
    "                     20, 5000,\n",
    "                     20)\n",
    "\n",
    "countplot_side_by_side(fleet_data_department, trans_data_department, \n",
    "                     'Fleet', 'Transactions', \n",
    "                     '../plots/eda/department.pdf', \n",
    "                     20, 5000,\n",
    "                     20)\n",
    "\n",
    "countplot_side_by_side(fleet_data_rate_card, trans_data_rate_card, \n",
    "                     'Fleet', 'Transactions', \n",
    "                     '../plots/eda/rate_card.pdf', \n",
    "                     20, 5000,\n",
    "                     20)"
   ]
  },
  {
   "cell_type": "code",
   "execution_count": 13,
   "metadata": {},
   "outputs": [],
   "source": [
    "# Convert the date column to a datetime object\n",
    "trans_df['Transaction Date'] = pd.to_datetime(trans_df['Transaction Date'])\n",
    "\n",
    "# Create a new column for the month name\n",
    "trans_df['Month Name'] = trans_df['Transaction Date'].dt.month_name()\n",
    "\n",
    "# Create a new column for the weekday name\n",
    "trans_df['Weekday Name'] = trans_df['Transaction Date'].dt.day_name()"
   ]
  },
  {
   "cell_type": "code",
   "execution_count": 14,
   "metadata": {},
   "outputs": [
    {
     "data": {
      "text/plain": [
       "Index(['Transaction Date', 'REG_NUM', 'Merchant Name', 'No. of Litres',\n",
       "       'Transaction Amount', 'VEHICLE MAKE', 'MODEL DERIVATIVE', 'DEPARTMENT',\n",
       "       'RATE CARD CATEGORY', 'Site', 'District', 'Site Lat', 'Site Long',\n",
       "       'Merchant Lat', 'Merchant Long', 'Fuel Type',\n",
       "       'Estimated Price Per Litre', 'Coastal Petrol', 'Inland Petrol',\n",
       "       'Coastal Diesel', 'Inland Diesel', 'Month Name', 'Weekday Name'],\n",
       "      dtype='object')"
      ]
     },
     "execution_count": 14,
     "metadata": {},
     "output_type": "execute_result"
    }
   ],
   "source": [
    "trans_df.columns"
   ]
  },
  {
   "cell_type": "code",
   "execution_count": 15,
   "metadata": {},
   "outputs": [],
   "source": [
    "trans_data_wday = trans_df['Weekday Name'].value_counts()\n",
    "trans_data_month = trans_df['Month Name'].value_counts()"
   ]
  },
  {
   "cell_type": "code",
   "execution_count": 16,
   "metadata": {},
   "outputs": [
    {
     "name": "stderr",
     "output_type": "stream",
     "text": [
      "/var/folders/v7/l0jq1cbd0fnf4ytmwzksxt0r0000gn/T/ipykernel_64108/198997191.py:77: UserWarning: FixedFormatter should only be used together with FixedLocator\n",
      "  ax1.set_xticklabels(shortened_names1, rotation=45, ha='right', fontsize=label_font_size)\n",
      "/var/folders/v7/l0jq1cbd0fnf4ytmwzksxt0r0000gn/T/ipykernel_64108/198997191.py:83: UserWarning: FixedFormatter should only be used together with FixedLocator\n",
      "  ax2.set_xticklabels(shortened_names2, rotation=45, ha='right', fontsize=label_font_size)\n"
     ]
    }
   ],
   "source": [
    "# Create and save individual plots\n",
    "countplot_side_by_side(trans_data_wday, trans_data_month, \n",
    "                     'Weekday', 'Month', \n",
    "                     '../plots/eda/month_weekday.pdf', \n",
    "                     5000, 5000,\n",
    "                     30)"
   ]
  },
  {
   "cell_type": "code",
   "execution_count": 48,
   "metadata": {},
   "outputs": [
    {
     "name": "stderr",
     "output_type": "stream",
     "text": [
      "/var/folders/v7/l0jq1cbd0fnf4ytmwzksxt0r0000gn/T/ipykernel_65099/1924397537.py:77: UserWarning: FixedFormatter should only be used together with FixedLocator\n",
      "  ax1.set_xticklabels(shortened_names1, rotation=45, ha='right', fontsize=label_font_size)\n",
      "/var/folders/v7/l0jq1cbd0fnf4ytmwzksxt0r0000gn/T/ipykernel_65099/1924397537.py:83: UserWarning: FixedFormatter should only be used together with FixedLocator\n",
      "  ax2.set_xticklabels(shortened_names2, rotation=45, ha='right', fontsize=label_font_size)\n"
     ]
    }
   ],
   "source": [
    "trans_data_merchant = trans_df['Merchant Name'].value_counts()\n",
    "trans_data_fuel_type = trans_df['Fuel Type'].value_counts()\n",
    "\n",
    "countplot_side_by_side(trans_data_merchant, trans_data_fuel_type, \n",
    "                     'Merchant Name', 'Fuel Type', \n",
    "                     '../plots/eda/merchants_fuel_type.pdf', \n",
    "                     3000, 2000,\n",
    "                     30)"
   ]
  },
  {
   "cell_type": "code",
   "execution_count": 21,
   "metadata": {},
   "outputs": [],
   "source": [
    "# Rename the \"UNKNOWN\" category to \"Unknown\" in the 'District' column\n",
    "vehicle_df['District'] = vehicle_df['District'].replace('UNKNOWN', 'Unknown')\n",
    "vehicle_df['Site'] = vehicle_df['Site'].replace('Pe', 'PE')\n",
    "\n",
    "# Remove the values where Distict is \"Unknown\"\n",
    "vehicle_df_nd = vehicle_df[vehicle_df['District'] != \"Unknown\"]\n",
    "vehicle_df_ns = vehicle_df[vehicle_df['Site'] != \"Unknown\"]\n",
    "\n",
    "vehicle_data_district = vehicle_df_nd['District'].value_counts()\n",
    "vehicle_data_site = vehicle_df_ns['Site'].value_counts()"
   ]
  },
  {
   "cell_type": "code",
   "execution_count": 20,
   "metadata": {},
   "outputs": [
    {
     "name": "stderr",
     "output_type": "stream",
     "text": [
      "/var/folders/v7/l0jq1cbd0fnf4ytmwzksxt0r0000gn/T/ipykernel_12460/3085069622.py:77: UserWarning: FixedFormatter should only be used together with FixedLocator\n",
      "  ax1.set_xticklabels(shortened_names1, rotation=45, ha='right', fontsize=label_font_size)\n",
      "/var/folders/v7/l0jq1cbd0fnf4ytmwzksxt0r0000gn/T/ipykernel_12460/3085069622.py:83: UserWarning: FixedFormatter should only be used together with FixedLocator\n",
      "  ax2.set_xticklabels(shortened_names2, rotation=45, ha='right', fontsize=label_font_size)\n"
     ]
    }
   ],
   "source": [
    "# Create and save individual plots\n",
    "countplot_side_by_side(vehicle_data_district, vehicle_data_site, \n",
    "                     'District', 'Site', \n",
    "                     '../plots/eda/district_site.pdf', \n",
    "                     20, 8,\n",
    "                     30)"
   ]
  },
  {
   "cell_type": "code",
   "execution_count": 22,
   "metadata": {},
   "outputs": [],
   "source": [
    "# Filter out all transaction amounts that are greater than 5000\n",
    "trans_df_ne = trans_df[trans_df['Transaction Amount'] <= 5000]\n",
    "trans_df_ne = trans_df_ne[trans_df_ne['Transaction Amount'] > 0]\n",
    "\n",
    "trans_df_ne = trans_df_ne[trans_df_ne['No. of Litres'] <= 200]\n",
    "\n",
    "histogram_side_by_side(trans_df_ne, 'Transaction Amount', trans_df_ne, 'No. of Litres',\n",
    "                       'Transaction Amount', 'Number of Litres', \n",
    "                     '../plots/eda/transaction_amount.pdf', \n",
    "                     20)"
   ]
  },
  {
   "cell_type": "code",
   "execution_count": 23,
   "metadata": {},
   "outputs": [],
   "source": [
    "histogram_side_by_side(trans_df_ne, 'Days Between Transactions', vehicle_df, 'Average Days Between Transactions',\n",
    "                       'Transactions', 'Vehicles', \n",
    "                     '../plots/eda/days_between_transactions.pdf', \n",
    "                     20)"
   ]
  },
  {
   "cell_type": "markdown",
   "metadata": {},
   "source": [
    "## Transaction and fleet amount means across different vars"
   ]
  },
  {
   "cell_type": "code",
   "execution_count": 14,
   "metadata": {},
   "outputs": [
    {
     "data": {
      "text/plain": [
       "Index(['Transaction Date', 'REG_NUM', 'Merchant Name', 'No. of Litres',\n",
       "       'Transaction Amount', 'VEHICLE MAKE', 'MODEL DERIVATIVE', 'DEPARTMENT',\n",
       "       'RATE CARD CATEGORY', 'Site', 'District', 'Site Lat', 'Site Long',\n",
       "       'Merchant Lat', 'Merchant Long', 'Fuel Type',\n",
       "       'Estimated Price Per Litre', 'Coastal Petrol', 'Inland Petrol',\n",
       "       'Coastal Diesel', 'Inland Diesel', 'Days_Between_Transactions'],\n",
       "      dtype='object')"
      ]
     },
     "execution_count": 14,
     "metadata": {},
     "output_type": "execute_result"
    }
   ],
   "source": [
    "trans_df.columns"
   ]
  },
  {
   "cell_type": "code",
   "execution_count": 58,
   "metadata": {},
   "outputs": [
    {
     "name": "stderr",
     "output_type": "stream",
     "text": [
      "/var/folders/v7/l0jq1cbd0fnf4ytmwzksxt0r0000gn/T/ipykernel_64108/3085069622.py:170: UserWarning: FixedFormatter should only be used together with FixedLocator\n",
      "  ax1.set_xticklabels(shortened_names, rotation=45, ha='right', fontsize=label_font_size)\n",
      "/var/folders/v7/l0jq1cbd0fnf4ytmwzksxt0r0000gn/T/ipykernel_64108/3085069622.py:176: UserWarning: FixedFormatter should only be used together with FixedLocator\n",
      "  ax2.set_xticklabels(shortened_names, rotation=45, ha='right', fontsize=label_font_size)\n",
      "/var/folders/v7/l0jq1cbd0fnf4ytmwzksxt0r0000gn/T/ipykernel_64108/3085069622.py:170: UserWarning: FixedFormatter should only be used together with FixedLocator\n",
      "  ax1.set_xticklabels(shortened_names, rotation=45, ha='right', fontsize=label_font_size)\n",
      "/var/folders/v7/l0jq1cbd0fnf4ytmwzksxt0r0000gn/T/ipykernel_64108/3085069622.py:176: UserWarning: FixedFormatter should only be used together with FixedLocator\n",
      "  ax2.set_xticklabels(shortened_names, rotation=45, ha='right', fontsize=label_font_size)\n",
      "/var/folders/v7/l0jq1cbd0fnf4ytmwzksxt0r0000gn/T/ipykernel_64108/3085069622.py:170: UserWarning: FixedFormatter should only be used together with FixedLocator\n",
      "  ax1.set_xticklabels(shortened_names, rotation=45, ha='right', fontsize=label_font_size)\n",
      "/var/folders/v7/l0jq1cbd0fnf4ytmwzksxt0r0000gn/T/ipykernel_64108/3085069622.py:176: UserWarning: FixedFormatter should only be used together with FixedLocator\n",
      "  ax2.set_xticklabels(shortened_names, rotation=45, ha='right', fontsize=label_font_size)\n",
      "/var/folders/v7/l0jq1cbd0fnf4ytmwzksxt0r0000gn/T/ipykernel_64108/3085069622.py:170: UserWarning: FixedFormatter should only be used together with FixedLocator\n",
      "  ax1.set_xticklabels(shortened_names, rotation=45, ha='right', fontsize=label_font_size)\n",
      "/var/folders/v7/l0jq1cbd0fnf4ytmwzksxt0r0000gn/T/ipykernel_64108/3085069622.py:176: UserWarning: FixedFormatter should only be used together with FixedLocator\n",
      "  ax2.set_xticklabels(shortened_names, rotation=45, ha='right', fontsize=label_font_size)\n",
      "/var/folders/v7/l0jq1cbd0fnf4ytmwzksxt0r0000gn/T/ipykernel_64108/3085069622.py:170: UserWarning: FixedFormatter should only be used together with FixedLocator\n",
      "  ax1.set_xticklabels(shortened_names, rotation=45, ha='right', fontsize=label_font_size)\n",
      "/var/folders/v7/l0jq1cbd0fnf4ytmwzksxt0r0000gn/T/ipykernel_64108/3085069622.py:176: UserWarning: FixedFormatter should only be used together with FixedLocator\n",
      "  ax2.set_xticklabels(shortened_names, rotation=45, ha='right', fontsize=label_font_size)\n",
      "/var/folders/v7/l0jq1cbd0fnf4ytmwzksxt0r0000gn/T/ipykernel_64108/3085069622.py:170: UserWarning: FixedFormatter should only be used together with FixedLocator\n",
      "  ax1.set_xticklabels(shortened_names, rotation=45, ha='right', fontsize=label_font_size)\n",
      "/var/folders/v7/l0jq1cbd0fnf4ytmwzksxt0r0000gn/T/ipykernel_64108/3085069622.py:176: UserWarning: FixedFormatter should only be used together with FixedLocator\n",
      "  ax2.set_xticklabels(shortened_names, rotation=45, ha='right', fontsize=label_font_size)\n",
      "/var/folders/v7/l0jq1cbd0fnf4ytmwzksxt0r0000gn/T/ipykernel_64108/3085069622.py:170: UserWarning: FixedFormatter should only be used together with FixedLocator\n",
      "  ax1.set_xticklabels(shortened_names, rotation=45, ha='right', fontsize=label_font_size)\n",
      "/var/folders/v7/l0jq1cbd0fnf4ytmwzksxt0r0000gn/T/ipykernel_64108/3085069622.py:176: UserWarning: FixedFormatter should only be used together with FixedLocator\n",
      "  ax2.set_xticklabels(shortened_names, rotation=45, ha='right', fontsize=label_font_size)\n"
     ]
    }
   ],
   "source": [
    "barplot_side_by_side(trans_df, 'VEHICLE MAKE', 'Transaction Amount', 'No. of Litres',\n",
    "                     'Transaction Amount', 'Number of Litres', \n",
    "                     '../plots/eda/biplot_make.pdf', \n",
    "                     25)\n",
    "\n",
    "barplot_side_by_side(trans_df, 'MODEL DERIVATIVE', 'Transaction Amount', 'No. of Litres',\n",
    "                     'Transaction Amount', 'Number of Litres', \n",
    "                     '../plots/eda/biplot_derivative.pdf', \n",
    "                     25)\n",
    "\n",
    "barplot_side_by_side(trans_df, 'DEPARTMENT', 'Transaction Amount', 'No. of Litres',\n",
    "                     'Transaction Amount', 'Number of Litres', \n",
    "                     '../plots/eda/biplot_department.pdf', \n",
    "                     25)\n",
    "\n",
    "barplot_side_by_side(trans_df, 'RATE CARD CATEGORY', 'Transaction Amount', 'No. of Litres',\n",
    "                     'Transaction Amount', 'Number of Litres', \n",
    "                     '../plots/eda/biplot_category.pdf', \n",
    "                     25)\n",
    "\n",
    "barplot_side_by_side(trans_df, 'District', 'Transaction Amount', 'No. of Litres',\n",
    "                     'Transaction Amount', 'Number of Litres', \n",
    "                     '../plots/eda/biplot_district.pdf', \n",
    "                     25)\n",
    "\n",
    "barplot_side_by_side(trans_df, 'Month Name', 'Transaction Amount', 'No. of Litres',\n",
    "                     'Transaction Amount', 'Number of Litres', \n",
    "                     '../plots/eda/biplot_month.pdf', \n",
    "                     25)\n",
    "\n",
    "barplot_side_by_side(trans_df, 'Weekday Name', 'Transaction Amount', 'No. of Litres',\n",
    "                     'Transaction Amount', 'Number of Litres', \n",
    "                     '../plots/eda/biplot_wday.pdf', \n",
    "                     25)"
   ]
  },
  {
   "cell_type": "code",
   "execution_count": 25,
   "metadata": {},
   "outputs": [],
   "source": [
    "# Define the bins for the different bands\n",
    "bins = [0, 2, 5, 10, 20, 30, float('inf')]\n",
    "\n",
    "# Define the labels for the different bands\n",
    "labels = ['< 2 days', '2-5 days', '5-10 days', '10-20 days', '20-30 days', '> 30 days']\n",
    "\n",
    "# Create the categorical variable using pd.cut()\n",
    "trans_df['Days Between Transactions Category'] = pd.cut(trans_df['Days Between Transactions'], bins=bins, labels=labels)\n"
   ]
  },
  {
   "cell_type": "code",
   "execution_count": 33,
   "metadata": {},
   "outputs": [
    {
     "name": "stderr",
     "output_type": "stream",
     "text": [
      "/var/folders/v7/l0jq1cbd0fnf4ytmwzksxt0r0000gn/T/ipykernel_65099/1239568036.py:170: UserWarning: FixedFormatter should only be used together with FixedLocator\n",
      "  ax1.set_xticklabels(shortened_names, rotation=45, ha='right', fontsize=label_font_size)\n",
      "/var/folders/v7/l0jq1cbd0fnf4ytmwzksxt0r0000gn/T/ipykernel_65099/1239568036.py:182: UserWarning: FixedFormatter should only be used together with FixedLocator\n",
      "  ax2.set_xticklabels(shortened_names, rotation=45, ha='right', fontsize=label_font_size)\n",
      "posx and posy should be finite values\n",
      "posx and posy should be finite values\n",
      "posx and posy should be finite values\n",
      "posx and posy should be finite values\n",
      "posx and posy should be finite values\n",
      "posx and posy should be finite values\n"
     ]
    }
   ],
   "source": [
    "barplot_side_by_side(trans_df, 'Days Between Transactions Category', 'Transaction Amount', 'No. of Litres',\n",
    "                     'Transaction Amount', 'Number of Litres', \n",
    "                     '../plots/eda/biplot_numdays.pdf', \n",
    "                     25, show_obs_count=True)"
   ]
  },
  {
   "cell_type": "code",
   "execution_count": 59,
   "metadata": {},
   "outputs": [],
   "source": [
    "# Save the filtered dataset to a new CSV file\n",
    "trans_df.to_csv(os.path.join(\"..\", \"data\", \"Final for clustering.csv\"), index=False)"
   ]
  },
  {
   "cell_type": "code",
   "execution_count": 21,
   "metadata": {},
   "outputs": [
    {
     "data": {
      "text/plain": [
       "533                    NISSAN PATROL 3.0 TDI 4X4 P/U\n",
       "633                           NISSAN PATROL 3.0DI GL\n",
       "773    TOYOTA LAND CRUISER 79 PICK UP 4.2 DIESEL S/C\n",
       "774            LANDCRUISER 79 PICK UP 4.2 DIESEL S/C\n",
       "Name: MODEL DERIVATIVE, dtype: object"
      ]
     },
     "execution_count": 21,
     "metadata": {},
     "output_type": "execute_result"
    }
   ],
   "source": [
    "# List the first five model derivatives for vehicles that contain \"12\" in rate card category\n",
    "vehicle_df[vehicle_df['RATE CARD CATEGORY'].str.contains('12')]['MODEL DERIVATIVE'].head()"
   ]
  },
  {
   "cell_type": "code",
   "execution_count": 34,
   "metadata": {},
   "outputs": [
    {
     "data": {
      "text/plain": [
       "Index(['Transaction Date', 'REG_NUM', 'Merchant Name', 'No. of Litres',\n",
       "       'Transaction Amount', 'VEHICLE MAKE', 'MODEL DERIVATIVE', 'DEPARTMENT',\n",
       "       'RATE CARD CATEGORY', 'Site', 'District', 'Site Lat', 'Site Long',\n",
       "       'Merchant Lat', 'Merchant Long', 'Fuel Type',\n",
       "       'Estimated Price Per Litre', 'Coastal Petrol', 'Inland Petrol',\n",
       "       'Coastal Diesel', 'Inland Diesel', 'Days_Between_Transactions',\n",
       "       'Days Between Transactions', 'Days Between Transactions Category'],\n",
       "      dtype='object')"
      ]
     },
     "execution_count": 34,
     "metadata": {},
     "output_type": "execute_result"
    }
   ],
   "source": [
    "trans_df.columns"
   ]
  },
  {
   "cell_type": "code",
   "execution_count": 35,
   "metadata": {},
   "outputs": [],
   "source": [
    "# Save the 'REG_NUM', 'Merchant Lat' and 'Merchant Long' to a new CSV file\n",
    "trans_df[['REG_NUM', 'Merchant Lat', 'Merchant Long']].to_csv(os.path.join(\"..\", \"data\", \"Final for QGIS.csv\"), index=False)"
   ]
  },
  {
   "cell_type": "code",
   "execution_count": 36,
   "metadata": {},
   "outputs": [
    {
     "data": {
      "text/html": [
       "<div>\n",
       "<style scoped>\n",
       "    .dataframe tbody tr th:only-of-type {\n",
       "        vertical-align: middle;\n",
       "    }\n",
       "\n",
       "    .dataframe tbody tr th {\n",
       "        vertical-align: top;\n",
       "    }\n",
       "\n",
       "    .dataframe thead th {\n",
       "        text-align: right;\n",
       "    }\n",
       "</style>\n",
       "<table border=\"1\" class=\"dataframe\">\n",
       "  <thead>\n",
       "    <tr style=\"text-align: right;\">\n",
       "      <th></th>\n",
       "      <th>REG_NUM</th>\n",
       "      <th>Merchant Lat</th>\n",
       "      <th>Merchant Long</th>\n",
       "    </tr>\n",
       "  </thead>\n",
       "  <tbody>\n",
       "    <tr>\n",
       "      <th>784</th>\n",
       "      <td>GGA001EC</td>\n",
       "      <td>-31.593486</td>\n",
       "      <td>28.766973</td>\n",
       "    </tr>\n",
       "    <tr>\n",
       "      <th>1494</th>\n",
       "      <td>GGA001EC</td>\n",
       "      <td>-32.296840</td>\n",
       "      <td>26.419389</td>\n",
       "    </tr>\n",
       "    <tr>\n",
       "      <th>2101</th>\n",
       "      <td>GGA001EC</td>\n",
       "      <td>-32.296840</td>\n",
       "      <td>26.419389</td>\n",
       "    </tr>\n",
       "    <tr>\n",
       "      <th>2745</th>\n",
       "      <td>GGA001EC</td>\n",
       "      <td>-31.966873</td>\n",
       "      <td>28.681895</td>\n",
       "    </tr>\n",
       "    <tr>\n",
       "      <th>6984</th>\n",
       "      <td>GGA001EC</td>\n",
       "      <td>-31.966873</td>\n",
       "      <td>28.681895</td>\n",
       "    </tr>\n",
       "    <tr>\n",
       "      <th>...</th>\n",
       "      <td>...</td>\n",
       "      <td>...</td>\n",
       "      <td>...</td>\n",
       "    </tr>\n",
       "    <tr>\n",
       "      <th>160282</th>\n",
       "      <td>JXF309EC</td>\n",
       "      <td>-31.593486</td>\n",
       "      <td>28.766973</td>\n",
       "    </tr>\n",
       "    <tr>\n",
       "      <th>175929</th>\n",
       "      <td>JXF309EC</td>\n",
       "      <td>-32.296840</td>\n",
       "      <td>26.419389</td>\n",
       "    </tr>\n",
       "    <tr>\n",
       "      <th>175930</th>\n",
       "      <td>JXL688EC</td>\n",
       "      <td>-32.962294</td>\n",
       "      <td>27.918471</td>\n",
       "    </tr>\n",
       "    <tr>\n",
       "      <th>175931</th>\n",
       "      <td>JXL688EC</td>\n",
       "      <td>-32.296840</td>\n",
       "      <td>26.419389</td>\n",
       "    </tr>\n",
       "    <tr>\n",
       "      <th>175932</th>\n",
       "      <td>JXL688EC</td>\n",
       "      <td>-32.296840</td>\n",
       "      <td>26.419389</td>\n",
       "    </tr>\n",
       "  </tbody>\n",
       "</table>\n",
       "<p>175933 rows × 3 columns</p>\n",
       "</div>"
      ],
      "text/plain": [
       "         REG_NUM  Merchant Lat  Merchant Long\n",
       "784     GGA001EC    -31.593486      28.766973\n",
       "1494    GGA001EC    -32.296840      26.419389\n",
       "2101    GGA001EC    -32.296840      26.419389\n",
       "2745    GGA001EC    -31.966873      28.681895\n",
       "6984    GGA001EC    -31.966873      28.681895\n",
       "...          ...           ...            ...\n",
       "160282  JXF309EC    -31.593486      28.766973\n",
       "175929  JXF309EC    -32.296840      26.419389\n",
       "175930  JXL688EC    -32.962294      27.918471\n",
       "175931  JXL688EC    -32.296840      26.419389\n",
       "175932  JXL688EC    -32.296840      26.419389\n",
       "\n",
       "[175933 rows x 3 columns]"
      ]
     },
     "execution_count": 36,
     "metadata": {},
     "output_type": "execute_result"
    }
   ],
   "source": [
    "trans_df[['REG_NUM', 'Merchant Lat', 'Merchant Long']]"
   ]
  },
  {
   "cell_type": "code",
   "execution_count": null,
   "metadata": {},
   "outputs": [],
   "source": []
  }
 ],
 "metadata": {
  "kernelspec": {
   "display_name": "scientificProject",
   "language": "python",
   "name": "python3"
  },
  "language_info": {
   "codemirror_mode": {
    "name": "ipython",
    "version": 3
   },
   "file_extension": ".py",
   "mimetype": "text/x-python",
   "name": "python",
   "nbconvert_exporter": "python",
   "pygments_lexer": "ipython3",
   "version": "3.10.12"
  }
 },
 "nbformat": 4,
 "nbformat_minor": 2
}
