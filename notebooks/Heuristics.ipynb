{
 "cells": [
  {
   "cell_type": "code",
   "execution_count": 37,
   "id": "80a10844",
   "metadata": {},
   "outputs": [],
   "source": [
    "import pandas as pd\n",
    "import openpyxl\n",
    "import os\n",
    "import tslearn\n",
    "\n",
    "# Read in the dataset\n",
    "data = pd.read_csv(os.path.join(\"..\", \"data\", \"Final for clustering.csv\"))\n",
    "kmpl_data = pd.read_csv(os.path.join(\"..\", \"data\", \"Final KMPL dataset.csv\"))"
   ]
  },
  {
   "cell_type": "code",
   "execution_count": 38,
   "id": "d4096c4d",
   "metadata": {},
   "outputs": [
    {
     "data": {
      "text/plain": [
       "Index(['Transaction Date', 'REG_NUM', 'Merchant Name', 'No. of Litres',\n",
       "       'Transaction Amount', 'VEHICLE MAKE', 'MODEL DERIVATIVE', 'DEPARTMENT',\n",
       "       'RATE CARD CATEGORY', 'Site', 'District', 'Site Lat', 'Site Long',\n",
       "       'Merchant Lat', 'Merchant Long', 'Fuel Type',\n",
       "       'Estimated Price Per Litre', 'Coastal Petrol', 'Inland Petrol',\n",
       "       'Coastal Diesel', 'Inland Diesel', 'Month Name', 'Weekday Name'],\n",
       "      dtype='object')"
      ]
     },
     "execution_count": 38,
     "metadata": {},
     "output_type": "execute_result"
    }
   ],
   "source": [
    "data.columns"
   ]
  },
  {
   "cell_type": "code",
   "execution_count": 39,
   "id": "271e3ac5",
   "metadata": {},
   "outputs": [],
   "source": [
    "# Calculate the average transaction amount for each vehicle category\n",
    "data['Average_Category_Amount'] = data.groupby(['RATE CARD CATEGORY', 'District', 'Month Name'])['Transaction Amount'].transform('mean')"
   ]
  },
  {
   "cell_type": "code",
   "execution_count": 40,
   "id": "a7d10559",
   "metadata": {},
   "outputs": [],
   "source": [
    "# Flag transaction amounts that are large for a category\n",
    "data['Transaction_Amount_Flag'] = data['Transaction Amount'] > data['Average_Category_Amount'] * 1.5"
   ]
  },
  {
   "cell_type": "code",
   "execution_count": 41,
   "id": "fc811913",
   "metadata": {},
   "outputs": [
    {
     "data": {
      "text/plain": [
       "Transaction_Amount_Flag\n",
       "False    174280\n",
       "True       1653\n",
       "Name: count, dtype: int64"
      ]
     },
     "execution_count": 41,
     "metadata": {},
     "output_type": "execute_result"
    }
   ],
   "source": [
    "# Check the value counts of the flag\n",
    "data['Transaction_Amount_Flag'].value_counts()"
   ]
  },
  {
   "cell_type": "markdown",
   "id": "a99279ad",
   "metadata": {},
   "source": [
    "# Flag tranactions where the days between transactions are less than 2"
   ]
  },
  {
   "cell_type": "code",
   "execution_count": 42,
   "id": "aac1df6a",
   "metadata": {},
   "outputs": [],
   "source": [
    "# Convert 'Transaction Date' to datetime\n",
    "data['Transaction Date'] = pd.to_datetime(data['Transaction Date'])\n",
    "\n",
    "# Sort data by 'REG_NUM' and 'Transaction Date'\n",
    "data.sort_values(by=['REG_NUM', 'Transaction Date'], inplace=True)\n",
    "\n",
    "# Calculate the difference in days between transactions for each vehicle\n",
    "data['Days_Between_Transactions'] = data.groupby('REG_NUM')['Transaction Date'].diff().dt.days\n",
    "\n",
    "# Flag transactions that occur too frequently (less than 2 days apart) and the transaction amount is greater than the average transaction amount for that vehicle category\n",
    "data['Transaction_Frequency_Flag'] = (data['Days_Between_Transactions'] < 2) & (data['Transaction Amount'] > data['Average_Category_Amount'])\n"
   ]
  },
  {
   "cell_type": "code",
   "execution_count": 43,
   "id": "2619c3b3",
   "metadata": {},
   "outputs": [
    {
     "data": {
      "text/plain": [
       "Transaction_Frequency_Flag\n",
       "False    149260\n",
       "True      26673\n",
       "Name: count, dtype: int64"
      ]
     },
     "execution_count": 43,
     "metadata": {},
     "output_type": "execute_result"
    }
   ],
   "source": [
    "# Check the value counts of the flag\n",
    "data['Transaction_Frequency_Flag'].value_counts()"
   ]
  },
  {
   "cell_type": "code",
   "execution_count": 44,
   "id": "29759c92",
   "metadata": {},
   "outputs": [
    {
     "data": {
      "text/html": [
       "<div>\n",
       "<style scoped>\n",
       "    .dataframe tbody tr th:only-of-type {\n",
       "        vertical-align: middle;\n",
       "    }\n",
       "\n",
       "    .dataframe tbody tr th {\n",
       "        vertical-align: top;\n",
       "    }\n",
       "\n",
       "    .dataframe thead th {\n",
       "        text-align: right;\n",
       "    }\n",
       "</style>\n",
       "<table border=\"1\" class=\"dataframe\">\n",
       "  <thead>\n",
       "    <tr style=\"text-align: right;\">\n",
       "      <th></th>\n",
       "      <th>Transaction Date</th>\n",
       "      <th>REG_NUM</th>\n",
       "      <th>Merchant Name</th>\n",
       "      <th>No. of Litres</th>\n",
       "      <th>Transaction Amount</th>\n",
       "      <th>VEHICLE MAKE</th>\n",
       "      <th>MODEL DERIVATIVE</th>\n",
       "      <th>DEPARTMENT</th>\n",
       "      <th>RATE CARD CATEGORY</th>\n",
       "      <th>Site</th>\n",
       "      <th>...</th>\n",
       "      <th>Coastal Petrol</th>\n",
       "      <th>Inland Petrol</th>\n",
       "      <th>Coastal Diesel</th>\n",
       "      <th>Inland Diesel</th>\n",
       "      <th>Month Name</th>\n",
       "      <th>Weekday Name</th>\n",
       "      <th>Average_Category_Amount</th>\n",
       "      <th>Transaction_Amount_Flag</th>\n",
       "      <th>Days_Between_Transactions</th>\n",
       "      <th>Transaction_Frequency_Flag</th>\n",
       "    </tr>\n",
       "  </thead>\n",
       "  <tbody>\n",
       "    <tr>\n",
       "      <th>56250</th>\n",
       "      <td>2021-07-23</td>\n",
       "      <td>GGG063EC</td>\n",
       "      <td>Skulpspruit Motors</td>\n",
       "      <td>66.92</td>\n",
       "      <td>1097.60</td>\n",
       "      <td>ISUZU</td>\n",
       "      <td>250 D/C HI-RIDE GEN 6</td>\n",
       "      <td>HEALTH</td>\n",
       "      <td>6: LDV 4x2 D/Cab</td>\n",
       "      <td>Empilisweni Hospital *P</td>\n",
       "      <td>...</td>\n",
       "      <td>16.67</td>\n",
       "      <td>17.39</td>\n",
       "      <td>14.4712</td>\n",
       "      <td>15.0862</td>\n",
       "      <td>July</td>\n",
       "      <td>Friday</td>\n",
       "      <td>997.997328</td>\n",
       "      <td>False</td>\n",
       "      <td>0.0</td>\n",
       "      <td>True</td>\n",
       "    </tr>\n",
       "    <tr>\n",
       "      <th>17010</th>\n",
       "      <td>2021-05-26</td>\n",
       "      <td>GGA464EC</td>\n",
       "      <td>East Cape Agric Co-Op Somerset East</td>\n",
       "      <td>59.10</td>\n",
       "      <td>913.10</td>\n",
       "      <td>VOLKSWAGEN</td>\n",
       "      <td>VW CRAFTER 50 2.0 TDI XLWB AMBULANCE</td>\n",
       "      <td>EMERGENCY MEDICAL SERVICES</td>\n",
       "      <td>18: Ambulances Large p/van</td>\n",
       "      <td>Humansdorp</td>\n",
       "      <td>...</td>\n",
       "      <td>16.51</td>\n",
       "      <td>17.23</td>\n",
       "      <td>13.8512</td>\n",
       "      <td>14.4662</td>\n",
       "      <td>May</td>\n",
       "      <td>Wednesday</td>\n",
       "      <td>776.882831</td>\n",
       "      <td>False</td>\n",
       "      <td>1.0</td>\n",
       "      <td>True</td>\n",
       "    </tr>\n",
       "    <tr>\n",
       "      <th>6594</th>\n",
       "      <td>2021-04-15</td>\n",
       "      <td>GGZ358EC</td>\n",
       "      <td>Maclear Motor &amp; Tractor Maclear</td>\n",
       "      <td>51.25</td>\n",
       "      <td>894.35</td>\n",
       "      <td>NISSAN</td>\n",
       "      <td>NISSAN NV350 2.5 16 SEAT IMPEN</td>\n",
       "      <td>GFMS RENTAL DESK</td>\n",
       "      <td>15: Minibus 14-16 seater</td>\n",
       "      <td>Unknown</td>\n",
       "      <td>...</td>\n",
       "      <td>16.60</td>\n",
       "      <td>17.32</td>\n",
       "      <td>14.1612</td>\n",
       "      <td>14.7762</td>\n",
       "      <td>April</td>\n",
       "      <td>Thursday</td>\n",
       "      <td>818.130195</td>\n",
       "      <td>False</td>\n",
       "      <td>0.0</td>\n",
       "      <td>True</td>\n",
       "    </tr>\n",
       "    <tr>\n",
       "      <th>143569</th>\n",
       "      <td>2021-12-15</td>\n",
       "      <td>GGA276EC</td>\n",
       "      <td>Shell Ultra City</td>\n",
       "      <td>71.81</td>\n",
       "      <td>1419.05</td>\n",
       "      <td>ISUZU</td>\n",
       "      <td>D-MAX 250 HO 4X4 REGULAR CAB HI-RIDER</td>\n",
       "      <td>EMERGENCY MEDICAL SERVICES</td>\n",
       "      <td>8: LDV Ambulance</td>\n",
       "      <td>Ss Gida</td>\n",
       "      <td>...</td>\n",
       "      <td>19.57</td>\n",
       "      <td>20.29</td>\n",
       "      <td>17.3098</td>\n",
       "      <td>17.9248</td>\n",
       "      <td>December</td>\n",
       "      <td>Wednesday</td>\n",
       "      <td>1052.448000</td>\n",
       "      <td>False</td>\n",
       "      <td>1.0</td>\n",
       "      <td>True</td>\n",
       "    </tr>\n",
       "    <tr>\n",
       "      <th>114275</th>\n",
       "      <td>2021-10-12</td>\n",
       "      <td>GGG577EC</td>\n",
       "      <td>King Service Station</td>\n",
       "      <td>50.05</td>\n",
       "      <td>886.90</td>\n",
       "      <td>VOLKSWAGEN</td>\n",
       "      <td>VW POLO VIVO 1.6 SEDAN</td>\n",
       "      <td>SOCIAL DEVELOPMENT</td>\n",
       "      <td>1: Sedan 1400-1600cc</td>\n",
       "      <td>Unknown</td>\n",
       "      <td>...</td>\n",
       "      <td>17.61</td>\n",
       "      <td>18.33</td>\n",
       "      <td>15.1028</td>\n",
       "      <td>15.7178</td>\n",
       "      <td>October</td>\n",
       "      <td>Tuesday</td>\n",
       "      <td>711.597017</td>\n",
       "      <td>False</td>\n",
       "      <td>0.0</td>\n",
       "      <td>True</td>\n",
       "    </tr>\n",
       "    <tr>\n",
       "      <th>111011</th>\n",
       "      <td>2021-10-01</td>\n",
       "      <td>GGF929EC</td>\n",
       "      <td>Ku Bha Service Stati</td>\n",
       "      <td>39.39</td>\n",
       "      <td>712.17</td>\n",
       "      <td>TOYOTA</td>\n",
       "      <td>TOYOTA COROLLA QUEST 1.6</td>\n",
       "      <td>HEALTH</td>\n",
       "      <td>1: Sedan 1400-1600cc</td>\n",
       "      <td>Lilitha Nursing Col - Lusikisiki *P</td>\n",
       "      <td>...</td>\n",
       "      <td>17.62</td>\n",
       "      <td>18.34</td>\n",
       "      <td>14.8748</td>\n",
       "      <td>15.4898</td>\n",
       "      <td>October</td>\n",
       "      <td>Friday</td>\n",
       "      <td>701.481161</td>\n",
       "      <td>False</td>\n",
       "      <td>1.0</td>\n",
       "      <td>True</td>\n",
       "    </tr>\n",
       "    <tr>\n",
       "      <th>145455</th>\n",
       "      <td>2021-11-29</td>\n",
       "      <td>GGA468EC</td>\n",
       "      <td>Total Oxford East London</td>\n",
       "      <td>65.70</td>\n",
       "      <td>1264.95</td>\n",
       "      <td>VOLKSWAGEN</td>\n",
       "      <td>VW CRAFTER 50 2.0 TDI XLWB AMBULANCE</td>\n",
       "      <td>EMERGENCY MEDICAL SERVICES</td>\n",
       "      <td>18: Ambulances Large p/van</td>\n",
       "      <td>East London</td>\n",
       "      <td>...</td>\n",
       "      <td>18.82</td>\n",
       "      <td>19.54</td>\n",
       "      <td>16.5848</td>\n",
       "      <td>17.1998</td>\n",
       "      <td>November</td>\n",
       "      <td>Monday</td>\n",
       "      <td>860.824646</td>\n",
       "      <td>False</td>\n",
       "      <td>1.0</td>\n",
       "      <td>True</td>\n",
       "    </tr>\n",
       "    <tr>\n",
       "      <th>6792</th>\n",
       "      <td>2021-04-16</td>\n",
       "      <td>GGA323EC</td>\n",
       "      <td>Maclear Motor &amp; Tractor Maclear</td>\n",
       "      <td>60.00</td>\n",
       "      <td>964.80</td>\n",
       "      <td>VOLKSWAGEN</td>\n",
       "      <td>VW CRAFTER PANEL VAN AMBULANCE</td>\n",
       "      <td>EMERGENCY MEDICAL SERVICES</td>\n",
       "      <td>18: Ambulances Large p/van</td>\n",
       "      <td>Unknown</td>\n",
       "      <td>...</td>\n",
       "      <td>16.60</td>\n",
       "      <td>17.32</td>\n",
       "      <td>14.1612</td>\n",
       "      <td>14.7762</td>\n",
       "      <td>April</td>\n",
       "      <td>Friday</td>\n",
       "      <td>865.535769</td>\n",
       "      <td>False</td>\n",
       "      <td>0.0</td>\n",
       "      <td>True</td>\n",
       "    </tr>\n",
       "    <tr>\n",
       "      <th>174219</th>\n",
       "      <td>2022-01-19</td>\n",
       "      <td>GGY973EC</td>\n",
       "      <td>Pz Motors &amp; Towing Flagstaff</td>\n",
       "      <td>70.57</td>\n",
       "      <td>1356.35</td>\n",
       "      <td>ISUZU</td>\n",
       "      <td>KB 250C BASE REGULAR CAB</td>\n",
       "      <td>SOCIAL DEVELOPMENT</td>\n",
       "      <td>5: LDV 4x2 1 ton</td>\n",
       "      <td>Unknown</td>\n",
       "      <td>...</td>\n",
       "      <td>18.89</td>\n",
       "      <td>19.61</td>\n",
       "      <td>16.6318</td>\n",
       "      <td>17.2468</td>\n",
       "      <td>January</td>\n",
       "      <td>Wednesday</td>\n",
       "      <td>1076.547636</td>\n",
       "      <td>False</td>\n",
       "      <td>1.0</td>\n",
       "      <td>True</td>\n",
       "    </tr>\n",
       "    <tr>\n",
       "      <th>46027</th>\n",
       "      <td>2021-06-10</td>\n",
       "      <td>GGZ487EC</td>\n",
       "      <td>Total Idutywa</td>\n",
       "      <td>44.28</td>\n",
       "      <td>738.59</td>\n",
       "      <td>TOYOTA</td>\n",
       "      <td>TOYOTA COROLLA QUEST 1.6</td>\n",
       "      <td>EDUCATION</td>\n",
       "      <td>1: Sedan 1400-1600cc</td>\n",
       "      <td>Unknown</td>\n",
       "      <td>...</td>\n",
       "      <td>16.41</td>\n",
       "      <td>17.13</td>\n",
       "      <td>14.0512</td>\n",
       "      <td>14.6662</td>\n",
       "      <td>June</td>\n",
       "      <td>Thursday</td>\n",
       "      <td>646.725939</td>\n",
       "      <td>False</td>\n",
       "      <td>1.0</td>\n",
       "      <td>True</td>\n",
       "    </tr>\n",
       "  </tbody>\n",
       "</table>\n",
       "<p>10 rows × 27 columns</p>\n",
       "</div>"
      ],
      "text/plain": [
       "       Transaction Date   REG_NUM                        Merchant Name  \\\n",
       "56250        2021-07-23  GGG063EC                   Skulpspruit Motors   \n",
       "17010        2021-05-26  GGA464EC  East Cape Agric Co-Op Somerset East   \n",
       "6594         2021-04-15  GGZ358EC      Maclear Motor & Tractor Maclear   \n",
       "143569       2021-12-15  GGA276EC                     Shell Ultra City   \n",
       "114275       2021-10-12  GGG577EC                 King Service Station   \n",
       "111011       2021-10-01  GGF929EC                 Ku Bha Service Stati   \n",
       "145455       2021-11-29  GGA468EC             Total Oxford East London   \n",
       "6792         2021-04-16  GGA323EC      Maclear Motor & Tractor Maclear   \n",
       "174219       2022-01-19  GGY973EC         Pz Motors & Towing Flagstaff   \n",
       "46027        2021-06-10  GGZ487EC                        Total Idutywa   \n",
       "\n",
       "        No. of Litres  Transaction Amount VEHICLE MAKE  \\\n",
       "56250           66.92             1097.60        ISUZU   \n",
       "17010           59.10              913.10   VOLKSWAGEN   \n",
       "6594            51.25              894.35       NISSAN   \n",
       "143569          71.81             1419.05        ISUZU   \n",
       "114275          50.05              886.90   VOLKSWAGEN   \n",
       "111011          39.39              712.17       TOYOTA   \n",
       "145455          65.70             1264.95   VOLKSWAGEN   \n",
       "6792            60.00              964.80   VOLKSWAGEN   \n",
       "174219          70.57             1356.35        ISUZU   \n",
       "46027           44.28              738.59       TOYOTA   \n",
       "\n",
       "                             MODEL DERIVATIVE                  DEPARTMENT  \\\n",
       "56250                   250 D/C HI-RIDE GEN 6                      HEALTH   \n",
       "17010    VW CRAFTER 50 2.0 TDI XLWB AMBULANCE  EMERGENCY MEDICAL SERVICES   \n",
       "6594           NISSAN NV350 2.5 16 SEAT IMPEN            GFMS RENTAL DESK   \n",
       "143569  D-MAX 250 HO 4X4 REGULAR CAB HI-RIDER  EMERGENCY MEDICAL SERVICES   \n",
       "114275                 VW POLO VIVO 1.6 SEDAN          SOCIAL DEVELOPMENT   \n",
       "111011               TOYOTA COROLLA QUEST 1.6                      HEALTH   \n",
       "145455   VW CRAFTER 50 2.0 TDI XLWB AMBULANCE  EMERGENCY MEDICAL SERVICES   \n",
       "6792           VW CRAFTER PANEL VAN AMBULANCE  EMERGENCY MEDICAL SERVICES   \n",
       "174219               KB 250C BASE REGULAR CAB          SOCIAL DEVELOPMENT   \n",
       "46027                TOYOTA COROLLA QUEST 1.6                   EDUCATION   \n",
       "\n",
       "                 RATE CARD CATEGORY                                 Site  ...  \\\n",
       "56250              6: LDV 4x2 D/Cab              Empilisweni Hospital *P  ...   \n",
       "17010    18: Ambulances Large p/van                           Humansdorp  ...   \n",
       "6594       15: Minibus 14-16 seater                              Unknown  ...   \n",
       "143569             8: LDV Ambulance                              Ss Gida  ...   \n",
       "114275         1: Sedan 1400-1600cc                              Unknown  ...   \n",
       "111011         1: Sedan 1400-1600cc  Lilitha Nursing Col - Lusikisiki *P  ...   \n",
       "145455   18: Ambulances Large p/van                          East London  ...   \n",
       "6792     18: Ambulances Large p/van                              Unknown  ...   \n",
       "174219            5: LDV 4x2 1 ton                               Unknown  ...   \n",
       "46027          1: Sedan 1400-1600cc                              Unknown  ...   \n",
       "\n",
       "       Coastal Petrol  Inland Petrol  Coastal Diesel  Inland Diesel  \\\n",
       "56250           16.67          17.39         14.4712        15.0862   \n",
       "17010           16.51          17.23         13.8512        14.4662   \n",
       "6594            16.60          17.32         14.1612        14.7762   \n",
       "143569          19.57          20.29         17.3098        17.9248   \n",
       "114275          17.61          18.33         15.1028        15.7178   \n",
       "111011          17.62          18.34         14.8748        15.4898   \n",
       "145455          18.82          19.54         16.5848        17.1998   \n",
       "6792            16.60          17.32         14.1612        14.7762   \n",
       "174219          18.89          19.61         16.6318        17.2468   \n",
       "46027           16.41          17.13         14.0512        14.6662   \n",
       "\n",
       "        Month Name Weekday Name  Average_Category_Amount  \\\n",
       "56250         July       Friday               997.997328   \n",
       "17010          May    Wednesday               776.882831   \n",
       "6594         April     Thursday               818.130195   \n",
       "143569    December    Wednesday              1052.448000   \n",
       "114275     October      Tuesday               711.597017   \n",
       "111011     October       Friday               701.481161   \n",
       "145455    November       Monday               860.824646   \n",
       "6792         April       Friday               865.535769   \n",
       "174219     January    Wednesday              1076.547636   \n",
       "46027         June     Thursday               646.725939   \n",
       "\n",
       "        Transaction_Amount_Flag  Days_Between_Transactions  \\\n",
       "56250                     False                        0.0   \n",
       "17010                     False                        1.0   \n",
       "6594                      False                        0.0   \n",
       "143569                    False                        1.0   \n",
       "114275                    False                        0.0   \n",
       "111011                    False                        1.0   \n",
       "145455                    False                        1.0   \n",
       "6792                      False                        0.0   \n",
       "174219                    False                        1.0   \n",
       "46027                     False                        1.0   \n",
       "\n",
       "        Transaction_Frequency_Flag  \n",
       "56250                         True  \n",
       "17010                         True  \n",
       "6594                          True  \n",
       "143569                        True  \n",
       "114275                        True  \n",
       "111011                        True  \n",
       "145455                        True  \n",
       "6792                          True  \n",
       "174219                        True  \n",
       "46027                         True  \n",
       "\n",
       "[10 rows x 27 columns]"
      ]
     },
     "execution_count": 44,
     "metadata": {},
     "output_type": "execute_result"
    }
   ],
   "source": [
    "# Display 10 random rows where the flag is True\n",
    "data[data['Transaction_Frequency_Flag']].sample(10)"
   ]
  },
  {
   "cell_type": "code",
   "execution_count": 45,
   "id": "cf813483",
   "metadata": {},
   "outputs": [
    {
     "data": {
      "text/plain": [
       "Index(['Transaction Date', 'REG_NUM', 'Merchant Name', 'No. of Litres',\n",
       "       'Transaction Amount', 'VEHICLE MAKE', 'MODEL DERIVATIVE', 'DEPARTMENT',\n",
       "       'RATE CARD CATEGORY', 'Site', 'District', 'Site Lat', 'Site Long',\n",
       "       'Merchant Lat', 'Merchant Long', 'Fuel Type',\n",
       "       'Estimated Price Per Litre', 'Coastal Petrol', 'Inland Petrol',\n",
       "       'Coastal Diesel', 'Inland Diesel', 'Month Name', 'Weekday Name',\n",
       "       'Average_Category_Amount', 'Transaction_Amount_Flag',\n",
       "       'Days_Between_Transactions', 'Transaction_Frequency_Flag'],\n",
       "      dtype='object')"
      ]
     },
     "execution_count": 45,
     "metadata": {},
     "output_type": "execute_result"
    }
   ],
   "source": [
    "data.columns"
   ]
  },
  {
   "cell_type": "code",
   "execution_count": 46,
   "id": "288203ab",
   "metadata": {},
   "outputs": [],
   "source": [
    "# Function to calculate if the difference exceeds the threshold for each transaction\n",
    "diesel_actual = [22.75, 23.34, 23.43] # Actual diesel price\n",
    "gov_price = 20.64 # Government price\n",
    "mean_diesel = sum(diesel_actual) / 3 # Mean diesel price\n",
    "diff = mean_diesel - gov_price # Difference between mean diesel price and government price\n",
    "\n",
    "# Create a new column called Coastal Diesel Adjusted for the difference\n",
    "data['Coastal Diesel Adjusted'] = data['Coastal Diesel'] + diff\n",
    "\n",
    "# Create a new column called price difference. If the Fuel Type is Diesel, the price difference is the difference between the Coastal Diesel Adjusted and the Government Price. If the Fuel Type is Petrol, the price difference is the difference between the Coastal Petrol and the Government Price\n",
    "data['Price Difference'] = data.apply(lambda row: abs(row['Coastal Diesel Adjusted'] - row['Estimated Price Per Litre']) if row['Fuel Type'] == 'Diesel' else abs(row['Coastal Petrol'] - row['Estimated Price Per Litre']), axis=1)\n",
    "\n",
    "# Create a Fuel Price Flag column that flags transactions where the price difference is greater than R1\n",
    "data['Fuel_Price_Flag'] = data['Price Difference'] > 1"
   ]
  },
  {
   "cell_type": "code",
   "execution_count": 47,
   "id": "c2b00336",
   "metadata": {},
   "outputs": [
    {
     "data": {
      "text/plain": [
       "Fuel_Price_Flag\n",
       "False    166307\n",
       "True       9626\n",
       "Name: count, dtype: int64"
      ]
     },
     "execution_count": 47,
     "metadata": {},
     "output_type": "execute_result"
    }
   ],
   "source": [
    "# Check the value counts of the flag\n",
    "data['Fuel_Price_Flag'].value_counts()"
   ]
  },
  {
   "cell_type": "code",
   "execution_count": 48,
   "id": "370b5266",
   "metadata": {},
   "outputs": [],
   "source": [
    "# Create a new variable called number of flags that counts the number of flags for each transaction as an integer\n",
    "data['Number_of_Flags'] = data['Transaction_Amount_Flag'].astype(int) + data['Transaction_Frequency_Flag'].astype(int) + data['Fuel_Price_Flag'].astype(int)\n",
    "\n",
    "# Convert Number_of_Flags to a categorical variable\n",
    "data['Number_of_Flags'] = data['Number_of_Flags'].astype('category')"
   ]
  },
  {
   "cell_type": "code",
   "execution_count": 49,
   "id": "a4340b50",
   "metadata": {},
   "outputs": [
    {
     "data": {
      "text/plain": [
       "Number_of_Flags\n",
       "0    140110\n",
       "1     33707\n",
       "2      2103\n",
       "3        13\n",
       "Name: count, dtype: int64"
      ]
     },
     "execution_count": 49,
     "metadata": {},
     "output_type": "execute_result"
    }
   ],
   "source": [
    "# Check the value counts of the flag\n",
    "data['Number_of_Flags'].value_counts()"
   ]
  },
  {
   "cell_type": "code",
   "execution_count": 50,
   "id": "0a20d70a",
   "metadata": {},
   "outputs": [],
   "source": [
    "# Save the data to a new file\n",
    "data.to_csv('../data/Final Transactions With Flags.csv', index=False)"
   ]
  },
  {
   "cell_type": "code",
   "execution_count": 51,
   "id": "dad0eb65",
   "metadata": {},
   "outputs": [],
   "source": [
    "kmpl_threshold = 5  # Set threshold for KMPL\n",
    "kmpl_data['KMPL_Flag'] = kmpl_data['KMPL'] < kmpl_threshold"
   ]
  },
  {
   "cell_type": "code",
   "execution_count": 52,
   "id": "44aff383",
   "metadata": {},
   "outputs": [
    {
     "data": {
      "text/plain": [
       "KMPL_Flag\n",
       "False    824\n",
       "True      78\n",
       "Name: count, dtype: int64"
      ]
     },
     "execution_count": 52,
     "metadata": {},
     "output_type": "execute_result"
    }
   ],
   "source": [
    "kmpl_data['KMPL_Flag'].value_counts()"
   ]
  },
  {
   "cell_type": "code",
   "execution_count": 53,
   "id": "628be8bb",
   "metadata": {},
   "outputs": [],
   "source": [
    "# Save the KMPL flagged data to a new file\n",
    "kmpl_data.to_csv('../data/2021 KMPL Flagged.csv', index=False)"
   ]
  },
  {
   "cell_type": "markdown",
   "id": "004bae0d",
   "metadata": {},
   "source": [
    "# Plots of the flag vs non-flag transactions against different features"
   ]
  },
  {
   "cell_type": "code",
   "execution_count": 59,
   "id": "68f1eb6e",
   "metadata": {},
   "outputs": [
    {
     "data": {
      "image/png": "[encoded data removed]",
      "text/plain": [
       "<Figure size 800x800 with 1 Axes>"
      ]
     },
     "metadata": {},
     "output_type": "display_data"
    }
   ],
   "source": [
    "# Plot of flag against transaction amount\n",
    "import matplotlib.pyplot as plt\n",
    "import seaborn as sns\n",
    "\n",
    "# Create a new dataframe called data2 with extreme values removed\n",
    "data2 = data[data['Transaction Amount'] < 5000]\n",
    "data2 = data2[data2['Transaction Amount'] > 0]\n",
    "\n",
    "# Setting the aesthetic style of the plots\n",
    "sns.set(style=\"whitegrid\")\n",
    "fig, ax = plt.subplots(figsize=(8, 8)) \n",
    "sns.boxplot(x='Number_of_Flags', y='Transaction Amount', data=data2, ax=ax, palette=\"cividis\")\n",
    "\n",
    "# Setting labels and titles\n",
    "ax.set_ylabel('Transaction Amount', fontsize=15) \n",
    "ax.set_xlabel('Number of Flags', fontsize=15)  \n",
    "plt.tight_layout()\n",
    "\n",
    "# Save the plot as a PDF file with high resolution\n",
    "plt.savefig('../plots/heuristics/flag_amount.pdf', format='pdf', dpi=300)"
   ]
  },
  {
   "cell_type": "code",
   "execution_count": 61,
   "id": "da7ce9cc",
   "metadata": {},
   "outputs": [
    {
     "data": {
      "image/png": "[encoded data removed]",
      "text/plain": [
       "<Figure size 800x800 with 1 Axes>"
      ]
     },
     "metadata": {},
     "output_type": "display_data"
    }
   ],
   "source": [
    "# Setting the aesthetic style of the plots\n",
    "sns.set(style=\"whitegrid\")\n",
    "fig, ax = plt.subplots(figsize=(8, 8)) \n",
    "sns.boxplot(x='Number_of_Flags', y='No. of Litres', data=data2, ax=ax, palette=\"cividis\")\n",
    "\n",
    "# Setting labels and titles\n",
    "ax.set_ylabel('Number of Litres', fontsize=15) \n",
    "ax.set_xlabel('Number of Flags', fontsize=15)  \n",
    "plt.tight_layout()\n",
    "\n",
    "# Save the plot as a PDF file with high resolution\n",
    "plt.savefig('../plots/heuristics/flag_litres.pdf', format='pdf', dpi=300)"
   ]
  },
  {
   "cell_type": "code",
   "execution_count": 69,
   "id": "464cd1ca",
   "metadata": {},
   "outputs": [],
   "source": [
    "import matplotlib.pyplot as plt\n",
    "import seaborn as sns\n",
    "import pandas as pd\n",
    "\n",
    "def shorten_names(names, max_length=20):\n",
    "    shortened_names = []\n",
    "    for name in names:\n",
    "        if len(name) > max_length:\n",
    "            shortened_names.append(name[:max_length] + '...')\n",
    "        else:\n",
    "            shortened_names.append(name)\n",
    "    return shortened_names\n",
    "\n",
    "def four_stacked_plots(data, categorical_vars, cluster_var, titles, filename, max_categories=8, max_length=20, color_theme='tab10'):\n",
    "    fig, axs = plt.subplots(2, 2, figsize=(10, 8))\n",
    "    axs = axs.ravel()\n",
    "\n",
    "    for i, (cat_var, title) in enumerate(zip(categorical_vars, titles)):\n",
    "        # Calculate the proportions of each category in each cluster\n",
    "        cluster_proportions = data.groupby([cluster_var, cat_var]).size().unstack(fill_value=0)\n",
    "        cluster_proportions = cluster_proportions.div(cluster_proportions.sum(axis=1), axis=0)\n",
    "\n",
    "        # Get the top categories and group the rest into \"Others\"\n",
    "        top_categories = cluster_proportions.sum().nlargest(max_categories).index\n",
    "        cluster_proportions[\"Others\"] = cluster_proportions.drop(columns=top_categories).sum(axis=1)\n",
    "        cluster_proportions = cluster_proportions[top_categories.tolist() + [\"Others\"]]\n",
    "\n",
    "        # Shorten the category names if necessary\n",
    "        shortened_names = shorten_names(cluster_proportions.columns, max_length=max_length)\n",
    "\n",
    "        # Get the specified color theme\n",
    "        color_scheme = plt.cm.get_cmap(color_theme, len(cluster_proportions.columns))\n",
    "        colors = color_scheme(range(len(cluster_proportions.columns)))\n",
    "\n",
    "        # Create the stacked bar chart in the corresponding subplot\n",
    "        cluster_proportions.plot(kind='bar', stacked=True, ax=axs[i], legend=False, color=colors)\n",
    "\n",
    "        axs[i].set_xticklabels(cluster_proportions.index, rotation=0, fontsize=12)\n",
    "        axs[i].set_xlabel('Number of flags', fontsize=14)\n",
    "        axs[i].set_ylabel('Proportion', fontsize=14)\n",
    "        axs[i].set_title(f\"{chr(97+i)}) {title}\")  # Prepend \"a) \", \"b) \", \"c) \", \"d) \" to the titles\n",
    "\n",
    "        # Create the legend for each subplot\n",
    "        axs[i].legend(title='Categories', fontsize=10, labels=shortened_names, loc='center left', bbox_to_anchor=(1, 0.5))\n",
    "\n",
    "    plt.tight_layout()\n",
    "    plt.savefig(filename, format='pdf', bbox_inches='tight')\n",
    "    plt.close(fig)"
   ]
  },
  {
   "cell_type": "code",
   "execution_count": 33,
   "id": "b64d6574",
   "metadata": {},
   "outputs": [
    {
     "data": {
      "text/plain": [
       "Index(['Transaction Date', 'REG_NUM', 'Merchant Name', 'Purchase Category',\n",
       "       'No. of Litres', 'Transaction Amount', 'Make', 'Model',\n",
       "       'Make and Model', 'Site', 'District', 'Category', 'Rental',\n",
       "       'Merchant Lat', 'Merchant Long', 'Site Lat', 'Site Long', 'Fuel Type',\n",
       "       'Actual Fuel Price', 'Actual Fuel Price Inland',\n",
       "       'Estimated Price Per Litre', 'Month Name', 'Weekday Name', 'YearMonth',\n",
       "       'AggClusterLabels', 'TransKmeansCluster', 'Average_Category_Amount',\n",
       "       'Transaction_Amount_Flag', 'Days_Between_Transactions',\n",
       "       'Transaction_Frequency_Flag', 'Fuel_Price_Flag', 'Flag', 'Reason'],\n",
       "      dtype='object')"
      ]
     },
     "execution_count": 33,
     "metadata": {},
     "output_type": "execute_result"
    }
   ],
   "source": [
    "data.columns"
   ]
  },
  {
   "cell_type": "code",
   "execution_count": 67,
   "id": "6132e309",
   "metadata": {},
   "outputs": [],
   "source": [
    "# Change the data type of 'Number_of_Flags' to 'category' and order the categories\n",
    "data['Number_of_Flags'] = data['Number_of_Flags'].astype('category')\n",
    "data['Number_of_Flags'] = data['Number_of_Flags'].cat.reorder_categories([0, 1, 2, 3])\n",
    "data['Number_of_Flags'] = data['Number_of_Flags'].cat.as_ordered()"
   ]
  },
  {
   "cell_type": "code",
   "execution_count": 71,
   "id": "12d03b28",
   "metadata": {},
   "outputs": [
    {
     "name": "stderr",
     "output_type": "stream",
     "text": [
      "/var/folders/v7/l0jq1cbd0fnf4ytmwzksxt0r0000gn/T/ipykernel_3015/1395826412.py:32: MatplotlibDeprecationWarning: The get_cmap function was deprecated in Matplotlib 3.7 and will be removed two minor releases later. Use ``matplotlib.colormaps[name]`` or ``matplotlib.colormaps.get_cmap(obj)`` instead.\n",
      "  color_scheme = plt.cm.get_cmap(color_theme, len(cluster_proportions.columns))\n",
      "/var/folders/v7/l0jq1cbd0fnf4ytmwzksxt0r0000gn/T/ipykernel_3015/1395826412.py:32: MatplotlibDeprecationWarning: The get_cmap function was deprecated in Matplotlib 3.7 and will be removed two minor releases later. Use ``matplotlib.colormaps[name]`` or ``matplotlib.colormaps.get_cmap(obj)`` instead.\n",
      "  color_scheme = plt.cm.get_cmap(color_theme, len(cluster_proportions.columns))\n",
      "/var/folders/v7/l0jq1cbd0fnf4ytmwzksxt0r0000gn/T/ipykernel_3015/1395826412.py:32: MatplotlibDeprecationWarning: The get_cmap function was deprecated in Matplotlib 3.7 and will be removed two minor releases later. Use ``matplotlib.colormaps[name]`` or ``matplotlib.colormaps.get_cmap(obj)`` instead.\n",
      "  color_scheme = plt.cm.get_cmap(color_theme, len(cluster_proportions.columns))\n",
      "/var/folders/v7/l0jq1cbd0fnf4ytmwzksxt0r0000gn/T/ipykernel_3015/1395826412.py:32: MatplotlibDeprecationWarning: The get_cmap function was deprecated in Matplotlib 3.7 and will be removed two minor releases later. Use ``matplotlib.colormaps[name]`` or ``matplotlib.colormaps.get_cmap(obj)`` instead.\n",
      "  color_scheme = plt.cm.get_cmap(color_theme, len(cluster_proportions.columns))\n"
     ]
    }
   ],
   "source": [
    "four_stacked_plots(data,\n",
    "                   ['MODEL DERIVATIVE', 'DEPARTMENT', 'District', 'RATE CARD CATEGORY'],\n",
    "                   'Number_of_Flags',\n",
    "                   ['Model Derivative', 'Department', 'District', 'Rate Card Category'],\n",
    "                   '../plots/heuristics/heuristics_categorical.pdf',\n",
    "                   max_categories=7, max_length=15)"
   ]
  }
 ],
 "metadata": {
  "kernelspec": {
   "display_name": "scientificProject",
   "language": "python",
   "name": "python3"
  },
  "language_info": {
   "codemirror_mode": {
    "name": "ipython",
    "version": 3
   },
   "file_extension": ".py",
   "mimetype": "text/x-python",
   "name": "python",
   "nbconvert_exporter": "python",
   "pygments_lexer": "ipython3",
   "version": "3.10.12"
  }
 },
 "nbformat": 4,
 "nbformat_minor": 5
}
